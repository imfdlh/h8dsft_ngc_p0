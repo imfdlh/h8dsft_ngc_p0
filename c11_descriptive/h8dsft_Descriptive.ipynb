{
 "cells": [
  {
   "cell_type": "markdown",
   "metadata": {
    "toc": true
   },
   "source": [
    "<h1>Table of Contents<span class=\"tocSkip\"></span></h1>\n",
    "<div class=\"toc\"><ul class=\"toc-item\"><li><span><a href=\"#Introduction\" data-toc-modified-id=\"Introduction-1\"><span class=\"toc-item-num\">1&nbsp;&nbsp;</span>Introduction</a></span></li><li><span><a href=\"#Import-Libray\" data-toc-modified-id=\"Import-Libray-2\"><span class=\"toc-item-num\">2&nbsp;&nbsp;</span>Import Libray</a></span></li><li><span><a href=\"#Question\" data-toc-modified-id=\"Question-3\"><span class=\"toc-item-num\">3&nbsp;&nbsp;</span>Question</a></span></li><li><span><a href=\"#Answer\" data-toc-modified-id=\"Answer-4\"><span class=\"toc-item-num\">4&nbsp;&nbsp;</span>Answer</a></span><ul class=\"toc-item\"><li><span><a href=\"#Load-Data\" data-toc-modified-id=\"Load-Data-4.1\"><span class=\"toc-item-num\">4.1&nbsp;&nbsp;</span>Load Data</a></span><ul class=\"toc-item\"><li><span><a href=\"#Simple-Data-Exploration\" data-toc-modified-id=\"Simple-Data-Exploration-4.1.1\"><span class=\"toc-item-num\">4.1.1&nbsp;&nbsp;</span>Simple Data Exploration</a></span></li></ul></li><li><span><a href=\"#Measure-of-Central-Tendency\" data-toc-modified-id=\"Measure-of-Central-Tendency-4.2\"><span class=\"toc-item-num\">4.2&nbsp;&nbsp;</span>Measure of Central Tendency</a></span><ul class=\"toc-item\"><li><span><a href=\"#Mean-&amp;-Median\" data-toc-modified-id=\"Mean-&amp;-Median-4.2.1\"><span class=\"toc-item-num\">4.2.1&nbsp;&nbsp;</span>Mean &amp; Median</a></span></li><li><span><a href=\"#Mode\" data-toc-modified-id=\"Mode-4.2.2\"><span class=\"toc-item-num\">4.2.2&nbsp;&nbsp;</span>Mode</a></span></li></ul></li><li><span><a href=\"#Measure-of-Variance\" data-toc-modified-id=\"Measure-of-Variance-4.3\"><span class=\"toc-item-num\">4.3&nbsp;&nbsp;</span>Measure of Variance</a></span><ul class=\"toc-item\"><li><span><a href=\"#Range\" data-toc-modified-id=\"Range-4.3.1\"><span class=\"toc-item-num\">4.3.1&nbsp;&nbsp;</span>Range</a></span></li><li><span><a href=\"#Percentiles-&amp;-Quartiles\" data-toc-modified-id=\"Percentiles-&amp;-Quartiles-4.3.2\"><span class=\"toc-item-num\">4.3.2&nbsp;&nbsp;</span>Percentiles &amp; Quartiles</a></span><ul class=\"toc-item\"><li><span><a href=\"#Percentile\" data-toc-modified-id=\"Percentile-4.3.2.1\"><span class=\"toc-item-num\">4.3.2.1&nbsp;&nbsp;</span>Percentile</a></span></li><li><span><a href=\"#Quartile\" data-toc-modified-id=\"Quartile-4.3.2.2\"><span class=\"toc-item-num\">4.3.2.2&nbsp;&nbsp;</span>Quartile</a></span></li></ul></li><li><span><a href=\"#Outliers\" data-toc-modified-id=\"Outliers-4.3.3\"><span class=\"toc-item-num\">4.3.3&nbsp;&nbsp;</span>Outliers</a></span></li><li><span><a href=\"#Variance-&amp;-Standard-Deviation\" data-toc-modified-id=\"Variance-&amp;-Standard-Deviation-4.3.4\"><span class=\"toc-item-num\">4.3.4&nbsp;&nbsp;</span>Variance &amp; Standard Deviation</a></span></li><li><span><a href=\"#Z-Score\" data-toc-modified-id=\"Z-Score-4.3.5\"><span class=\"toc-item-num\">4.3.5&nbsp;&nbsp;</span>Z Score</a></span></li></ul></li></ul></li></ul></div>"
   ]
  },
  {
   "cell_type": "markdown",
   "metadata": {},
   "source": [
    "# Introduction\n",
    "\n",
    "**Name:** Fadilah Nur Imani\n",
    "<br>\n",
    "**Class/Batch:** FTDS/001\n",
    "<br>\n",
    "**Nongraded Challenge:** 11"
   ]
  },
  {
   "cell_type": "markdown",
   "metadata": {},
   "source": [
    "# Import Libray"
   ]
  },
  {
   "cell_type": "code",
   "execution_count": 1,
   "metadata": {
    "ExecuteTime": {
     "end_time": "2021-07-18T21:37:57.519253Z",
     "start_time": "2021-07-18T21:37:55.458572Z"
    }
   },
   "outputs": [],
   "source": [
    "import pandas as pd\n",
    "from scipy import stats\n",
    "import matplotlib.pyplot as plt\n",
    "plt.style.use(\"fivethirtyeight\")"
   ]
  },
  {
   "cell_type": "markdown",
   "metadata": {
    "ExecuteTime": {
     "end_time": "2021-07-15T17:58:57.702996Z",
     "start_time": "2021-07-15T17:58:57.693035Z"
    }
   },
   "source": [
    "# Question"
   ]
  },
  {
   "cell_type": "markdown",
   "metadata": {
    "ExecuteTime": {
     "end_time": "2021-07-15T18:02:35.795739Z",
     "start_time": "2021-07-15T18:02:35.790742Z"
    }
   },
   "source": [
    "Using data from this <a href=\"https://www.kaggle.com/hendratno/covid19-indonesia\"> link</a>:\n",
    "- Find the Measure of Central Tendency\n",
    "- Find the Measure of Variance"
   ]
  },
  {
   "cell_type": "markdown",
   "metadata": {
    "ExecuteTime": {
     "end_time": "2021-07-15T17:59:06.822770Z",
     "start_time": "2021-07-15T17:59:06.812801Z"
    }
   },
   "source": [
    "# Answer"
   ]
  },
  {
   "cell_type": "markdown",
   "metadata": {},
   "source": [
    "## Load Data"
   ]
  },
  {
   "cell_type": "code",
   "execution_count": 2,
   "metadata": {
    "ExecuteTime": {
     "end_time": "2021-07-18T21:37:57.777562Z",
     "start_time": "2021-07-18T21:37:57.528230Z"
    }
   },
   "outputs": [
    {
     "name": "stdout",
     "output_type": "stream",
     "text": [
      "(16283, 41)\n"
     ]
    },
    {
     "data": {
      "text/html": [
       "<div>\n",
       "<style scoped>\n",
       "    .dataframe tbody tr th:only-of-type {\n",
       "        vertical-align: middle;\n",
       "    }\n",
       "\n",
       "    .dataframe tbody tr th {\n",
       "        vertical-align: top;\n",
       "    }\n",
       "\n",
       "    .dataframe thead th {\n",
       "        text-align: right;\n",
       "    }\n",
       "</style>\n",
       "<table border=\"1\" class=\"dataframe\">\n",
       "  <thead>\n",
       "    <tr style=\"text-align: right;\">\n",
       "      <th></th>\n",
       "      <th>Date</th>\n",
       "      <th>Location ISO Code</th>\n",
       "      <th>Location</th>\n",
       "      <th>New Cases</th>\n",
       "      <th>New Deaths</th>\n",
       "      <th>New Recovered</th>\n",
       "      <th>New Active Cases</th>\n",
       "      <th>Total Cases</th>\n",
       "      <th>Total Deaths</th>\n",
       "      <th>Total Recovered</th>\n",
       "      <th>...</th>\n",
       "      <th>New Deaths per Million</th>\n",
       "      <th>Total Deaths per Million</th>\n",
       "      <th>Case Fatality Rate</th>\n",
       "      <th>Case Recovered Rate</th>\n",
       "      <th>Growth Factor of New Cases</th>\n",
       "      <th>Growth Factor of New Deaths</th>\n",
       "      <th>Name</th>\n",
       "      <th>Item</th>\n",
       "      <th>Kind</th>\n",
       "      <th>Hidden</th>\n",
       "    </tr>\n",
       "  </thead>\n",
       "  <tbody>\n",
       "    <tr>\n",
       "      <th>0</th>\n",
       "      <td>1/8/2020</td>\n",
       "      <td>ID-JI</td>\n",
       "      <td>Jawa Timur</td>\n",
       "      <td>9</td>\n",
       "      <td>3</td>\n",
       "      <td>1</td>\n",
       "      <td>5</td>\n",
       "      <td>9</td>\n",
       "      <td>5</td>\n",
       "      <td>10</td>\n",
       "      <td>...</td>\n",
       "      <td>0.07</td>\n",
       "      <td>0.12</td>\n",
       "      <td>55.56%</td>\n",
       "      <td>111.11%</td>\n",
       "      <td>NaN</td>\n",
       "      <td>NaN</td>\n",
       "      <td>NaN</td>\n",
       "      <td>NaN</td>\n",
       "      <td>NaN</td>\n",
       "      <td>NaN</td>\n",
       "    </tr>\n",
       "    <tr>\n",
       "      <th>1</th>\n",
       "      <td>1/9/2020</td>\n",
       "      <td>ID-JI</td>\n",
       "      <td>Jawa Timur</td>\n",
       "      <td>0</td>\n",
       "      <td>1</td>\n",
       "      <td>23</td>\n",
       "      <td>-24</td>\n",
       "      <td>9</td>\n",
       "      <td>6</td>\n",
       "      <td>33</td>\n",
       "      <td>...</td>\n",
       "      <td>0.02</td>\n",
       "      <td>0.15</td>\n",
       "      <td>66.67%</td>\n",
       "      <td>366.67%</td>\n",
       "      <td>0.0</td>\n",
       "      <td>0.33</td>\n",
       "      <td>NaN</td>\n",
       "      <td>NaN</td>\n",
       "      <td>NaN</td>\n",
       "      <td>NaN</td>\n",
       "    </tr>\n",
       "    <tr>\n",
       "      <th>2</th>\n",
       "      <td>1/10/2020</td>\n",
       "      <td>ID-JI</td>\n",
       "      <td>Jawa Timur</td>\n",
       "      <td>0</td>\n",
       "      <td>1</td>\n",
       "      <td>14</td>\n",
       "      <td>-15</td>\n",
       "      <td>9</td>\n",
       "      <td>7</td>\n",
       "      <td>47</td>\n",
       "      <td>...</td>\n",
       "      <td>0.02</td>\n",
       "      <td>0.17</td>\n",
       "      <td>77.78%</td>\n",
       "      <td>522.22%</td>\n",
       "      <td>1.0</td>\n",
       "      <td>1.00</td>\n",
       "      <td>NaN</td>\n",
       "      <td>NaN</td>\n",
       "      <td>NaN</td>\n",
       "      <td>NaN</td>\n",
       "    </tr>\n",
       "    <tr>\n",
       "      <th>3</th>\n",
       "      <td>1/11/2020</td>\n",
       "      <td>ID-JI</td>\n",
       "      <td>Jawa Timur</td>\n",
       "      <td>0</td>\n",
       "      <td>3</td>\n",
       "      <td>8</td>\n",
       "      <td>-11</td>\n",
       "      <td>9</td>\n",
       "      <td>10</td>\n",
       "      <td>55</td>\n",
       "      <td>...</td>\n",
       "      <td>0.07</td>\n",
       "      <td>0.25</td>\n",
       "      <td>111.11%</td>\n",
       "      <td>611.11%</td>\n",
       "      <td>1.0</td>\n",
       "      <td>3.00</td>\n",
       "      <td>NaN</td>\n",
       "      <td>NaN</td>\n",
       "      <td>NaN</td>\n",
       "      <td>NaN</td>\n",
       "    </tr>\n",
       "    <tr>\n",
       "      <th>4</th>\n",
       "      <td>1/12/2020</td>\n",
       "      <td>ID-JI</td>\n",
       "      <td>Jawa Timur</td>\n",
       "      <td>0</td>\n",
       "      <td>3</td>\n",
       "      <td>1</td>\n",
       "      <td>-4</td>\n",
       "      <td>9</td>\n",
       "      <td>13</td>\n",
       "      <td>56</td>\n",
       "      <td>...</td>\n",
       "      <td>0.07</td>\n",
       "      <td>0.32</td>\n",
       "      <td>144.44%</td>\n",
       "      <td>622.22%</td>\n",
       "      <td>1.0</td>\n",
       "      <td>1.00</td>\n",
       "      <td>NaN</td>\n",
       "      <td>NaN</td>\n",
       "      <td>NaN</td>\n",
       "      <td>NaN</td>\n",
       "    </tr>\n",
       "  </tbody>\n",
       "</table>\n",
       "<p>5 rows × 41 columns</p>\n",
       "</div>"
      ],
      "text/plain": [
       "        Date Location ISO Code    Location  New Cases  New Deaths  \\\n",
       "0   1/8/2020             ID-JI  Jawa Timur          9           3   \n",
       "1   1/9/2020             ID-JI  Jawa Timur          0           1   \n",
       "2  1/10/2020             ID-JI  Jawa Timur          0           1   \n",
       "3  1/11/2020             ID-JI  Jawa Timur          0           3   \n",
       "4  1/12/2020             ID-JI  Jawa Timur          0           3   \n",
       "\n",
       "   New Recovered  New Active Cases  Total Cases  Total Deaths  \\\n",
       "0              1                 5            9             5   \n",
       "1             23               -24            9             6   \n",
       "2             14               -15            9             7   \n",
       "3              8               -11            9            10   \n",
       "4              1                -4            9            13   \n",
       "\n",
       "   Total Recovered  ...  New Deaths per Million Total Deaths per Million  \\\n",
       "0               10  ...                    0.07                     0.12   \n",
       "1               33  ...                    0.02                     0.15   \n",
       "2               47  ...                    0.02                     0.17   \n",
       "3               55  ...                    0.07                     0.25   \n",
       "4               56  ...                    0.07                     0.32   \n",
       "\n",
       "   Case Fatality Rate Case Recovered Rate Growth Factor of New Cases  \\\n",
       "0              55.56%             111.11%                        NaN   \n",
       "1              66.67%             366.67%                        0.0   \n",
       "2              77.78%             522.22%                        1.0   \n",
       "3             111.11%             611.11%                        1.0   \n",
       "4             144.44%             622.22%                        1.0   \n",
       "\n",
       "  Growth Factor of New Deaths Name Item Kind  Hidden  \n",
       "0                         NaN  NaN  NaN  NaN     NaN  \n",
       "1                        0.33  NaN  NaN  NaN     NaN  \n",
       "2                        1.00  NaN  NaN  NaN     NaN  \n",
       "3                        3.00  NaN  NaN  NaN     NaN  \n",
       "4                        1.00  NaN  NaN  NaN     NaN  \n",
       "\n",
       "[5 rows x 41 columns]"
      ]
     },
     "execution_count": 2,
     "metadata": {},
     "output_type": "execute_result"
    }
   ],
   "source": [
    "data = pd.read_csv(\"data/covid_19_indonesia_time_series_all.csv\")\n",
    "print(data.shape)\n",
    "data.head()"
   ]
  },
  {
   "cell_type": "markdown",
   "metadata": {
    "ExecuteTime": {
     "end_time": "2021-07-18T20:16:27.877713Z",
     "start_time": "2021-07-18T20:16:27.873723Z"
    }
   },
   "source": [
    "### Simple Data Exploration"
   ]
  },
  {
   "cell_type": "code",
   "execution_count": 3,
   "metadata": {
    "ExecuteTime": {
     "end_time": "2021-07-18T21:37:57.813469Z",
     "start_time": "2021-07-18T21:37:57.780557Z"
    }
   },
   "outputs": [
    {
     "name": "stdout",
     "output_type": "stream",
     "text": [
      "<class 'pandas.core.frame.DataFrame'>\n",
      "RangeIndex: 16283 entries, 0 to 16282\n",
      "Data columns (total 41 columns):\n",
      " #   Column                       Non-Null Count  Dtype  \n",
      "---  ------                       --------------  -----  \n",
      " 0   Date                         16283 non-null  object \n",
      " 1   Location ISO Code            16283 non-null  object \n",
      " 2   Location                     16283 non-null  object \n",
      " 3   New Cases                    16283 non-null  int64  \n",
      " 4   New Deaths                   16283 non-null  int64  \n",
      " 5   New Recovered                16283 non-null  int64  \n",
      " 6   New Active Cases             16283 non-null  int64  \n",
      " 7   Total Cases                  16283 non-null  int64  \n",
      " 8   Total Deaths                 16283 non-null  int64  \n",
      " 9   Total Recovered              16283 non-null  int64  \n",
      " 10  Total Active Cases           16283 non-null  int64  \n",
      " 11  Location Level               16283 non-null  object \n",
      " 12  City or Regency              0 non-null      float64\n",
      " 13  Province                     15788 non-null  object \n",
      " 14  Country                      16283 non-null  object \n",
      " 15  Continent                    16283 non-null  object \n",
      " 16  Island                       15788 non-null  object \n",
      " 17  Time Zone                    15788 non-null  object \n",
      " 18  Special Status               2393 non-null   object \n",
      " 19  Total Regencies              16283 non-null  int64  \n",
      " 20  Total Cities                 15814 non-null  float64\n",
      " 21  Total Districts              16283 non-null  int64  \n",
      " 22  Total Urban Villages         15812 non-null  float64\n",
      " 23  Total Rural Villages         15787 non-null  float64\n",
      " 24  Area (km2)                   16283 non-null  int64  \n",
      " 25  Population                   16283 non-null  int64  \n",
      " 26  Population Density           16283 non-null  float64\n",
      " 27  Longitude                    16283 non-null  float64\n",
      " 28  Latitude                     16283 non-null  float64\n",
      " 29  New Cases per Million        16283 non-null  float64\n",
      " 30  Total Cases per Million      16283 non-null  float64\n",
      " 31  New Deaths per Million       16283 non-null  float64\n",
      " 32  Total Deaths per Million     16283 non-null  float64\n",
      " 33  Case Fatality Rate           16283 non-null  object \n",
      " 34  Case Recovered Rate          16283 non-null  object \n",
      " 35  Growth Factor of New Cases   15298 non-null  float64\n",
      " 36  Growth Factor of New Deaths  14344 non-null  float64\n",
      " 37  Name                         0 non-null      float64\n",
      " 38  Item                         0 non-null      float64\n",
      " 39  Kind                         0 non-null      float64\n",
      " 40  Hidden                       0 non-null      float64\n",
      "dtypes: float64(17), int64(12), object(12)\n",
      "memory usage: 5.1+ MB\n"
     ]
    }
   ],
   "source": [
    "data.info()"
   ]
  },
  {
   "cell_type": "code",
   "execution_count": 4,
   "metadata": {
    "ExecuteTime": {
     "end_time": "2021-07-18T21:37:57.930950Z",
     "start_time": "2021-07-18T21:37:57.816458Z"
    }
   },
   "outputs": [
    {
     "data": {
      "text/html": [
       "<div>\n",
       "<style scoped>\n",
       "    .dataframe tbody tr th:only-of-type {\n",
       "        vertical-align: middle;\n",
       "    }\n",
       "\n",
       "    .dataframe tbody tr th {\n",
       "        vertical-align: top;\n",
       "    }\n",
       "\n",
       "    .dataframe thead th {\n",
       "        text-align: right;\n",
       "    }\n",
       "</style>\n",
       "<table border=\"1\" class=\"dataframe\">\n",
       "  <thead>\n",
       "    <tr style=\"text-align: right;\">\n",
       "      <th></th>\n",
       "      <th>New Cases</th>\n",
       "      <th>New Deaths</th>\n",
       "      <th>New Recovered</th>\n",
       "      <th>New Active Cases</th>\n",
       "      <th>Total Cases</th>\n",
       "      <th>Total Deaths</th>\n",
       "      <th>Total Recovered</th>\n",
       "      <th>Total Active Cases</th>\n",
       "      <th>City or Regency</th>\n",
       "      <th>Total Regencies</th>\n",
       "      <th>...</th>\n",
       "      <th>New Cases per Million</th>\n",
       "      <th>Total Cases per Million</th>\n",
       "      <th>New Deaths per Million</th>\n",
       "      <th>Total Deaths per Million</th>\n",
       "      <th>Growth Factor of New Cases</th>\n",
       "      <th>Growth Factor of New Deaths</th>\n",
       "      <th>Name</th>\n",
       "      <th>Item</th>\n",
       "      <th>Kind</th>\n",
       "      <th>Hidden</th>\n",
       "    </tr>\n",
       "  </thead>\n",
       "  <tbody>\n",
       "    <tr>\n",
       "      <th>count</th>\n",
       "      <td>16283.000000</td>\n",
       "      <td>16283.000000</td>\n",
       "      <td>16283.000000</td>\n",
       "      <td>16283.000000</td>\n",
       "      <td>1.628300e+04</td>\n",
       "      <td>16283.000000</td>\n",
       "      <td>1.628300e+04</td>\n",
       "      <td>16283.000000</td>\n",
       "      <td>0.0</td>\n",
       "      <td>16283.000000</td>\n",
       "      <td>...</td>\n",
       "      <td>16283.000000</td>\n",
       "      <td>16283.000000</td>\n",
       "      <td>16283.000000</td>\n",
       "      <td>16283.000000</td>\n",
       "      <td>15298.000000</td>\n",
       "      <td>14344.000000</td>\n",
       "      <td>0.0</td>\n",
       "      <td>0.0</td>\n",
       "      <td>0.0</td>\n",
       "      <td>0.0</td>\n",
       "    </tr>\n",
       "    <tr>\n",
       "      <th>mean</th>\n",
       "      <td>301.271879</td>\n",
       "      <td>7.919364</td>\n",
       "      <td>248.015783</td>\n",
       "      <td>45.336732</td>\n",
       "      <td>4.274674e+04</td>\n",
       "      <td>1243.917644</td>\n",
       "      <td>3.689427e+04</td>\n",
       "      <td>4608.549714</td>\n",
       "      <td>NaN</td>\n",
       "      <td>24.792913</td>\n",
       "      <td>...</td>\n",
       "      <td>20.673622</td>\n",
       "      <td>2977.160052</td>\n",
       "      <td>0.463346</td>\n",
       "      <td>72.462398</td>\n",
       "      <td>1.437652</td>\n",
       "      <td>1.084872</td>\n",
       "      <td>NaN</td>\n",
       "      <td>NaN</td>\n",
       "      <td>NaN</td>\n",
       "      <td>NaN</td>\n",
       "    </tr>\n",
       "    <tr>\n",
       "      <th>std</th>\n",
       "      <td>1330.028199</td>\n",
       "      <td>32.171434</td>\n",
       "      <td>997.784905</td>\n",
       "      <td>550.203700</td>\n",
       "      <td>1.784936e+05</td>\n",
       "      <td>4944.634529</td>\n",
       "      <td>1.580017e+05</td>\n",
       "      <td>17670.075450</td>\n",
       "      <td>NaN</td>\n",
       "      <td>69.658831</td>\n",
       "      <td>...</td>\n",
       "      <td>45.319811</td>\n",
       "      <td>4987.373956</td>\n",
       "      <td>1.096785</td>\n",
       "      <td>99.203343</td>\n",
       "      <td>3.388187</td>\n",
       "      <td>1.949005</td>\n",
       "      <td>NaN</td>\n",
       "      <td>NaN</td>\n",
       "      <td>NaN</td>\n",
       "      <td>NaN</td>\n",
       "    </tr>\n",
       "    <tr>\n",
       "      <th>min</th>\n",
       "      <td>0.000000</td>\n",
       "      <td>0.000000</td>\n",
       "      <td>0.000000</td>\n",
       "      <td>-8381.000000</td>\n",
       "      <td>1.000000e+00</td>\n",
       "      <td>0.000000</td>\n",
       "      <td>0.000000e+00</td>\n",
       "      <td>-2395.000000</td>\n",
       "      <td>NaN</td>\n",
       "      <td>1.000000</td>\n",
       "      <td>...</td>\n",
       "      <td>0.000000</td>\n",
       "      <td>0.010000</td>\n",
       "      <td>0.000000</td>\n",
       "      <td>0.000000</td>\n",
       "      <td>0.000000</td>\n",
       "      <td>0.000000</td>\n",
       "      <td>NaN</td>\n",
       "      <td>NaN</td>\n",
       "      <td>NaN</td>\n",
       "      <td>NaN</td>\n",
       "    </tr>\n",
       "    <tr>\n",
       "      <th>25%</th>\n",
       "      <td>6.000000</td>\n",
       "      <td>0.000000</td>\n",
       "      <td>2.000000</td>\n",
       "      <td>-7.000000</td>\n",
       "      <td>7.265000e+02</td>\n",
       "      <td>23.000000</td>\n",
       "      <td>3.860000e+02</td>\n",
       "      <td>162.500000</td>\n",
       "      <td>NaN</td>\n",
       "      <td>8.000000</td>\n",
       "      <td>...</td>\n",
       "      <td>1.645000</td>\n",
       "      <td>166.695000</td>\n",
       "      <td>0.000000</td>\n",
       "      <td>4.980000</td>\n",
       "      <td>0.640000</td>\n",
       "      <td>0.670000</td>\n",
       "      <td>NaN</td>\n",
       "      <td>NaN</td>\n",
       "      <td>NaN</td>\n",
       "      <td>NaN</td>\n",
       "    </tr>\n",
       "    <tr>\n",
       "      <th>50%</th>\n",
       "      <td>39.000000</td>\n",
       "      <td>1.000000</td>\n",
       "      <td>24.000000</td>\n",
       "      <td>2.000000</td>\n",
       "      <td>5.941000e+03</td>\n",
       "      <td>149.000000</td>\n",
       "      <td>4.484000e+03</td>\n",
       "      <td>851.000000</td>\n",
       "      <td>NaN</td>\n",
       "      <td>12.000000</td>\n",
       "      <td>...</td>\n",
       "      <td>7.670000</td>\n",
       "      <td>1398.640000</td>\n",
       "      <td>0.110000</td>\n",
       "      <td>41.380000</td>\n",
       "      <td>1.000000</td>\n",
       "      <td>1.000000</td>\n",
       "      <td>NaN</td>\n",
       "      <td>NaN</td>\n",
       "      <td>NaN</td>\n",
       "      <td>NaN</td>\n",
       "    </tr>\n",
       "    <tr>\n",
       "      <th>75%</th>\n",
       "      <td>127.000000</td>\n",
       "      <td>4.000000</td>\n",
       "      <td>106.000000</td>\n",
       "      <td>32.000000</td>\n",
       "      <td>1.777450e+04</td>\n",
       "      <td>556.000000</td>\n",
       "      <td>1.430450e+04</td>\n",
       "      <td>2271.000000</td>\n",
       "      <td>NaN</td>\n",
       "      <td>18.000000</td>\n",
       "      <td>...</td>\n",
       "      <td>21.870000</td>\n",
       "      <td>3817.535000</td>\n",
       "      <td>0.550000</td>\n",
       "      <td>93.520000</td>\n",
       "      <td>1.330000</td>\n",
       "      <td>1.000000</td>\n",
       "      <td>NaN</td>\n",
       "      <td>NaN</td>\n",
       "      <td>NaN</td>\n",
       "      <td>NaN</td>\n",
       "    </tr>\n",
       "    <tr>\n",
       "      <th>max</th>\n",
       "      <td>38391.000000</td>\n",
       "      <td>1040.000000</td>\n",
       "      <td>28975.000000</td>\n",
       "      <td>18504.000000</td>\n",
       "      <td>2.455912e+06</td>\n",
       "      <td>64631.000000</td>\n",
       "      <td>2.023548e+06</td>\n",
       "      <td>367733.000000</td>\n",
       "      <td>NaN</td>\n",
       "      <td>416.000000</td>\n",
       "      <td>...</td>\n",
       "      <td>1208.910000</td>\n",
       "      <td>58673.660000</td>\n",
       "      <td>63.800000</td>\n",
       "      <td>854.680000</td>\n",
       "      <td>175.000000</td>\n",
       "      <td>134.500000</td>\n",
       "      <td>NaN</td>\n",
       "      <td>NaN</td>\n",
       "      <td>NaN</td>\n",
       "      <td>NaN</td>\n",
       "    </tr>\n",
       "  </tbody>\n",
       "</table>\n",
       "<p>8 rows × 29 columns</p>\n",
       "</div>"
      ],
      "text/plain": [
       "          New Cases    New Deaths  New Recovered  New Active Cases  \\\n",
       "count  16283.000000  16283.000000   16283.000000      16283.000000   \n",
       "mean     301.271879      7.919364     248.015783         45.336732   \n",
       "std     1330.028199     32.171434     997.784905        550.203700   \n",
       "min        0.000000      0.000000       0.000000      -8381.000000   \n",
       "25%        6.000000      0.000000       2.000000         -7.000000   \n",
       "50%       39.000000      1.000000      24.000000          2.000000   \n",
       "75%      127.000000      4.000000     106.000000         32.000000   \n",
       "max    38391.000000   1040.000000   28975.000000      18504.000000   \n",
       "\n",
       "        Total Cases  Total Deaths  Total Recovered  Total Active Cases  \\\n",
       "count  1.628300e+04  16283.000000     1.628300e+04        16283.000000   \n",
       "mean   4.274674e+04   1243.917644     3.689427e+04         4608.549714   \n",
       "std    1.784936e+05   4944.634529     1.580017e+05        17670.075450   \n",
       "min    1.000000e+00      0.000000     0.000000e+00        -2395.000000   \n",
       "25%    7.265000e+02     23.000000     3.860000e+02          162.500000   \n",
       "50%    5.941000e+03    149.000000     4.484000e+03          851.000000   \n",
       "75%    1.777450e+04    556.000000     1.430450e+04         2271.000000   \n",
       "max    2.455912e+06  64631.000000     2.023548e+06       367733.000000   \n",
       "\n",
       "       City or Regency  Total Regencies  ...  New Cases per Million  \\\n",
       "count              0.0     16283.000000  ...           16283.000000   \n",
       "mean               NaN        24.792913  ...              20.673622   \n",
       "std                NaN        69.658831  ...              45.319811   \n",
       "min                NaN         1.000000  ...               0.000000   \n",
       "25%                NaN         8.000000  ...               1.645000   \n",
       "50%                NaN        12.000000  ...               7.670000   \n",
       "75%                NaN        18.000000  ...              21.870000   \n",
       "max                NaN       416.000000  ...            1208.910000   \n",
       "\n",
       "       Total Cases per Million  New Deaths per Million  \\\n",
       "count             16283.000000            16283.000000   \n",
       "mean               2977.160052                0.463346   \n",
       "std                4987.373956                1.096785   \n",
       "min                   0.010000                0.000000   \n",
       "25%                 166.695000                0.000000   \n",
       "50%                1398.640000                0.110000   \n",
       "75%                3817.535000                0.550000   \n",
       "max               58673.660000               63.800000   \n",
       "\n",
       "       Total Deaths per Million  Growth Factor of New Cases  \\\n",
       "count              16283.000000                15298.000000   \n",
       "mean                  72.462398                    1.437652   \n",
       "std                   99.203343                    3.388187   \n",
       "min                    0.000000                    0.000000   \n",
       "25%                    4.980000                    0.640000   \n",
       "50%                   41.380000                    1.000000   \n",
       "75%                   93.520000                    1.330000   \n",
       "max                  854.680000                  175.000000   \n",
       "\n",
       "       Growth Factor of New Deaths  Name  Item  Kind  Hidden  \n",
       "count                 14344.000000   0.0   0.0   0.0     0.0  \n",
       "mean                      1.084872   NaN   NaN   NaN     NaN  \n",
       "std                       1.949005   NaN   NaN   NaN     NaN  \n",
       "min                       0.000000   NaN   NaN   NaN     NaN  \n",
       "25%                       0.670000   NaN   NaN   NaN     NaN  \n",
       "50%                       1.000000   NaN   NaN   NaN     NaN  \n",
       "75%                       1.000000   NaN   NaN   NaN     NaN  \n",
       "max                     134.500000   NaN   NaN   NaN     NaN  \n",
       "\n",
       "[8 rows x 29 columns]"
      ]
     },
     "execution_count": 4,
     "metadata": {},
     "output_type": "execute_result"
    }
   ],
   "source": [
    "data.describe()"
   ]
  },
  {
   "cell_type": "markdown",
   "metadata": {
    "ExecuteTime": {
     "end_time": "2021-07-18T19:35:11.688741Z",
     "start_time": "2021-07-18T19:35:11.683723Z"
    }
   },
   "source": [
    "## Measure of Central Tendency"
   ]
  },
  {
   "cell_type": "markdown",
   "metadata": {},
   "source": [
    "- Mean\n",
    "- Median\n",
    "- Mode"
   ]
  },
  {
   "cell_type": "markdown",
   "metadata": {
    "ExecuteTime": {
     "end_time": "2021-07-18T20:13:22.463554Z",
     "start_time": "2021-07-18T20:13:22.458569Z"
    }
   },
   "source": [
    "### Mean & Median"
   ]
  },
  {
   "cell_type": "code",
   "execution_count": 5,
   "metadata": {
    "ExecuteTime": {
     "end_time": "2021-07-18T21:37:57.938928Z",
     "start_time": "2021-07-18T21:37:57.933942Z"
    }
   },
   "outputs": [],
   "source": [
    "# data.mean()"
   ]
  },
  {
   "cell_type": "code",
   "execution_count": 6,
   "metadata": {
    "ExecuteTime": {
     "end_time": "2021-07-18T21:37:57.945910Z",
     "start_time": "2021-07-18T21:37:57.941920Z"
    }
   },
   "outputs": [],
   "source": [
    "# data.median()"
   ]
  },
  {
   "cell_type": "code",
   "execution_count": 7,
   "metadata": {
    "ExecuteTime": {
     "end_time": "2021-07-18T21:37:57.991001Z",
     "start_time": "2021-07-18T21:37:57.952892Z"
    }
   },
   "outputs": [
    {
     "name": "stdout",
     "output_type": "stream",
     "text": [
      "Column Name                   Mean                          Median\n",
      "--------------------------------------------------------------------------------\n",
      "New Cases                     301.27187864644105            39.0\n",
      "New Deaths                    7.919363753608057             1.0\n",
      "New Recovered                 248.01578333230978            24.0\n",
      "New Active Cases              45.33673156052325             2.0\n",
      "Total Cases                   42746.73530676166             5941.0\n",
      "Total Deaths                  1243.917644168765             149.0\n",
      "Total Recovered               36894.2679481668              4484.0\n",
      "Total Active Cases            4608.549714426089             851.0\n",
      "City or Regency               nan                           nan\n",
      "Total Regencies               24.792912853896702            12.0\n",
      "Total Cities                  6.049576324775515             2.0\n",
      "Total Districts               432.59528342443036            171.0\n",
      "Total Urban Villages          524.4581330634961             175.0\n",
      "Total Rural Villages          4631.859821372015             1591.0\n",
      "Area (km2)                    114077.48547564945            46717.0\n",
      "Population                    16057038.005527237            4340348.0\n",
      "Population Density            768.3087311920076             103.84\n",
      "Longitude                     113.42750195090004            112.73294140000002\n",
      "Latitude                      -2.850092998606038            -2.9935949789999996\n",
      "New Cases per Million         20.67362156850719             7.67\n",
      "Total Cases per Million       2977.1600515875457            1398.64\n",
      "New Deaths per Million        0.4633464349321347            0.11\n",
      "Total Deaths per Million      72.46239820671963             41.38\n",
      "Growth Factor of New Cases    1.437651980651067             1.0\n",
      "Growth Factor of New Deaths   1.0848724205242548            1.0\n",
      "Name                          nan                           nan\n",
      "Item                          nan                           nan\n",
      "Kind                          nan                           nan\n",
      "Hidden                        nan                           nan\n"
     ]
    }
   ],
   "source": [
    "print(\"{} \\t{} \\t{}\".format(\"Column Name\", \"Mean\", \"Median\").expandtabs(30))\n",
    "print(\"-\"*80)\n",
    "for col in data.select_dtypes(\"number\"):\n",
    "    print(\"{} \\t{} \\t{}\".format(col, data[col].mean(), data[col].median()).expandtabs(30))"
   ]
  },
  {
   "cell_type": "markdown",
   "metadata": {
    "ExecuteTime": {
     "end_time": "2021-07-18T20:13:35.003370Z",
     "start_time": "2021-07-18T20:13:35.000343Z"
    }
   },
   "source": [
    "### Mode"
   ]
  },
  {
   "cell_type": "code",
   "execution_count": 8,
   "metadata": {
    "ExecuteTime": {
     "end_time": "2021-07-18T21:37:58.039837Z",
     "start_time": "2021-07-18T21:37:57.992995Z"
    }
   },
   "outputs": [
    {
     "name": "stdout",
     "output_type": "stream",
     "text": [
      "Column Name                   Mode\n",
      "--------------------------------------------------\n",
      "New Cases                     0    0\n",
      "dtype: int64\n",
      "New Deaths                    0    0\n",
      "dtype: int64\n",
      "New Recovered                 0    0\n",
      "dtype: int64\n",
      "New Active Cases              0    0\n",
      "dtype: int64\n",
      "Total Cases                   0    1\n",
      "dtype: int64\n",
      "Total Deaths                  0    2\n",
      "dtype: int64\n",
      "Total Recovered               0    0\n",
      "dtype: int64\n",
      "Total Active Cases            0    1\n",
      "dtype: int64\n",
      "City or Regency               Series([], dtype: float64)\n",
      "Total Regencies               0    12\n",
      "dtype: int64\n",
      "Total Cities                  0    2.0\n",
      "dtype: float64\n",
      "Total Districts               0    666\n",
      "dtype: int64\n",
      "Total Urban Villages          0    35.0\n",
      "dtype: float64\n",
      "Total Rural Villages          0    7724.0\n",
      "dtype: float64\n",
      "Area (km2)                    0    47803\n",
      "dtype: int64\n",
      "Population                    0    40479023\n",
      "dtype: int64\n",
      "Population Density            0    846.78\n",
      "dtype: float64\n",
      "Longitude                     0    112.732941\n",
      "dtype: float64\n",
      "Latitude                      0   -7.723346\n",
      "dtype: float64\n",
      "New Cases per Million         0    0.0\n",
      "dtype: float64\n",
      "Total Cases per Million       0    0.22\n",
      "dtype: float64\n",
      "New Deaths per Million        0    0.0\n",
      "dtype: float64\n",
      "Total Deaths per Million      0    0.0\n",
      "dtype: float64\n",
      "Growth Factor of New Cases    0    1.0\n",
      "dtype: float64\n",
      "Growth Factor of New Deaths   0    1.0\n",
      "dtype: float64\n",
      "Name                          Series([], dtype: float64)\n",
      "Item                          Series([], dtype: float64)\n",
      "Kind                          Series([], dtype: float64)\n",
      "Hidden                        Series([], dtype: float64)\n"
     ]
    }
   ],
   "source": [
    "# for numerical column\n",
    "print(\"{} \\t{}\".format(\"Column Name\", \"Mode\").expandtabs(30))\n",
    "print(\"-\"*50)\n",
    "for col in data.select_dtypes(\"number\"):\n",
    "    print(\"{} \\t{}\".format(col, data[col].mode()).expandtabs(30))"
   ]
  },
  {
   "cell_type": "code",
   "execution_count": 9,
   "metadata": {
    "ExecuteTime": {
     "end_time": "2021-07-18T21:37:58.079119Z",
     "start_time": "2021-07-18T21:37:58.041833Z"
    }
   },
   "outputs": [
    {
     "name": "stdout",
     "output_type": "stream",
     "text": [
      "Column Name                   Mode\n",
      "--------------------------------------------------\n",
      "Date                          0       1/1/2021\n",
      "1      1/10/2021\n",
      "2      1/11/2021\n",
      "3      1/12/2021\n",
      "4      1/13/2021\n",
      "         ...    \n",
      "452     9/5/2020\n",
      "453     9/6/2020\n",
      "454     9/7/2020\n",
      "455     9/8/2020\n",
      "456     9/9/2020\n",
      "Length: 457, dtype: object\n",
      "Location ISO Code             0    ID-JI\n",
      "dtype: object\n",
      "Location                      0    Jawa Timur\n",
      "dtype: object\n",
      "Location Level                0    Province\n",
      "dtype: object\n",
      "Province                      0    Jawa Timur\n",
      "dtype: object\n",
      "Country                       0    Indonesia\n",
      "dtype: object\n",
      "Continent                     0    Asia\n",
      "dtype: object\n",
      "Island                        0    Sumatera\n",
      "dtype: object\n",
      "Time Zone                     0    UTC+07:00\n",
      "dtype: object\n",
      "Special Status                0    Daerah Khusus\n",
      "dtype: object\n",
      "Case Fatality Rate            0    0.00%\n",
      "dtype: object\n",
      "Case Recovered Rate           0    0.00%\n",
      "dtype: object\n"
     ]
    }
   ],
   "source": [
    "# for categorical column\n",
    "print(\"{} \\t{}\".format(\"Column Name\", \"Mode\").expandtabs(30))\n",
    "print(\"-\"*50)\n",
    "for col in data.select_dtypes(\"object\"):\n",
    "    print(\"{} \\t{}\".format(col, data[col].mode()).expandtabs(30))"
   ]
  },
  {
   "cell_type": "markdown",
   "metadata": {
    "ExecuteTime": {
     "end_time": "2021-07-18T19:35:19.135814Z",
     "start_time": "2021-07-18T19:35:19.132792Z"
    }
   },
   "source": [
    "## Measure of Variance"
   ]
  },
  {
   "cell_type": "markdown",
   "metadata": {},
   "source": [
    "- Range\n",
    "- Percentiles & Quartiles\n",
    "- Outliers\n",
    "- Variance & Standard Deviation\n",
    "- Z Score"
   ]
  },
  {
   "cell_type": "markdown",
   "metadata": {
    "ExecuteTime": {
     "end_time": "2021-07-18T20:15:07.977283Z",
     "start_time": "2021-07-18T20:15:07.974293Z"
    }
   },
   "source": [
    "### Range"
   ]
  },
  {
   "cell_type": "code",
   "execution_count": 10,
   "metadata": {
    "ExecuteTime": {
     "end_time": "2021-07-18T21:37:58.104618Z",
     "start_time": "2021-07-18T21:37:58.082677Z"
    }
   },
   "outputs": [
    {
     "name": "stdout",
     "output_type": "stream",
     "text": [
      "Column Name                   Range\n",
      "--------------------------------------------------\n",
      "New Cases                     38391\n",
      "New Deaths                    1040\n",
      "New Recovered                 28975\n",
      "New Active Cases              26885\n",
      "Total Cases                   2455911\n",
      "Total Deaths                  64631\n",
      "Total Recovered               2023548\n",
      "Total Active Cases            370128\n",
      "City or Regency               nan\n",
      "Total Regencies               415\n",
      "Total Cities                  97.0\n",
      "Total Districts               7186\n",
      "Total Urban Villages          8453.0\n",
      "Total Rural Villages          74678.0\n",
      "Area (km2)                    1916243\n",
      "Population                    264537113\n",
      "Population Density            16325.72\n",
      "Longitude                     41.785508260000015\n",
      "Latitude                      12.907819627999999\n",
      "New Cases per Million         1208.91\n",
      "Total Cases per Million       58673.65\n",
      "New Deaths per Million        63.8\n",
      "Total Deaths per Million      854.68\n",
      "Growth Factor of New Cases    175.0\n",
      "Growth Factor of New Deaths   134.5\n",
      "Name                          nan\n",
      "Item                          nan\n",
      "Kind                          nan\n",
      "Hidden                        nan\n"
     ]
    }
   ],
   "source": [
    "print(\"{} \\t{}\".format(\"Column Name\", \"Range\").expandtabs(30))\n",
    "print(\"-\"*50)\n",
    "for col in data.select_dtypes(\"number\"):\n",
    "    print(\"{} \\t{}\".format(col, data[col].max()-data[col].min()).expandtabs(30))"
   ]
  },
  {
   "cell_type": "markdown",
   "metadata": {
    "ExecuteTime": {
     "end_time": "2021-07-18T20:15:14.426827Z",
     "start_time": "2021-07-18T20:15:14.423803Z"
    }
   },
   "source": [
    "### Percentiles & Quartiles"
   ]
  },
  {
   "cell_type": "markdown",
   "metadata": {
    "ExecuteTime": {
     "end_time": "2021-07-18T21:31:40.832941Z",
     "start_time": "2021-07-18T21:31:40.829980Z"
    }
   },
   "source": [
    "#### Percentile"
   ]
  },
  {
   "cell_type": "code",
   "execution_count": 11,
   "metadata": {
    "ExecuteTime": {
     "end_time": "2021-07-18T21:37:58.131435Z",
     "start_time": "2021-07-18T21:37:58.106614Z"
    }
   },
   "outputs": [
    {
     "name": "stdout",
     "output_type": "stream",
     "text": [
      "Column Name                   Data with index 10 is in .. \"STRICT\" percentile\n",
      "--------------------------------------------------------------------------------\n",
      "New Cases                     0.0\n",
      "New Deaths                    0.0\n",
      "New Recovered                 34.71104833261684\n",
      "New Active Cases              23.816250076767183\n",
      "Total Cases                   3.3040594485045753\n",
      "Total Deaths                  20.585887121537798\n",
      "Total Recovered               11.054473991279249\n",
      "Total Active Cases            2.296874040410244\n",
      "City or Regency               nan\n",
      "Total Regencies               90.58527298409385\n",
      "Total Cities                  87.66812012528405\n",
      "Total Districts               93.58840508505804\n",
      "Total Urban Villages          87.76024074187804\n",
      "Total Rural Villages          87.53915126205246\n",
      "Area (km2)                    55.75139716268501\n",
      "Population                    90.54842473745624\n",
      "Population Density            81.56973530676164\n",
      "Longitude                     47.1043419517288\n",
      "Latitude                      11.60719769084321\n",
      "New Cases per Million         0.0\n",
      "Total Cases per Million       0.6755511883559541\n",
      "New Deaths per Million        0.0\n",
      "Total Deaths per Million      4.163851870048517\n",
      "Growth Factor of New Cases    45.41546398083891\n",
      "Growth Factor of New Deaths   28.80304612172204\n",
      "Name                          nan\n",
      "Item                          nan\n",
      "Kind                          nan\n",
      "Hidden                        nan\n"
     ]
    }
   ],
   "source": [
    "print(\"{} \\t{}\".format(\"Column Name\", \"Data with index 10 is in .. \\\"STRICT\\\" percentile\").expandtabs(30))\n",
    "print(\"-\"*80)\n",
    "for col in data.select_dtypes(\"number\"):\n",
    "    print(\"{} \\t{}\".format(col, stats.percentileofscore(data[col], data[col][10], \"strict\")).expandtabs(30))"
   ]
  },
  {
   "cell_type": "code",
   "execution_count": 12,
   "metadata": {
    "ExecuteTime": {
     "end_time": "2021-07-18T21:37:58.163987Z",
     "start_time": "2021-07-18T21:37:58.134427Z"
    }
   },
   "outputs": [
    {
     "name": "stdout",
     "output_type": "stream",
     "text": [
      "Column Name                   Data with index 10 is in .. \"WEAK\" percentile\n",
      "--------------------------------------------------------------------------------\n",
      "New Cases                     11.883559540625193\n",
      "New Deaths                    46.68058711539643\n",
      "New Recovered                 35.85948535282196\n",
      "New Active Cases              24.731314868267518\n",
      "Total Cases                   3.8506417736289387\n",
      "Total Deaths                  21.19388319105816\n",
      "Total Recovered               11.208008352269237\n",
      "Total Active Cases            2.425842903641835\n",
      "City or Regency               nan\n",
      "Total Regencies               96.96001965239822\n",
      "Total Cities                  94.07971504022599\n",
      "Total Districts               96.96001965239822\n",
      "Total Urban Villages          91.1318553092182\n",
      "Total Rural Villages          90.91076582939262\n",
      "Area (km2)                    59.123011730025176\n",
      "Population                    93.9200393047964\n",
      "Population Density            84.94134987410182\n",
      "Longitude                     50.475956519068966\n",
      "Latitude                      14.978812258183382\n",
      "New Cases per Million         11.883559540625193\n",
      "Total Cases per Million       1.117730148007124\n",
      "New Deaths per Million        46.69901123871523\n",
      "Total Deaths per Million      4.3419517287969045\n",
      "Growth Factor of New Cases    53.85371246084873\n",
      "Growth Factor of New Deaths   70.87146103297918\n",
      "Name                          nan\n",
      "Item                          nan\n",
      "Kind                          nan\n",
      "Hidden                        nan\n"
     ]
    }
   ],
   "source": [
    "print(\"{} \\t{}\".format(\"Column Name\", \"Data with index 10 is in .. \\\"WEAK\\\" percentile\").expandtabs(30))\n",
    "print(\"-\"*80)\n",
    "for col in data.select_dtypes(\"number\"):\n",
    "    print(\"{} \\t{}\".format(col, stats.percentileofscore(data[col], data[col][10], \"weak\")).expandtabs(30))"
   ]
  },
  {
   "cell_type": "code",
   "execution_count": 13,
   "metadata": {
    "ExecuteTime": {
     "end_time": "2021-07-18T21:37:58.198366Z",
     "start_time": "2021-07-18T21:37:58.166978Z"
    }
   },
   "outputs": [
    {
     "name": "stdout",
     "output_type": "stream",
     "text": [
      "Column Name                   Data with index 10 is in .. \"RANK\" percentile\n",
      "--------------------------------------------------------------------------------\n",
      "New Cases                     5.944850457532396\n",
      "New Deaths                    23.343364244918014\n",
      "New Recovered                 35.2883375299392\n",
      "New Active Cases              24.27685315973715\n",
      "Total Cases                   3.5804212982865566\n",
      "Total Deaths                  20.89295584351778\n",
      "Total Recovered               11.134311858994042\n",
      "Total Active Cases            2.364429159245839\n",
      "City or Regency               nan\n",
      "Total Regencies               93.77571700546582\n",
      "Total Cities                  90.87698826997482\n",
      "Total Districts               95.27728305594792\n",
      "Total Urban Villages          89.44911871276791\n",
      "Total Rural Villages          89.22802923294233\n",
      "Area (km2)                    57.44027513357489\n",
      "Population                    92.23730270834612\n",
      "Population Density            83.25861327765153\n",
      "Longitude                     48.79321992261868\n",
      "Latitude                      13.296075661733095\n",
      "New Cases per Million         5.944850457532396\n",
      "Total Cases per Million       0.8997113554013388\n",
      "New Deaths per Million        23.35257630657741\n",
      "Total Deaths per Million      4.25597248664251\n",
      "Growth Factor of New Cases    49.63765890806363\n",
      "Growth Factor of New Deaths   49.84032426457041\n",
      "Name                          nan\n",
      "Item                          nan\n",
      "Kind                          nan\n",
      "Hidden                        nan\n"
     ]
    }
   ],
   "source": [
    "print(\"{} \\t{}\".format(\"Column Name\", \"Data with index 10 is in .. \\\"RANK\\\" percentile\").expandtabs(30))\n",
    "print(\"-\"*80)\n",
    "for col in data.select_dtypes(\"number\"):\n",
    "    print(\"{} \\t{}\".format(col, stats.percentileofscore(data[col], data[col][10], \"rank\")).expandtabs(30))"
   ]
  },
  {
   "cell_type": "markdown",
   "metadata": {
    "ExecuteTime": {
     "end_time": "2021-07-18T21:31:50.307927Z",
     "start_time": "2021-07-18T21:31:50.303939Z"
    }
   },
   "source": [
    "#### Quartile"
   ]
  },
  {
   "cell_type": "code",
   "execution_count": 14,
   "metadata": {
    "ExecuteTime": {
     "end_time": "2021-07-18T21:37:58.316183Z",
     "start_time": "2021-07-18T21:37:58.201357Z"
    }
   },
   "outputs": [
    {
     "name": "stdout",
     "output_type": "stream",
     "text": [
      "Column Name                   Q1                            Q3\n",
      "--------------------------------------------------------------------------------\n",
      "New Cases                     6.0                           127.0\n",
      "New Deaths                    0.0                           4.0\n",
      "New Recovered                 2.0                           106.0\n",
      "New Active Cases              -7.0                          32.0\n",
      "Total Cases                   726.5                         17774.5\n",
      "Total Deaths                  23.0                          556.0\n",
      "Total Recovered               386.0                         14304.5\n",
      "Total Active Cases            162.5                         2271.0\n",
      "City or Regency               nan                           nan\n",
      "Total Regencies               8.0                           18.0\n",
      "Total Cities                  1.0                           4.0\n",
      "Total Districts               116.0                         289.0\n",
      "Total Urban Villages          110.0                         332.0\n",
      "Total Rural Villages          995.0                         2853.0\n",
      "Area (km2)                    18572.0                       75468.0\n",
      "Population                    2570289.0                     9095591.0\n",
      "Population Density            47.79                         262.7\n",
      "Longitude                     106.10900430000001            120.16205590000001\n",
      "Latitude                      -6.204698991                  -0.08647457199999999\n",
      "New Cases per Million         1.645                         21.87\n",
      "Total Cases per Million       166.695                       3817.535\n",
      "New Deaths per Million        0.0                           0.55\n",
      "Total Deaths per Million      4.98                          93.52\n",
      "Growth Factor of New Cases    0.64                          1.33\n",
      "Growth Factor of New Deaths   0.67                          1.0\n",
      "Name                          nan                           nan\n",
      "Item                          nan                           nan\n",
      "Kind                          nan                           nan\n",
      "Hidden                        nan                           nan\n"
     ]
    }
   ],
   "source": [
    "print(\"{} \\t{} \\t{}\".format(\"Column Name\", \"Q1\", \"Q3\").expandtabs(30))\n",
    "print(\"-\"*80)\n",
    "for col in data.select_dtypes(\"number\"):\n",
    "    print(\"{} \\t{} \\t{}\".format(col, data[col].quantile(0.25), data[col].quantile(0.75)).expandtabs(30))"
   ]
  },
  {
   "cell_type": "markdown",
   "metadata": {
    "ExecuteTime": {
     "end_time": "2021-07-18T20:15:22.527892Z",
     "start_time": "2021-07-18T20:15:22.523871Z"
    }
   },
   "source": [
    "### Outliers"
   ]
  },
  {
   "cell_type": "code",
   "execution_count": 15,
   "metadata": {
    "ExecuteTime": {
     "end_time": "2021-07-18T21:37:58.708849Z",
     "start_time": "2021-07-18T21:37:58.317687Z"
    }
   },
   "outputs": [
    {
     "data": {
      "image/png": "[encoded data removed]",
      "text/plain": [
       "<Figure size 1440x720 with 1 Axes>"
      ]
     },
     "metadata": {},
     "output_type": "display_data"
    }
   ],
   "source": [
    "plt.figure(figsize = (20, 10))\n",
    "data.select_dtypes(\"number\").iloc[:, :4].boxplot();"
   ]
  },
  {
   "cell_type": "code",
   "execution_count": 16,
   "metadata": {
    "ExecuteTime": {
     "end_time": "2021-07-18T21:37:58.958727Z",
     "start_time": "2021-07-18T21:37:58.710844Z"
    }
   },
   "outputs": [
    {
     "data": {
      "image/png": "[encoded data removed]",
      "text/plain": [
       "<Figure size 1440x720 with 1 Axes>"
      ]
     },
     "metadata": {},
     "output_type": "display_data"
    }
   ],
   "source": [
    "plt.figure(figsize = (20, 10))\n",
    "data.select_dtypes(\"number\").iloc[:, 4:8].boxplot();"
   ]
  },
  {
   "cell_type": "code",
   "execution_count": 17,
   "metadata": {
    "ExecuteTime": {
     "end_time": "2021-07-18T21:37:59.200079Z",
     "start_time": "2021-07-18T21:37:58.960686Z"
    }
   },
   "outputs": [
    {
     "data": {
      "image/png": "[encoded data removed]",
      "text/plain": [
       "<Figure size 1440x720 with 1 Axes>"
      ]
     },
     "metadata": {},
     "output_type": "display_data"
    }
   ],
   "source": [
    "plt.figure(figsize = (20, 10))\n",
    "data.select_dtypes(\"number\").iloc[:, 8:12].boxplot();"
   ]
  },
  {
   "cell_type": "code",
   "execution_count": 18,
   "metadata": {
    "ExecuteTime": {
     "end_time": "2021-07-18T21:37:59.409485Z",
     "start_time": "2021-07-18T21:37:59.203039Z"
    }
   },
   "outputs": [
    {
     "data": {
      "image/png": "[encoded data removed]",
      "text/plain": [
       "<Figure size 1440x720 with 1 Axes>"
      ]
     },
     "metadata": {},
     "output_type": "display_data"
    }
   ],
   "source": [
    "plt.figure(figsize = (20, 10))\n",
    "data.select_dtypes(\"number\").iloc[:, 12:16].boxplot();"
   ]
  },
  {
   "cell_type": "code",
   "execution_count": 19,
   "metadata": {
    "ExecuteTime": {
     "end_time": "2021-07-18T21:37:59.836643Z",
     "start_time": "2021-07-18T21:37:59.410484Z"
    }
   },
   "outputs": [
    {
     "data": {
      "image/png": "[encoded data removed]",
      "text/plain": [
       "<Figure size 1440x720 with 1 Axes>"
      ]
     },
     "metadata": {},
     "output_type": "display_data"
    }
   ],
   "source": [
    "plt.figure(figsize = (20, 10))\n",
    "data.select_dtypes(\"number\").iloc[:, 16:20].boxplot();"
   ]
  },
  {
   "cell_type": "code",
   "execution_count": 20,
   "metadata": {
    "ExecuteTime": {
     "end_time": "2021-07-18T21:38:00.236576Z",
     "start_time": "2021-07-18T21:37:59.838634Z"
    }
   },
   "outputs": [
    {
     "data": {
      "image/png": "[encoded data removed]",
      "text/plain": [
       "<Figure size 1440x720 with 1 Axes>"
      ]
     },
     "metadata": {},
     "output_type": "display_data"
    }
   ],
   "source": [
    "plt.figure(figsize = (20, 10))\n",
    "data.select_dtypes(\"number\").iloc[:, 20:24].boxplot();"
   ]
  },
  {
   "cell_type": "code",
   "execution_count": 21,
   "metadata": {
    "ExecuteTime": {
     "end_time": "2021-07-18T21:38:00.760823Z",
     "start_time": "2021-07-18T21:38:00.238571Z"
    }
   },
   "outputs": [
    {
     "data": {
      "image/png": "[encoded data removed]",
      "text/plain": [
       "<Figure size 1440x720 with 1 Axes>"
      ]
     },
     "metadata": {},
     "output_type": "display_data"
    }
   ],
   "source": [
    "plt.figure(figsize = (20, 10))\n",
    "data.select_dtypes(\"number\").iloc[:, 24:].boxplot();"
   ]
  },
  {
   "cell_type": "markdown",
   "metadata": {
    "ExecuteTime": {
     "end_time": "2021-07-18T20:15:34.302136Z",
     "start_time": "2021-07-18T20:15:34.299142Z"
    }
   },
   "source": [
    "### Variance & Standard Deviation"
   ]
  },
  {
   "cell_type": "code",
   "execution_count": 22,
   "metadata": {
    "ExecuteTime": {
     "end_time": "2021-07-18T21:38:00.793734Z",
     "start_time": "2021-07-18T21:38:00.767806Z"
    }
   },
   "outputs": [
    {
     "name": "stdout",
     "output_type": "stream",
     "text": [
      "Column Name                   Variance                      Standard Deviation\n",
      "--------------------------------------------------------------------------------\n",
      "New Cases                     1768975.0113863915            1330.028199470369\n",
      "New Deaths                    1035.0011745859442            32.17143413940299\n",
      "New Recovered                 995574.7166775077             997.7849050158595\n",
      "New Active Cases              302724.1110859138             550.2036996294316\n",
      "Total Cases                   31859975638.7458              178493.62912649236\n",
      "Total Deaths                  24449410.620965578            4944.634528553711\n",
      "Total Recovered               24964550491.10002             158001.7420508395\n",
      "Total Active Cases            312231566.4026841             17670.07544982998\n",
      "City or Regency               nan                           nan\n",
      "Total Regencies               4852.352763919315             69.6588311983435\n",
      "Total Cities                  278.9313306874881             16.701237399890108\n",
      "Total Districts               1477633.8569536095            1215.5796382605336\n",
      "Total Urban Villages          2099380.939427156             1448.9240626848448\n",
      "Total Rural Villages          164516975.76972398            12826.41710571288\n",
      "Area (km2)                    105442580646.26654            324719.23356380744\n",
      "Population                    2066941678866670.2            45463630.28693013\n",
      "Population Density            7753847.687534159             2784.5731607437\n",
      "Longitude                     97.22442273160505             9.860244557393344\n",
      "Latitude                      13.094803321449477            3.618674249148364\n",
      "New Cases per Million         2053.885313667616             45.31981149196912\n",
      "Total Cases per Million       24873898.979124904            4987.373956214323\n",
      "New Deaths per Million        1.202937572335183             1.0967851076374\n",
      "Total Deaths per Million      9841.303197312935             99.20334267207399\n",
      "Growth Factor of New Cases    11.479813026027749            3.3881872772955965\n",
      "Growth Factor of New Deaths   3.7986195472727333            1.9490047581452266\n",
      "Name                          nan                           nan\n",
      "Item                          nan                           nan\n",
      "Kind                          nan                           nan\n",
      "Hidden                        nan                           nan\n"
     ]
    }
   ],
   "source": [
    "print(\"{} \\t{} \\t{}\".format(\"Column Name\", \"Variance\", \"Standard Deviation\").expandtabs(30))\n",
    "print(\"-\"*80)\n",
    "for col in data.select_dtypes(\"number\"):\n",
    "    print(\"{} \\t{} \\t{}\".format(col, data[col].var(), data[col].std()).expandtabs(30))"
   ]
  },
  {
   "cell_type": "markdown",
   "metadata": {
    "ExecuteTime": {
     "end_time": "2021-07-18T20:15:38.852875Z",
     "start_time": "2021-07-18T20:15:38.849883Z"
    }
   },
   "source": [
    "### Z Score"
   ]
  },
  {
   "cell_type": "code",
   "execution_count": 23,
   "metadata": {
    "ExecuteTime": {
     "end_time": "2021-07-18T21:38:00.826647Z",
     "start_time": "2021-07-18T21:38:00.796726Z"
    }
   },
   "outputs": [
    {
     "name": "stdout",
     "output_type": "stream",
     "text": [
      "Column Name                   data[col][0]                  Z Score\n",
      "--------------------------------------------------------------------------------\n",
      "New Cases                     9                             -0.21974863297096014\n",
      "New Deaths                    3                             -0.1529109250241011\n",
      "New Recovered                 1                             -0.247564161464623\n",
      "New Active Cases              5                             -0.07331235974547334\n",
      "Total Cases                   9                             -0.2394356342907616\n",
      "Total Deaths                  5                             -0.2505579809820938\n",
      "Total Recovered               10                            -0.23344216000035442\n",
      "Total Active Cases            -6                            -0.2611505382378257\n",
      "City or Regency               nan                           nan\n",
      "Total Regencies               29                            0.060395603453698814\n",
      "Total Cities                  9.0                           0.1766589866714845\n",
      "Total Districts               666                           0.1920110449608768\n",
      "Total Urban Villages          777.0                         0.1742961370028915\n",
      "Total Rural Villages          7724.0                        0.24107591022053593\n",
      "Area (km2)                    47803                         -0.2040978132039921\n",
      "Population                    40479023                      0.5371763064308921\n",
      "Population Density            846.78                        0.02818071721521383\n",
      "Longitude                     112.73294140000002            -0.07044049940721103\n",
      "Latitude                      -7.723345579                  -1.346695569942737\n",
      "New Cases per Million         0.22                          -0.4513174458400311\n",
      "Total Cases per Million       0.22                          -0.5968952955449122\n",
      "New Deaths per Million        0.07                          -0.3586358277415415\n",
      "Total Deaths per Million      0.12                          -0.7292334739753099\n",
      "Growth Factor of New Cases    nan                           nan\n",
      "Growth Factor of New Deaths   nan                           nan\n",
      "Name                          nan                           nan\n",
      "Item                          nan                           nan\n",
      "Kind                          nan                           nan\n",
      "Hidden                        nan                           nan\n"
     ]
    }
   ],
   "source": [
    "print(\"{} \\t{} \\t{}\".format(\"Column Name\", \"data[col][0]\", \"Z Score\").expandtabs(30))\n",
    "print(\"-\"*80)\n",
    "for col in data.select_dtypes(\"number\"):\n",
    "    print(\"{} \\t{} \\t{}\".format(col, data[col][0], (data[col][0]-data[col].mean())/data[col].std()).expandtabs(30))"
   ]
  }
 ],
 "metadata": {
  "kernelspec": {
   "display_name": "Python 3",
   "language": "python",
   "name": "python3"
  },
  "language_info": {
   "codemirror_mode": {
    "name": "ipython",
    "version": 3
   },
   "file_extension": ".py",
   "mimetype": "text/x-python",
   "name": "python",
   "nbconvert_exporter": "python",
   "pygments_lexer": "ipython3",
   "version": "3.8.5"
  },
  "nbTranslate": {
   "displayLangs": [
    "en"
   ],
   "hotkey": "alt-t",
   "langInMainMenu": true,
   "sourceLang": "en",
   "targetLang": "fr",
   "useGoogleTranslate": true
  },
  "toc": {
   "base_numbering": 1,
   "nav_menu": {},
   "number_sections": true,
   "sideBar": true,
   "skip_h1_title": false,
   "title_cell": "Table of Contents",
   "title_sidebar": "Contents",
   "toc_cell": true,
   "toc_position": {
    "height": "calc(100% - 180px)",
    "left": "10px",
    "top": "150px",
    "width": "256px"
   },
   "toc_section_display": true,
   "toc_window_display": true
  }
 },
 "nbformat": 4,
 "nbformat_minor": 4
}
