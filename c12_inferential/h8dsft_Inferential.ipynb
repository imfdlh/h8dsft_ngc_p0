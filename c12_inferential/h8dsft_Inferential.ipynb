{
 "cells": [
  {
   "cell_type": "markdown",
   "metadata": {
    "toc": true
   },
   "source": [
    "<h1>Table of Contents<span class=\"tocSkip\"></span></h1>\n",
    "<div class=\"toc\"><ul class=\"toc-item\"><li><span><a href=\"#Introduction\" data-toc-modified-id=\"Introduction-1\"><span class=\"toc-item-num\">1&nbsp;&nbsp;</span>Introduction</a></span></li><li><span><a href=\"#Import-Libray\" data-toc-modified-id=\"Import-Libray-2\"><span class=\"toc-item-num\">2&nbsp;&nbsp;</span>Import Libray</a></span></li><li><span><a href=\"#Question\" data-toc-modified-id=\"Question-3\"><span class=\"toc-item-num\">3&nbsp;&nbsp;</span>Question</a></span></li><li><span><a href=\"#Answer\" data-toc-modified-id=\"Answer-4\"><span class=\"toc-item-num\">4&nbsp;&nbsp;</span>Answer</a></span><ul class=\"toc-item\"><li><span><a href=\"#Load-Data\" data-toc-modified-id=\"Load-Data-4.1\"><span class=\"toc-item-num\">4.1&nbsp;&nbsp;</span>Load Data</a></span></li><li><span><a href=\"#Dataset-Exploration\" data-toc-modified-id=\"Dataset-Exploration-4.2\"><span class=\"toc-item-num\">4.2&nbsp;&nbsp;</span>Dataset Exploration</a></span></li><li><span><a href=\"#Data-Preprocessing\" data-toc-modified-id=\"Data-Preprocessing-4.3\"><span class=\"toc-item-num\">4.3&nbsp;&nbsp;</span>Data Preprocessing</a></span></li><li><span><a href=\"#Hypotesis-Testing\" data-toc-modified-id=\"Hypotesis-Testing-4.4\"><span class=\"toc-item-num\">4.4&nbsp;&nbsp;</span>Hypotesis Testing</a></span><ul class=\"toc-item\"><li><span><a href=\"#Paired-Tests---One-tailed\" data-toc-modified-id=\"Paired-Tests---One-tailed-4.4.1\"><span class=\"toc-item-num\">4.4.1&nbsp;&nbsp;</span>Paired Tests - One tailed</a></span></li></ul></li><li><span><a href=\"#Conclusions\" data-toc-modified-id=\"Conclusions-4.5\"><span class=\"toc-item-num\">4.5&nbsp;&nbsp;</span>Conclusions</a></span><ul class=\"toc-item\"><li><span><a href=\"#The-Trend\" data-toc-modified-id=\"The-Trend-4.5.1\"><span class=\"toc-item-num\">4.5.1&nbsp;&nbsp;</span>The Trend</a></span></li></ul></li></ul></li></ul></div>"
   ]
  },
  {
   "cell_type": "markdown",
   "metadata": {},
   "source": [
    "# Introduction\n",
    "\n",
    "**Name:** Fadilah Nur Imani\n",
    "<br>\n",
    "**Class/Batch:** FTDS/001\n",
    "<br>\n",
    "**Nongraded Challenge:** 12"
   ]
  },
  {
   "cell_type": "markdown",
   "metadata": {},
   "source": [
    "# Import Libray"
   ]
  },
  {
   "cell_type": "code",
   "execution_count": 1,
   "metadata": {
    "ExecuteTime": {
     "end_time": "2021-07-22T06:41:31.521651Z",
     "start_time": "2021-07-22T06:41:19.716427Z"
    }
   },
   "outputs": [],
   "source": [
    "import pandas as pd\n",
    "import numpy as np\n",
    "import matplotlib.pyplot as plt\n",
    "from scipy import stats"
   ]
  },
  {
   "cell_type": "code",
   "execution_count": 2,
   "metadata": {
    "ExecuteTime": {
     "end_time": "2021-07-22T06:41:31.531533Z",
     "start_time": "2021-07-22T06:41:31.523555Z"
    }
   },
   "outputs": [],
   "source": [
    "pd.set_option('display.max_columns', None)"
   ]
  },
  {
   "cell_type": "markdown",
   "metadata": {
    "ExecuteTime": {
     "end_time": "2021-07-15T17:58:57.702996Z",
     "start_time": "2021-07-15T17:58:57.693035Z"
    }
   },
   "source": [
    "# Question"
   ]
  },
  {
   "cell_type": "markdown",
   "metadata": {
    "ExecuteTime": {
     "end_time": "2021-07-15T18:02:35.795739Z",
     "start_time": "2021-07-15T18:02:35.790742Z"
    }
   },
   "source": [
    "Using data from this <a href=\"https://www.kaggle.com/hendratno/covid19-indonesia\"> Covid19 ID - Kaggle</a>:\n",
    "- Perform hypothesis test on the dataset above.\n",
    "- Write the conclusion from the analysis result."
   ]
  },
  {
   "cell_type": "markdown",
   "metadata": {
    "ExecuteTime": {
     "end_time": "2021-07-15T17:59:06.822770Z",
     "start_time": "2021-07-15T17:59:06.812801Z"
    }
   },
   "source": [
    "# Answer"
   ]
  },
  {
   "cell_type": "markdown",
   "metadata": {
    "ExecuteTime": {
     "end_time": "2021-07-21T16:11:55.394769Z",
     "start_time": "2021-07-21T16:11:55.390782Z"
    }
   },
   "source": [
    "## Load Data"
   ]
  },
  {
   "cell_type": "code",
   "execution_count": 3,
   "metadata": {
    "ExecuteTime": {
     "end_time": "2021-07-22T06:41:31.819186Z",
     "start_time": "2021-07-22T06:41:31.534524Z"
    }
   },
   "outputs": [],
   "source": [
    "data = pd.read_csv(\"data/covid_19_indonesia_time_series_all.csv\")"
   ]
  },
  {
   "cell_type": "markdown",
   "metadata": {
    "ExecuteTime": {
     "end_time": "2021-07-21T16:15:55.385741Z",
     "start_time": "2021-07-21T16:15:55.383730Z"
    }
   },
   "source": [
    "## Dataset Exploration"
   ]
  },
  {
   "cell_type": "code",
   "execution_count": 4,
   "metadata": {
    "ExecuteTime": {
     "end_time": "2021-07-22T06:41:31.973826Z",
     "start_time": "2021-07-22T06:41:31.825170Z"
    }
   },
   "outputs": [
    {
     "name": "stdout",
     "output_type": "stream",
     "text": [
      "(16283, 41)\n"
     ]
    },
    {
     "data": {
      "text/html": [
       "<div>\n",
       "<style scoped>\n",
       "    .dataframe tbody tr th:only-of-type {\n",
       "        vertical-align: middle;\n",
       "    }\n",
       "\n",
       "    .dataframe tbody tr th {\n",
       "        vertical-align: top;\n",
       "    }\n",
       "\n",
       "    .dataframe thead th {\n",
       "        text-align: right;\n",
       "    }\n",
       "</style>\n",
       "<table border=\"1\" class=\"dataframe\">\n",
       "  <thead>\n",
       "    <tr style=\"text-align: right;\">\n",
       "      <th></th>\n",
       "      <th>Date</th>\n",
       "      <th>Location ISO Code</th>\n",
       "      <th>Location</th>\n",
       "      <th>New Cases</th>\n",
       "      <th>New Deaths</th>\n",
       "      <th>New Recovered</th>\n",
       "      <th>New Active Cases</th>\n",
       "      <th>Total Cases</th>\n",
       "      <th>Total Deaths</th>\n",
       "      <th>Total Recovered</th>\n",
       "      <th>Total Active Cases</th>\n",
       "      <th>Location Level</th>\n",
       "      <th>City or Regency</th>\n",
       "      <th>Province</th>\n",
       "      <th>Country</th>\n",
       "      <th>Continent</th>\n",
       "      <th>Island</th>\n",
       "      <th>Time Zone</th>\n",
       "      <th>Special Status</th>\n",
       "      <th>Total Regencies</th>\n",
       "      <th>Total Cities</th>\n",
       "      <th>Total Districts</th>\n",
       "      <th>Total Urban Villages</th>\n",
       "      <th>Total Rural Villages</th>\n",
       "      <th>Area (km2)</th>\n",
       "      <th>Population</th>\n",
       "      <th>Population Density</th>\n",
       "      <th>Longitude</th>\n",
       "      <th>Latitude</th>\n",
       "      <th>New Cases per Million</th>\n",
       "      <th>Total Cases per Million</th>\n",
       "      <th>New Deaths per Million</th>\n",
       "      <th>Total Deaths per Million</th>\n",
       "      <th>Case Fatality Rate</th>\n",
       "      <th>Case Recovered Rate</th>\n",
       "      <th>Growth Factor of New Cases</th>\n",
       "      <th>Growth Factor of New Deaths</th>\n",
       "      <th>Name</th>\n",
       "      <th>Item</th>\n",
       "      <th>Kind</th>\n",
       "      <th>Hidden</th>\n",
       "    </tr>\n",
       "  </thead>\n",
       "  <tbody>\n",
       "    <tr>\n",
       "      <th>0</th>\n",
       "      <td>1/8/2020</td>\n",
       "      <td>ID-JI</td>\n",
       "      <td>Jawa Timur</td>\n",
       "      <td>9</td>\n",
       "      <td>3</td>\n",
       "      <td>1</td>\n",
       "      <td>5</td>\n",
       "      <td>9</td>\n",
       "      <td>5</td>\n",
       "      <td>10</td>\n",
       "      <td>-6</td>\n",
       "      <td>Province</td>\n",
       "      <td>NaN</td>\n",
       "      <td>Jawa Timur</td>\n",
       "      <td>Indonesia</td>\n",
       "      <td>Asia</td>\n",
       "      <td>Jawa</td>\n",
       "      <td>UTC+07:00</td>\n",
       "      <td>NaN</td>\n",
       "      <td>29</td>\n",
       "      <td>9.0</td>\n",
       "      <td>666</td>\n",
       "      <td>777.0</td>\n",
       "      <td>7724.0</td>\n",
       "      <td>47803</td>\n",
       "      <td>40479023</td>\n",
       "      <td>846.78</td>\n",
       "      <td>112.732941</td>\n",
       "      <td>-7.723346</td>\n",
       "      <td>0.22</td>\n",
       "      <td>0.22</td>\n",
       "      <td>0.07</td>\n",
       "      <td>0.12</td>\n",
       "      <td>55.56%</td>\n",
       "      <td>111.11%</td>\n",
       "      <td>NaN</td>\n",
       "      <td>NaN</td>\n",
       "      <td>NaN</td>\n",
       "      <td>NaN</td>\n",
       "      <td>NaN</td>\n",
       "      <td>NaN</td>\n",
       "    </tr>\n",
       "    <tr>\n",
       "      <th>1</th>\n",
       "      <td>1/9/2020</td>\n",
       "      <td>ID-JI</td>\n",
       "      <td>Jawa Timur</td>\n",
       "      <td>0</td>\n",
       "      <td>1</td>\n",
       "      <td>23</td>\n",
       "      <td>-24</td>\n",
       "      <td>9</td>\n",
       "      <td>6</td>\n",
       "      <td>33</td>\n",
       "      <td>-30</td>\n",
       "      <td>Province</td>\n",
       "      <td>NaN</td>\n",
       "      <td>Jawa Timur</td>\n",
       "      <td>Indonesia</td>\n",
       "      <td>Asia</td>\n",
       "      <td>Jawa</td>\n",
       "      <td>UTC+07:00</td>\n",
       "      <td>NaN</td>\n",
       "      <td>29</td>\n",
       "      <td>9.0</td>\n",
       "      <td>666</td>\n",
       "      <td>777.0</td>\n",
       "      <td>7724.0</td>\n",
       "      <td>47803</td>\n",
       "      <td>40479023</td>\n",
       "      <td>846.78</td>\n",
       "      <td>112.732941</td>\n",
       "      <td>-7.723346</td>\n",
       "      <td>0.00</td>\n",
       "      <td>0.22</td>\n",
       "      <td>0.02</td>\n",
       "      <td>0.15</td>\n",
       "      <td>66.67%</td>\n",
       "      <td>366.67%</td>\n",
       "      <td>0.0</td>\n",
       "      <td>0.33</td>\n",
       "      <td>NaN</td>\n",
       "      <td>NaN</td>\n",
       "      <td>NaN</td>\n",
       "      <td>NaN</td>\n",
       "    </tr>\n",
       "    <tr>\n",
       "      <th>2</th>\n",
       "      <td>1/10/2020</td>\n",
       "      <td>ID-JI</td>\n",
       "      <td>Jawa Timur</td>\n",
       "      <td>0</td>\n",
       "      <td>1</td>\n",
       "      <td>14</td>\n",
       "      <td>-15</td>\n",
       "      <td>9</td>\n",
       "      <td>7</td>\n",
       "      <td>47</td>\n",
       "      <td>-45</td>\n",
       "      <td>Province</td>\n",
       "      <td>NaN</td>\n",
       "      <td>Jawa Timur</td>\n",
       "      <td>Indonesia</td>\n",
       "      <td>Asia</td>\n",
       "      <td>Jawa</td>\n",
       "      <td>UTC+07:00</td>\n",
       "      <td>NaN</td>\n",
       "      <td>29</td>\n",
       "      <td>9.0</td>\n",
       "      <td>666</td>\n",
       "      <td>777.0</td>\n",
       "      <td>7724.0</td>\n",
       "      <td>47803</td>\n",
       "      <td>40479023</td>\n",
       "      <td>846.78</td>\n",
       "      <td>112.732941</td>\n",
       "      <td>-7.723346</td>\n",
       "      <td>0.00</td>\n",
       "      <td>0.22</td>\n",
       "      <td>0.02</td>\n",
       "      <td>0.17</td>\n",
       "      <td>77.78%</td>\n",
       "      <td>522.22%</td>\n",
       "      <td>1.0</td>\n",
       "      <td>1.00</td>\n",
       "      <td>NaN</td>\n",
       "      <td>NaN</td>\n",
       "      <td>NaN</td>\n",
       "      <td>NaN</td>\n",
       "    </tr>\n",
       "    <tr>\n",
       "      <th>3</th>\n",
       "      <td>1/11/2020</td>\n",
       "      <td>ID-JI</td>\n",
       "      <td>Jawa Timur</td>\n",
       "      <td>0</td>\n",
       "      <td>3</td>\n",
       "      <td>8</td>\n",
       "      <td>-11</td>\n",
       "      <td>9</td>\n",
       "      <td>10</td>\n",
       "      <td>55</td>\n",
       "      <td>-56</td>\n",
       "      <td>Province</td>\n",
       "      <td>NaN</td>\n",
       "      <td>Jawa Timur</td>\n",
       "      <td>Indonesia</td>\n",
       "      <td>Asia</td>\n",
       "      <td>Jawa</td>\n",
       "      <td>UTC+07:00</td>\n",
       "      <td>NaN</td>\n",
       "      <td>29</td>\n",
       "      <td>9.0</td>\n",
       "      <td>666</td>\n",
       "      <td>777.0</td>\n",
       "      <td>7724.0</td>\n",
       "      <td>47803</td>\n",
       "      <td>40479023</td>\n",
       "      <td>846.78</td>\n",
       "      <td>112.732941</td>\n",
       "      <td>-7.723346</td>\n",
       "      <td>0.00</td>\n",
       "      <td>0.22</td>\n",
       "      <td>0.07</td>\n",
       "      <td>0.25</td>\n",
       "      <td>111.11%</td>\n",
       "      <td>611.11%</td>\n",
       "      <td>1.0</td>\n",
       "      <td>3.00</td>\n",
       "      <td>NaN</td>\n",
       "      <td>NaN</td>\n",
       "      <td>NaN</td>\n",
       "      <td>NaN</td>\n",
       "    </tr>\n",
       "    <tr>\n",
       "      <th>4</th>\n",
       "      <td>1/12/2020</td>\n",
       "      <td>ID-JI</td>\n",
       "      <td>Jawa Timur</td>\n",
       "      <td>0</td>\n",
       "      <td>3</td>\n",
       "      <td>1</td>\n",
       "      <td>-4</td>\n",
       "      <td>9</td>\n",
       "      <td>13</td>\n",
       "      <td>56</td>\n",
       "      <td>-60</td>\n",
       "      <td>Province</td>\n",
       "      <td>NaN</td>\n",
       "      <td>Jawa Timur</td>\n",
       "      <td>Indonesia</td>\n",
       "      <td>Asia</td>\n",
       "      <td>Jawa</td>\n",
       "      <td>UTC+07:00</td>\n",
       "      <td>NaN</td>\n",
       "      <td>29</td>\n",
       "      <td>9.0</td>\n",
       "      <td>666</td>\n",
       "      <td>777.0</td>\n",
       "      <td>7724.0</td>\n",
       "      <td>47803</td>\n",
       "      <td>40479023</td>\n",
       "      <td>846.78</td>\n",
       "      <td>112.732941</td>\n",
       "      <td>-7.723346</td>\n",
       "      <td>0.00</td>\n",
       "      <td>0.22</td>\n",
       "      <td>0.07</td>\n",
       "      <td>0.32</td>\n",
       "      <td>144.44%</td>\n",
       "      <td>622.22%</td>\n",
       "      <td>1.0</td>\n",
       "      <td>1.00</td>\n",
       "      <td>NaN</td>\n",
       "      <td>NaN</td>\n",
       "      <td>NaN</td>\n",
       "      <td>NaN</td>\n",
       "    </tr>\n",
       "  </tbody>\n",
       "</table>\n",
       "</div>"
      ],
      "text/plain": [
       "        Date Location ISO Code    Location  New Cases  New Deaths  \\\n",
       "0   1/8/2020             ID-JI  Jawa Timur          9           3   \n",
       "1   1/9/2020             ID-JI  Jawa Timur          0           1   \n",
       "2  1/10/2020             ID-JI  Jawa Timur          0           1   \n",
       "3  1/11/2020             ID-JI  Jawa Timur          0           3   \n",
       "4  1/12/2020             ID-JI  Jawa Timur          0           3   \n",
       "\n",
       "   New Recovered  New Active Cases  Total Cases  Total Deaths  \\\n",
       "0              1                 5            9             5   \n",
       "1             23               -24            9             6   \n",
       "2             14               -15            9             7   \n",
       "3              8               -11            9            10   \n",
       "4              1                -4            9            13   \n",
       "\n",
       "   Total Recovered  Total Active Cases Location Level  City or Regency  \\\n",
       "0               10                  -6       Province              NaN   \n",
       "1               33                 -30       Province              NaN   \n",
       "2               47                 -45       Province              NaN   \n",
       "3               55                 -56       Province              NaN   \n",
       "4               56                 -60       Province              NaN   \n",
       "\n",
       "     Province    Country Continent Island  Time Zone Special Status  \\\n",
       "0  Jawa Timur  Indonesia      Asia   Jawa  UTC+07:00            NaN   \n",
       "1  Jawa Timur  Indonesia      Asia   Jawa  UTC+07:00            NaN   \n",
       "2  Jawa Timur  Indonesia      Asia   Jawa  UTC+07:00            NaN   \n",
       "3  Jawa Timur  Indonesia      Asia   Jawa  UTC+07:00            NaN   \n",
       "4  Jawa Timur  Indonesia      Asia   Jawa  UTC+07:00            NaN   \n",
       "\n",
       "   Total Regencies  Total Cities  Total Districts  Total Urban Villages  \\\n",
       "0               29           9.0              666                 777.0   \n",
       "1               29           9.0              666                 777.0   \n",
       "2               29           9.0              666                 777.0   \n",
       "3               29           9.0              666                 777.0   \n",
       "4               29           9.0              666                 777.0   \n",
       "\n",
       "   Total Rural Villages  Area (km2)  Population  Population Density  \\\n",
       "0                7724.0       47803    40479023              846.78   \n",
       "1                7724.0       47803    40479023              846.78   \n",
       "2                7724.0       47803    40479023              846.78   \n",
       "3                7724.0       47803    40479023              846.78   \n",
       "4                7724.0       47803    40479023              846.78   \n",
       "\n",
       "    Longitude  Latitude  New Cases per Million  Total Cases per Million  \\\n",
       "0  112.732941 -7.723346                   0.22                     0.22   \n",
       "1  112.732941 -7.723346                   0.00                     0.22   \n",
       "2  112.732941 -7.723346                   0.00                     0.22   \n",
       "3  112.732941 -7.723346                   0.00                     0.22   \n",
       "4  112.732941 -7.723346                   0.00                     0.22   \n",
       "\n",
       "   New Deaths per Million  Total Deaths per Million Case Fatality Rate  \\\n",
       "0                    0.07                      0.12             55.56%   \n",
       "1                    0.02                      0.15             66.67%   \n",
       "2                    0.02                      0.17             77.78%   \n",
       "3                    0.07                      0.25            111.11%   \n",
       "4                    0.07                      0.32            144.44%   \n",
       "\n",
       "  Case Recovered Rate  Growth Factor of New Cases  \\\n",
       "0             111.11%                         NaN   \n",
       "1             366.67%                         0.0   \n",
       "2             522.22%                         1.0   \n",
       "3             611.11%                         1.0   \n",
       "4             622.22%                         1.0   \n",
       "\n",
       "   Growth Factor of New Deaths  Name  Item  Kind  Hidden  \n",
       "0                          NaN   NaN   NaN   NaN     NaN  \n",
       "1                         0.33   NaN   NaN   NaN     NaN  \n",
       "2                         1.00   NaN   NaN   NaN     NaN  \n",
       "3                         3.00   NaN   NaN   NaN     NaN  \n",
       "4                         1.00   NaN   NaN   NaN     NaN  "
      ]
     },
     "execution_count": 4,
     "metadata": {},
     "output_type": "execute_result"
    }
   ],
   "source": [
    "print(data.shape)\n",
    "data.head()"
   ]
  },
  {
   "cell_type": "code",
   "execution_count": 5,
   "metadata": {
    "ExecuteTime": {
     "end_time": "2021-07-22T06:41:32.050864Z",
     "start_time": "2021-07-22T06:41:31.976818Z"
    }
   },
   "outputs": [
    {
     "name": "stdout",
     "output_type": "stream",
     "text": [
      "<class 'pandas.core.frame.DataFrame'>\n",
      "RangeIndex: 16283 entries, 0 to 16282\n",
      "Data columns (total 41 columns):\n",
      " #   Column                       Non-Null Count  Dtype  \n",
      "---  ------                       --------------  -----  \n",
      " 0   Date                         16283 non-null  object \n",
      " 1   Location ISO Code            16283 non-null  object \n",
      " 2   Location                     16283 non-null  object \n",
      " 3   New Cases                    16283 non-null  int64  \n",
      " 4   New Deaths                   16283 non-null  int64  \n",
      " 5   New Recovered                16283 non-null  int64  \n",
      " 6   New Active Cases             16283 non-null  int64  \n",
      " 7   Total Cases                  16283 non-null  int64  \n",
      " 8   Total Deaths                 16283 non-null  int64  \n",
      " 9   Total Recovered              16283 non-null  int64  \n",
      " 10  Total Active Cases           16283 non-null  int64  \n",
      " 11  Location Level               16283 non-null  object \n",
      " 12  City or Regency              0 non-null      float64\n",
      " 13  Province                     15788 non-null  object \n",
      " 14  Country                      16283 non-null  object \n",
      " 15  Continent                    16283 non-null  object \n",
      " 16  Island                       15788 non-null  object \n",
      " 17  Time Zone                    15788 non-null  object \n",
      " 18  Special Status               2393 non-null   object \n",
      " 19  Total Regencies              16283 non-null  int64  \n",
      " 20  Total Cities                 15814 non-null  float64\n",
      " 21  Total Districts              16283 non-null  int64  \n",
      " 22  Total Urban Villages         15812 non-null  float64\n",
      " 23  Total Rural Villages         15787 non-null  float64\n",
      " 24  Area (km2)                   16283 non-null  int64  \n",
      " 25  Population                   16283 non-null  int64  \n",
      " 26  Population Density           16283 non-null  float64\n",
      " 27  Longitude                    16283 non-null  float64\n",
      " 28  Latitude                     16283 non-null  float64\n",
      " 29  New Cases per Million        16283 non-null  float64\n",
      " 30  Total Cases per Million      16283 non-null  float64\n",
      " 31  New Deaths per Million       16283 non-null  float64\n",
      " 32  Total Deaths per Million     16283 non-null  float64\n",
      " 33  Case Fatality Rate           16283 non-null  object \n",
      " 34  Case Recovered Rate          16283 non-null  object \n",
      " 35  Growth Factor of New Cases   15298 non-null  float64\n",
      " 36  Growth Factor of New Deaths  14344 non-null  float64\n",
      " 37  Name                         0 non-null      float64\n",
      " 38  Item                         0 non-null      float64\n",
      " 39  Kind                         0 non-null      float64\n",
      " 40  Hidden                       0 non-null      float64\n",
      "dtypes: float64(17), int64(12), object(12)\n",
      "memory usage: 5.1+ MB\n"
     ]
    }
   ],
   "source": [
    "data.info()"
   ]
  },
  {
   "cell_type": "code",
   "execution_count": 6,
   "metadata": {
    "ExecuteTime": {
     "end_time": "2021-07-22T06:41:32.332333Z",
     "start_time": "2021-07-22T06:41:32.053857Z"
    }
   },
   "outputs": [
    {
     "data": {
      "text/html": [
       "<div>\n",
       "<style scoped>\n",
       "    .dataframe tbody tr th:only-of-type {\n",
       "        vertical-align: middle;\n",
       "    }\n",
       "\n",
       "    .dataframe tbody tr th {\n",
       "        vertical-align: top;\n",
       "    }\n",
       "\n",
       "    .dataframe thead th {\n",
       "        text-align: right;\n",
       "    }\n",
       "</style>\n",
       "<table border=\"1\" class=\"dataframe\">\n",
       "  <thead>\n",
       "    <tr style=\"text-align: right;\">\n",
       "      <th></th>\n",
       "      <th>count</th>\n",
       "      <th>mean</th>\n",
       "      <th>std</th>\n",
       "      <th>min</th>\n",
       "      <th>25%</th>\n",
       "      <th>50%</th>\n",
       "      <th>75%</th>\n",
       "      <th>max</th>\n",
       "    </tr>\n",
       "  </thead>\n",
       "  <tbody>\n",
       "    <tr>\n",
       "      <th>New Cases</th>\n",
       "      <td>16283.0</td>\n",
       "      <td>3.012719e+02</td>\n",
       "      <td>1.330028e+03</td>\n",
       "      <td>0.000000</td>\n",
       "      <td>6.000000e+00</td>\n",
       "      <td>3.900000e+01</td>\n",
       "      <td>1.270000e+02</td>\n",
       "      <td>3.839100e+04</td>\n",
       "    </tr>\n",
       "    <tr>\n",
       "      <th>New Deaths</th>\n",
       "      <td>16283.0</td>\n",
       "      <td>7.919364e+00</td>\n",
       "      <td>3.217143e+01</td>\n",
       "      <td>0.000000</td>\n",
       "      <td>0.000000e+00</td>\n",
       "      <td>1.000000e+00</td>\n",
       "      <td>4.000000e+00</td>\n",
       "      <td>1.040000e+03</td>\n",
       "    </tr>\n",
       "    <tr>\n",
       "      <th>New Recovered</th>\n",
       "      <td>16283.0</td>\n",
       "      <td>2.480158e+02</td>\n",
       "      <td>9.977849e+02</td>\n",
       "      <td>0.000000</td>\n",
       "      <td>2.000000e+00</td>\n",
       "      <td>2.400000e+01</td>\n",
       "      <td>1.060000e+02</td>\n",
       "      <td>2.897500e+04</td>\n",
       "    </tr>\n",
       "    <tr>\n",
       "      <th>New Active Cases</th>\n",
       "      <td>16283.0</td>\n",
       "      <td>4.533673e+01</td>\n",
       "      <td>5.502037e+02</td>\n",
       "      <td>-8381.000000</td>\n",
       "      <td>-7.000000e+00</td>\n",
       "      <td>2.000000e+00</td>\n",
       "      <td>3.200000e+01</td>\n",
       "      <td>1.850400e+04</td>\n",
       "    </tr>\n",
       "    <tr>\n",
       "      <th>Total Cases</th>\n",
       "      <td>16283.0</td>\n",
       "      <td>4.274674e+04</td>\n",
       "      <td>1.784936e+05</td>\n",
       "      <td>1.000000</td>\n",
       "      <td>7.265000e+02</td>\n",
       "      <td>5.941000e+03</td>\n",
       "      <td>1.777450e+04</td>\n",
       "      <td>2.455912e+06</td>\n",
       "    </tr>\n",
       "    <tr>\n",
       "      <th>Total Deaths</th>\n",
       "      <td>16283.0</td>\n",
       "      <td>1.243918e+03</td>\n",
       "      <td>4.944635e+03</td>\n",
       "      <td>0.000000</td>\n",
       "      <td>2.300000e+01</td>\n",
       "      <td>1.490000e+02</td>\n",
       "      <td>5.560000e+02</td>\n",
       "      <td>6.463100e+04</td>\n",
       "    </tr>\n",
       "    <tr>\n",
       "      <th>Total Recovered</th>\n",
       "      <td>16283.0</td>\n",
       "      <td>3.689427e+04</td>\n",
       "      <td>1.580017e+05</td>\n",
       "      <td>0.000000</td>\n",
       "      <td>3.860000e+02</td>\n",
       "      <td>4.484000e+03</td>\n",
       "      <td>1.430450e+04</td>\n",
       "      <td>2.023548e+06</td>\n",
       "    </tr>\n",
       "    <tr>\n",
       "      <th>Total Active Cases</th>\n",
       "      <td>16283.0</td>\n",
       "      <td>4.608550e+03</td>\n",
       "      <td>1.767008e+04</td>\n",
       "      <td>-2395.000000</td>\n",
       "      <td>1.625000e+02</td>\n",
       "      <td>8.510000e+02</td>\n",
       "      <td>2.271000e+03</td>\n",
       "      <td>3.677330e+05</td>\n",
       "    </tr>\n",
       "    <tr>\n",
       "      <th>City or Regency</th>\n",
       "      <td>0.0</td>\n",
       "      <td>NaN</td>\n",
       "      <td>NaN</td>\n",
       "      <td>NaN</td>\n",
       "      <td>NaN</td>\n",
       "      <td>NaN</td>\n",
       "      <td>NaN</td>\n",
       "      <td>NaN</td>\n",
       "    </tr>\n",
       "    <tr>\n",
       "      <th>Total Regencies</th>\n",
       "      <td>16283.0</td>\n",
       "      <td>2.479291e+01</td>\n",
       "      <td>6.965883e+01</td>\n",
       "      <td>1.000000</td>\n",
       "      <td>8.000000e+00</td>\n",
       "      <td>1.200000e+01</td>\n",
       "      <td>1.800000e+01</td>\n",
       "      <td>4.160000e+02</td>\n",
       "    </tr>\n",
       "    <tr>\n",
       "      <th>Total Cities</th>\n",
       "      <td>15814.0</td>\n",
       "      <td>6.049576e+00</td>\n",
       "      <td>1.670124e+01</td>\n",
       "      <td>1.000000</td>\n",
       "      <td>1.000000e+00</td>\n",
       "      <td>2.000000e+00</td>\n",
       "      <td>4.000000e+00</td>\n",
       "      <td>9.800000e+01</td>\n",
       "    </tr>\n",
       "    <tr>\n",
       "      <th>Total Districts</th>\n",
       "      <td>16283.0</td>\n",
       "      <td>4.325953e+02</td>\n",
       "      <td>1.215580e+03</td>\n",
       "      <td>44.000000</td>\n",
       "      <td>1.160000e+02</td>\n",
       "      <td>1.710000e+02</td>\n",
       "      <td>2.890000e+02</td>\n",
       "      <td>7.230000e+03</td>\n",
       "    </tr>\n",
       "    <tr>\n",
       "      <th>Total Urban Villages</th>\n",
       "      <td>15812.0</td>\n",
       "      <td>5.244581e+02</td>\n",
       "      <td>1.448924e+03</td>\n",
       "      <td>35.000000</td>\n",
       "      <td>1.100000e+02</td>\n",
       "      <td>1.750000e+02</td>\n",
       "      <td>3.320000e+02</td>\n",
       "      <td>8.488000e+03</td>\n",
       "    </tr>\n",
       "    <tr>\n",
       "      <th>Total Rural Villages</th>\n",
       "      <td>15787.0</td>\n",
       "      <td>4.631860e+03</td>\n",
       "      <td>1.282642e+04</td>\n",
       "      <td>275.000000</td>\n",
       "      <td>9.950000e+02</td>\n",
       "      <td>1.591000e+03</td>\n",
       "      <td>2.853000e+03</td>\n",
       "      <td>7.495300e+04</td>\n",
       "    </tr>\n",
       "    <tr>\n",
       "      <th>Area (km2)</th>\n",
       "      <td>16283.0</td>\n",
       "      <td>1.140775e+05</td>\n",
       "      <td>3.247192e+05</td>\n",
       "      <td>664.000000</td>\n",
       "      <td>1.857200e+04</td>\n",
       "      <td>4.671700e+04</td>\n",
       "      <td>7.546800e+04</td>\n",
       "      <td>1.916907e+06</td>\n",
       "    </tr>\n",
       "    <tr>\n",
       "      <th>Population</th>\n",
       "      <td>16283.0</td>\n",
       "      <td>1.605704e+07</td>\n",
       "      <td>4.546363e+07</td>\n",
       "      <td>648407.000000</td>\n",
       "      <td>2.570289e+06</td>\n",
       "      <td>4.340348e+06</td>\n",
       "      <td>9.095591e+06</td>\n",
       "      <td>2.651855e+08</td>\n",
       "    </tr>\n",
       "    <tr>\n",
       "      <th>Population Density</th>\n",
       "      <td>16283.0</td>\n",
       "      <td>7.683087e+02</td>\n",
       "      <td>2.784573e+03</td>\n",
       "      <td>8.590000</td>\n",
       "      <td>4.779000e+01</td>\n",
       "      <td>1.038400e+02</td>\n",
       "      <td>2.627000e+02</td>\n",
       "      <td>1.633431e+04</td>\n",
       "    </tr>\n",
       "    <tr>\n",
       "      <th>Longitude</th>\n",
       "      <td>16283.0</td>\n",
       "      <td>1.134275e+02</td>\n",
       "      <td>9.860245e+00</td>\n",
       "      <td>96.910522</td>\n",
       "      <td>1.061090e+02</td>\n",
       "      <td>1.127329e+02</td>\n",
       "      <td>1.201621e+02</td>\n",
       "      <td>1.386960e+02</td>\n",
       "    </tr>\n",
       "    <tr>\n",
       "      <th>Latitude</th>\n",
       "      <td>16283.0</td>\n",
       "      <td>-2.850093e+00</td>\n",
       "      <td>3.618674e+00</td>\n",
       "      <td>-8.682205</td>\n",
       "      <td>-6.204699e+00</td>\n",
       "      <td>-2.993595e+00</td>\n",
       "      <td>-8.647457e-02</td>\n",
       "      <td>4.225615e+00</td>\n",
       "    </tr>\n",
       "    <tr>\n",
       "      <th>New Cases per Million</th>\n",
       "      <td>16283.0</td>\n",
       "      <td>2.067362e+01</td>\n",
       "      <td>4.531981e+01</td>\n",
       "      <td>0.000000</td>\n",
       "      <td>1.645000e+00</td>\n",
       "      <td>7.670000e+00</td>\n",
       "      <td>2.187000e+01</td>\n",
       "      <td>1.208910e+03</td>\n",
       "    </tr>\n",
       "    <tr>\n",
       "      <th>Total Cases per Million</th>\n",
       "      <td>16283.0</td>\n",
       "      <td>2.977160e+03</td>\n",
       "      <td>4.987374e+03</td>\n",
       "      <td>0.010000</td>\n",
       "      <td>1.666950e+02</td>\n",
       "      <td>1.398640e+03</td>\n",
       "      <td>3.817535e+03</td>\n",
       "      <td>5.867366e+04</td>\n",
       "    </tr>\n",
       "    <tr>\n",
       "      <th>New Deaths per Million</th>\n",
       "      <td>16283.0</td>\n",
       "      <td>4.633464e-01</td>\n",
       "      <td>1.096785e+00</td>\n",
       "      <td>0.000000</td>\n",
       "      <td>0.000000e+00</td>\n",
       "      <td>1.100000e-01</td>\n",
       "      <td>5.500000e-01</td>\n",
       "      <td>6.380000e+01</td>\n",
       "    </tr>\n",
       "    <tr>\n",
       "      <th>Total Deaths per Million</th>\n",
       "      <td>16283.0</td>\n",
       "      <td>7.246240e+01</td>\n",
       "      <td>9.920334e+01</td>\n",
       "      <td>0.000000</td>\n",
       "      <td>4.980000e+00</td>\n",
       "      <td>4.138000e+01</td>\n",
       "      <td>9.352000e+01</td>\n",
       "      <td>8.546800e+02</td>\n",
       "    </tr>\n",
       "    <tr>\n",
       "      <th>Growth Factor of New Cases</th>\n",
       "      <td>15298.0</td>\n",
       "      <td>1.437652e+00</td>\n",
       "      <td>3.388187e+00</td>\n",
       "      <td>0.000000</td>\n",
       "      <td>6.400000e-01</td>\n",
       "      <td>1.000000e+00</td>\n",
       "      <td>1.330000e+00</td>\n",
       "      <td>1.750000e+02</td>\n",
       "    </tr>\n",
       "    <tr>\n",
       "      <th>Growth Factor of New Deaths</th>\n",
       "      <td>14344.0</td>\n",
       "      <td>1.084872e+00</td>\n",
       "      <td>1.949005e+00</td>\n",
       "      <td>0.000000</td>\n",
       "      <td>6.700000e-01</td>\n",
       "      <td>1.000000e+00</td>\n",
       "      <td>1.000000e+00</td>\n",
       "      <td>1.345000e+02</td>\n",
       "    </tr>\n",
       "    <tr>\n",
       "      <th>Name</th>\n",
       "      <td>0.0</td>\n",
       "      <td>NaN</td>\n",
       "      <td>NaN</td>\n",
       "      <td>NaN</td>\n",
       "      <td>NaN</td>\n",
       "      <td>NaN</td>\n",
       "      <td>NaN</td>\n",
       "      <td>NaN</td>\n",
       "    </tr>\n",
       "    <tr>\n",
       "      <th>Item</th>\n",
       "      <td>0.0</td>\n",
       "      <td>NaN</td>\n",
       "      <td>NaN</td>\n",
       "      <td>NaN</td>\n",
       "      <td>NaN</td>\n",
       "      <td>NaN</td>\n",
       "      <td>NaN</td>\n",
       "      <td>NaN</td>\n",
       "    </tr>\n",
       "    <tr>\n",
       "      <th>Kind</th>\n",
       "      <td>0.0</td>\n",
       "      <td>NaN</td>\n",
       "      <td>NaN</td>\n",
       "      <td>NaN</td>\n",
       "      <td>NaN</td>\n",
       "      <td>NaN</td>\n",
       "      <td>NaN</td>\n",
       "      <td>NaN</td>\n",
       "    </tr>\n",
       "    <tr>\n",
       "      <th>Hidden</th>\n",
       "      <td>0.0</td>\n",
       "      <td>NaN</td>\n",
       "      <td>NaN</td>\n",
       "      <td>NaN</td>\n",
       "      <td>NaN</td>\n",
       "      <td>NaN</td>\n",
       "      <td>NaN</td>\n",
       "      <td>NaN</td>\n",
       "    </tr>\n",
       "  </tbody>\n",
       "</table>\n",
       "</div>"
      ],
      "text/plain": [
       "                               count          mean           std  \\\n",
       "New Cases                    16283.0  3.012719e+02  1.330028e+03   \n",
       "New Deaths                   16283.0  7.919364e+00  3.217143e+01   \n",
       "New Recovered                16283.0  2.480158e+02  9.977849e+02   \n",
       "New Active Cases             16283.0  4.533673e+01  5.502037e+02   \n",
       "Total Cases                  16283.0  4.274674e+04  1.784936e+05   \n",
       "Total Deaths                 16283.0  1.243918e+03  4.944635e+03   \n",
       "Total Recovered              16283.0  3.689427e+04  1.580017e+05   \n",
       "Total Active Cases           16283.0  4.608550e+03  1.767008e+04   \n",
       "City or Regency                  0.0           NaN           NaN   \n",
       "Total Regencies              16283.0  2.479291e+01  6.965883e+01   \n",
       "Total Cities                 15814.0  6.049576e+00  1.670124e+01   \n",
       "Total Districts              16283.0  4.325953e+02  1.215580e+03   \n",
       "Total Urban Villages         15812.0  5.244581e+02  1.448924e+03   \n",
       "Total Rural Villages         15787.0  4.631860e+03  1.282642e+04   \n",
       "Area (km2)                   16283.0  1.140775e+05  3.247192e+05   \n",
       "Population                   16283.0  1.605704e+07  4.546363e+07   \n",
       "Population Density           16283.0  7.683087e+02  2.784573e+03   \n",
       "Longitude                    16283.0  1.134275e+02  9.860245e+00   \n",
       "Latitude                     16283.0 -2.850093e+00  3.618674e+00   \n",
       "New Cases per Million        16283.0  2.067362e+01  4.531981e+01   \n",
       "Total Cases per Million      16283.0  2.977160e+03  4.987374e+03   \n",
       "New Deaths per Million       16283.0  4.633464e-01  1.096785e+00   \n",
       "Total Deaths per Million     16283.0  7.246240e+01  9.920334e+01   \n",
       "Growth Factor of New Cases   15298.0  1.437652e+00  3.388187e+00   \n",
       "Growth Factor of New Deaths  14344.0  1.084872e+00  1.949005e+00   \n",
       "Name                             0.0           NaN           NaN   \n",
       "Item                             0.0           NaN           NaN   \n",
       "Kind                             0.0           NaN           NaN   \n",
       "Hidden                           0.0           NaN           NaN   \n",
       "\n",
       "                                       min           25%           50%  \\\n",
       "New Cases                         0.000000  6.000000e+00  3.900000e+01   \n",
       "New Deaths                        0.000000  0.000000e+00  1.000000e+00   \n",
       "New Recovered                     0.000000  2.000000e+00  2.400000e+01   \n",
       "New Active Cases              -8381.000000 -7.000000e+00  2.000000e+00   \n",
       "Total Cases                       1.000000  7.265000e+02  5.941000e+03   \n",
       "Total Deaths                      0.000000  2.300000e+01  1.490000e+02   \n",
       "Total Recovered                   0.000000  3.860000e+02  4.484000e+03   \n",
       "Total Active Cases            -2395.000000  1.625000e+02  8.510000e+02   \n",
       "City or Regency                        NaN           NaN           NaN   \n",
       "Total Regencies                   1.000000  8.000000e+00  1.200000e+01   \n",
       "Total Cities                      1.000000  1.000000e+00  2.000000e+00   \n",
       "Total Districts                  44.000000  1.160000e+02  1.710000e+02   \n",
       "Total Urban Villages             35.000000  1.100000e+02  1.750000e+02   \n",
       "Total Rural Villages            275.000000  9.950000e+02  1.591000e+03   \n",
       "Area (km2)                      664.000000  1.857200e+04  4.671700e+04   \n",
       "Population                   648407.000000  2.570289e+06  4.340348e+06   \n",
       "Population Density                8.590000  4.779000e+01  1.038400e+02   \n",
       "Longitude                        96.910522  1.061090e+02  1.127329e+02   \n",
       "Latitude                         -8.682205 -6.204699e+00 -2.993595e+00   \n",
       "New Cases per Million             0.000000  1.645000e+00  7.670000e+00   \n",
       "Total Cases per Million           0.010000  1.666950e+02  1.398640e+03   \n",
       "New Deaths per Million            0.000000  0.000000e+00  1.100000e-01   \n",
       "Total Deaths per Million          0.000000  4.980000e+00  4.138000e+01   \n",
       "Growth Factor of New Cases        0.000000  6.400000e-01  1.000000e+00   \n",
       "Growth Factor of New Deaths       0.000000  6.700000e-01  1.000000e+00   \n",
       "Name                                   NaN           NaN           NaN   \n",
       "Item                                   NaN           NaN           NaN   \n",
       "Kind                                   NaN           NaN           NaN   \n",
       "Hidden                                 NaN           NaN           NaN   \n",
       "\n",
       "                                      75%           max  \n",
       "New Cases                    1.270000e+02  3.839100e+04  \n",
       "New Deaths                   4.000000e+00  1.040000e+03  \n",
       "New Recovered                1.060000e+02  2.897500e+04  \n",
       "New Active Cases             3.200000e+01  1.850400e+04  \n",
       "Total Cases                  1.777450e+04  2.455912e+06  \n",
       "Total Deaths                 5.560000e+02  6.463100e+04  \n",
       "Total Recovered              1.430450e+04  2.023548e+06  \n",
       "Total Active Cases           2.271000e+03  3.677330e+05  \n",
       "City or Regency                       NaN           NaN  \n",
       "Total Regencies              1.800000e+01  4.160000e+02  \n",
       "Total Cities                 4.000000e+00  9.800000e+01  \n",
       "Total Districts              2.890000e+02  7.230000e+03  \n",
       "Total Urban Villages         3.320000e+02  8.488000e+03  \n",
       "Total Rural Villages         2.853000e+03  7.495300e+04  \n",
       "Area (km2)                   7.546800e+04  1.916907e+06  \n",
       "Population                   9.095591e+06  2.651855e+08  \n",
       "Population Density           2.627000e+02  1.633431e+04  \n",
       "Longitude                    1.201621e+02  1.386960e+02  \n",
       "Latitude                    -8.647457e-02  4.225615e+00  \n",
       "New Cases per Million        2.187000e+01  1.208910e+03  \n",
       "Total Cases per Million      3.817535e+03  5.867366e+04  \n",
       "New Deaths per Million       5.500000e-01  6.380000e+01  \n",
       "Total Deaths per Million     9.352000e+01  8.546800e+02  \n",
       "Growth Factor of New Cases   1.330000e+00  1.750000e+02  \n",
       "Growth Factor of New Deaths  1.000000e+00  1.345000e+02  \n",
       "Name                                  NaN           NaN  \n",
       "Item                                  NaN           NaN  \n",
       "Kind                                  NaN           NaN  \n",
       "Hidden                                NaN           NaN  "
      ]
     },
     "execution_count": 6,
     "metadata": {},
     "output_type": "execute_result"
    }
   ],
   "source": [
    "data.select_dtypes(\"number\").describe().T"
   ]
  },
  {
   "cell_type": "code",
   "execution_count": 7,
   "metadata": {
    "ExecuteTime": {
     "end_time": "2021-07-22T06:41:32.683325Z",
     "start_time": "2021-07-22T06:41:32.334329Z"
    }
   },
   "outputs": [
    {
     "data": {
      "text/html": [
       "<div>\n",
       "<style scoped>\n",
       "    .dataframe tbody tr th:only-of-type {\n",
       "        vertical-align: middle;\n",
       "    }\n",
       "\n",
       "    .dataframe tbody tr th {\n",
       "        vertical-align: top;\n",
       "    }\n",
       "\n",
       "    .dataframe thead th {\n",
       "        text-align: right;\n",
       "    }\n",
       "</style>\n",
       "<table border=\"1\" class=\"dataframe\">\n",
       "  <thead>\n",
       "    <tr style=\"text-align: right;\">\n",
       "      <th></th>\n",
       "      <th>Date</th>\n",
       "      <th>Location ISO Code</th>\n",
       "      <th>Location</th>\n",
       "      <th>Location Level</th>\n",
       "      <th>Province</th>\n",
       "      <th>Country</th>\n",
       "      <th>Continent</th>\n",
       "      <th>Island</th>\n",
       "      <th>Time Zone</th>\n",
       "      <th>Special Status</th>\n",
       "      <th>Case Fatality Rate</th>\n",
       "      <th>Case Recovered Rate</th>\n",
       "    </tr>\n",
       "  </thead>\n",
       "  <tbody>\n",
       "    <tr>\n",
       "      <th>count</th>\n",
       "      <td>16283</td>\n",
       "      <td>16283</td>\n",
       "      <td>16283</td>\n",
       "      <td>16283</td>\n",
       "      <td>15788</td>\n",
       "      <td>16283</td>\n",
       "      <td>16283</td>\n",
       "      <td>15788</td>\n",
       "      <td>15788</td>\n",
       "      <td>2393</td>\n",
       "      <td>16283</td>\n",
       "      <td>16283</td>\n",
       "    </tr>\n",
       "    <tr>\n",
       "      <th>unique</th>\n",
       "      <td>549</td>\n",
       "      <td>34</td>\n",
       "      <td>34</td>\n",
       "      <td>2</td>\n",
       "      <td>33</td>\n",
       "      <td>1</td>\n",
       "      <td>1</td>\n",
       "      <td>7</td>\n",
       "      <td>3</td>\n",
       "      <td>3</td>\n",
       "      <td>1338</td>\n",
       "      <td>6076</td>\n",
       "    </tr>\n",
       "    <tr>\n",
       "      <th>top</th>\n",
       "      <td>10/25/2020</td>\n",
       "      <td>ID-JI</td>\n",
       "      <td>Jawa Timur</td>\n",
       "      <td>Province</td>\n",
       "      <td>Jawa Timur</td>\n",
       "      <td>Indonesia</td>\n",
       "      <td>Asia</td>\n",
       "      <td>Sumatera</td>\n",
       "      <td>UTC+07:00</td>\n",
       "      <td>Daerah Khusus</td>\n",
       "      <td>0.00%</td>\n",
       "      <td>0.00%</td>\n",
       "    </tr>\n",
       "    <tr>\n",
       "      <th>freq</th>\n",
       "      <td>34</td>\n",
       "      <td>549</td>\n",
       "      <td>549</td>\n",
       "      <td>15788</td>\n",
       "      <td>549</td>\n",
       "      <td>16283</td>\n",
       "      <td>16283</td>\n",
       "      <td>4750</td>\n",
       "      <td>8690</td>\n",
       "      <td>1416</td>\n",
       "      <td>418</td>\n",
       "      <td>240</td>\n",
       "    </tr>\n",
       "  </tbody>\n",
       "</table>\n",
       "</div>"
      ],
      "text/plain": [
       "              Date Location ISO Code    Location Location Level    Province  \\\n",
       "count        16283             16283       16283          16283       15788   \n",
       "unique         549                34          34              2          33   \n",
       "top     10/25/2020             ID-JI  Jawa Timur       Province  Jawa Timur   \n",
       "freq            34               549         549          15788         549   \n",
       "\n",
       "          Country Continent    Island  Time Zone Special Status  \\\n",
       "count       16283     16283     15788      15788           2393   \n",
       "unique          1         1         7          3              3   \n",
       "top     Indonesia      Asia  Sumatera  UTC+07:00  Daerah Khusus   \n",
       "freq        16283     16283      4750       8690           1416   \n",
       "\n",
       "       Case Fatality Rate Case Recovered Rate  \n",
       "count               16283               16283  \n",
       "unique               1338                6076  \n",
       "top                 0.00%               0.00%  \n",
       "freq                  418                 240  "
      ]
     },
     "execution_count": 7,
     "metadata": {},
     "output_type": "execute_result"
    }
   ],
   "source": [
    "data.select_dtypes(object).describe()"
   ]
  },
  {
   "cell_type": "markdown",
   "metadata": {
    "ExecuteTime": {
     "end_time": "2021-07-21T16:17:39.859844Z",
     "start_time": "2021-07-21T16:17:39.856852Z"
    }
   },
   "source": [
    "## Data Preprocessing"
   ]
  },
  {
   "cell_type": "code",
   "execution_count": 8,
   "metadata": {
    "ExecuteTime": {
     "end_time": "2021-07-22T06:41:32.745172Z",
     "start_time": "2021-07-22T06:41:32.687315Z"
    }
   },
   "outputs": [
    {
     "name": "stdout",
     "output_type": "stream",
     "text": [
      "<class 'pandas.core.frame.DataFrame'>\n",
      "RangeIndex: 16283 entries, 0 to 16282\n",
      "Data columns (total 41 columns):\n",
      " #   Column                       Non-Null Count  Dtype  \n",
      "---  ------                       --------------  -----  \n",
      " 0   Date                         16283 non-null  object \n",
      " 1   Location ISO Code            16283 non-null  object \n",
      " 2   Location                     16283 non-null  object \n",
      " 3   New Cases                    16283 non-null  int64  \n",
      " 4   New Deaths                   16283 non-null  int64  \n",
      " 5   New Recovered                16283 non-null  int64  \n",
      " 6   New Active Cases             16283 non-null  int64  \n",
      " 7   Total Cases                  16283 non-null  int64  \n",
      " 8   Total Deaths                 16283 non-null  int64  \n",
      " 9   Total Recovered              16283 non-null  int64  \n",
      " 10  Total Active Cases           16283 non-null  int64  \n",
      " 11  Location Level               16283 non-null  object \n",
      " 12  City or Regency              0 non-null      float64\n",
      " 13  Province                     15788 non-null  object \n",
      " 14  Country                      16283 non-null  object \n",
      " 15  Continent                    16283 non-null  object \n",
      " 16  Island                       15788 non-null  object \n",
      " 17  Time Zone                    15788 non-null  object \n",
      " 18  Special Status               2393 non-null   object \n",
      " 19  Total Regencies              16283 non-null  int64  \n",
      " 20  Total Cities                 15814 non-null  float64\n",
      " 21  Total Districts              16283 non-null  int64  \n",
      " 22  Total Urban Villages         15812 non-null  float64\n",
      " 23  Total Rural Villages         15787 non-null  float64\n",
      " 24  Area (km2)                   16283 non-null  int64  \n",
      " 25  Population                   16283 non-null  int64  \n",
      " 26  Population Density           16283 non-null  float64\n",
      " 27  Longitude                    16283 non-null  float64\n",
      " 28  Latitude                     16283 non-null  float64\n",
      " 29  New Cases per Million        16283 non-null  float64\n",
      " 30  Total Cases per Million      16283 non-null  float64\n",
      " 31  New Deaths per Million       16283 non-null  float64\n",
      " 32  Total Deaths per Million     16283 non-null  float64\n",
      " 33  Case Fatality Rate           16283 non-null  object \n",
      " 34  Case Recovered Rate          16283 non-null  object \n",
      " 35  Growth Factor of New Cases   15298 non-null  float64\n",
      " 36  Growth Factor of New Deaths  14344 non-null  float64\n",
      " 37  Name                         0 non-null      float64\n",
      " 38  Item                         0 non-null      float64\n",
      " 39  Kind                         0 non-null      float64\n",
      " 40  Hidden                       0 non-null      float64\n",
      "dtypes: float64(17), int64(12), object(12)\n",
      "memory usage: 5.1+ MB\n"
     ]
    }
   ],
   "source": [
    "data.info()"
   ]
  },
  {
   "cell_type": "markdown",
   "metadata": {
    "ExecuteTime": {
     "end_time": "2021-07-21T16:18:54.435995Z",
     "start_time": "2021-07-21T16:18:54.430012Z"
    }
   },
   "source": [
    "Drop columns that contains 100% missing values."
   ]
  },
  {
   "cell_type": "code",
   "execution_count": 9,
   "metadata": {
    "ExecuteTime": {
     "end_time": "2021-07-22T06:41:32.818962Z",
     "start_time": "2021-07-22T06:41:32.749149Z"
    }
   },
   "outputs": [],
   "source": [
    "data.dropna(how = \"all\", axis = 1, inplace = True)"
   ]
  },
  {
   "cell_type": "code",
   "execution_count": 10,
   "metadata": {
    "ExecuteTime": {
     "end_time": "2021-07-22T06:41:32.881774Z",
     "start_time": "2021-07-22T06:41:32.825943Z"
    }
   },
   "outputs": [
    {
     "name": "stdout",
     "output_type": "stream",
     "text": [
      "<class 'pandas.core.frame.DataFrame'>\n",
      "RangeIndex: 16283 entries, 0 to 16282\n",
      "Data columns (total 36 columns):\n",
      " #   Column                       Non-Null Count  Dtype  \n",
      "---  ------                       --------------  -----  \n",
      " 0   Date                         16283 non-null  object \n",
      " 1   Location ISO Code            16283 non-null  object \n",
      " 2   Location                     16283 non-null  object \n",
      " 3   New Cases                    16283 non-null  int64  \n",
      " 4   New Deaths                   16283 non-null  int64  \n",
      " 5   New Recovered                16283 non-null  int64  \n",
      " 6   New Active Cases             16283 non-null  int64  \n",
      " 7   Total Cases                  16283 non-null  int64  \n",
      " 8   Total Deaths                 16283 non-null  int64  \n",
      " 9   Total Recovered              16283 non-null  int64  \n",
      " 10  Total Active Cases           16283 non-null  int64  \n",
      " 11  Location Level               16283 non-null  object \n",
      " 12  Province                     15788 non-null  object \n",
      " 13  Country                      16283 non-null  object \n",
      " 14  Continent                    16283 non-null  object \n",
      " 15  Island                       15788 non-null  object \n",
      " 16  Time Zone                    15788 non-null  object \n",
      " 17  Special Status               2393 non-null   object \n",
      " 18  Total Regencies              16283 non-null  int64  \n",
      " 19  Total Cities                 15814 non-null  float64\n",
      " 20  Total Districts              16283 non-null  int64  \n",
      " 21  Total Urban Villages         15812 non-null  float64\n",
      " 22  Total Rural Villages         15787 non-null  float64\n",
      " 23  Area (km2)                   16283 non-null  int64  \n",
      " 24  Population                   16283 non-null  int64  \n",
      " 25  Population Density           16283 non-null  float64\n",
      " 26  Longitude                    16283 non-null  float64\n",
      " 27  Latitude                     16283 non-null  float64\n",
      " 28  New Cases per Million        16283 non-null  float64\n",
      " 29  Total Cases per Million      16283 non-null  float64\n",
      " 30  New Deaths per Million       16283 non-null  float64\n",
      " 31  Total Deaths per Million     16283 non-null  float64\n",
      " 32  Case Fatality Rate           16283 non-null  object \n",
      " 33  Case Recovered Rate          16283 non-null  object \n",
      " 34  Growth Factor of New Cases   15298 non-null  float64\n",
      " 35  Growth Factor of New Deaths  14344 non-null  float64\n",
      "dtypes: float64(12), int64(12), object(12)\n",
      "memory usage: 4.5+ MB\n"
     ]
    }
   ],
   "source": [
    "data.info()"
   ]
  },
  {
   "cell_type": "code",
   "execution_count": 11,
   "metadata": {
    "ExecuteTime": {
     "end_time": "2021-07-22T06:41:32.958897Z",
     "start_time": "2021-07-22T06:41:32.891909Z"
    }
   },
   "outputs": [
    {
     "data": {
      "text/html": [
       "<div>\n",
       "<style scoped>\n",
       "    .dataframe tbody tr th:only-of-type {\n",
       "        vertical-align: middle;\n",
       "    }\n",
       "\n",
       "    .dataframe tbody tr th {\n",
       "        vertical-align: top;\n",
       "    }\n",
       "\n",
       "    .dataframe thead th {\n",
       "        text-align: right;\n",
       "    }\n",
       "</style>\n",
       "<table border=\"1\" class=\"dataframe\">\n",
       "  <thead>\n",
       "    <tr style=\"text-align: right;\">\n",
       "      <th></th>\n",
       "      <th>Date</th>\n",
       "      <th>Location ISO Code</th>\n",
       "      <th>Location</th>\n",
       "      <th>New Cases</th>\n",
       "      <th>New Deaths</th>\n",
       "      <th>New Recovered</th>\n",
       "      <th>New Active Cases</th>\n",
       "      <th>Total Cases</th>\n",
       "      <th>Total Deaths</th>\n",
       "      <th>Total Recovered</th>\n",
       "      <th>Total Active Cases</th>\n",
       "      <th>Location Level</th>\n",
       "      <th>Province</th>\n",
       "      <th>Country</th>\n",
       "      <th>Continent</th>\n",
       "      <th>Island</th>\n",
       "      <th>Time Zone</th>\n",
       "      <th>Special Status</th>\n",
       "      <th>Total Regencies</th>\n",
       "      <th>Total Cities</th>\n",
       "      <th>Total Districts</th>\n",
       "      <th>Total Urban Villages</th>\n",
       "      <th>Total Rural Villages</th>\n",
       "      <th>Area (km2)</th>\n",
       "      <th>Population</th>\n",
       "      <th>Population Density</th>\n",
       "      <th>Longitude</th>\n",
       "      <th>Latitude</th>\n",
       "      <th>New Cases per Million</th>\n",
       "      <th>Total Cases per Million</th>\n",
       "      <th>New Deaths per Million</th>\n",
       "      <th>Total Deaths per Million</th>\n",
       "      <th>Case Fatality Rate</th>\n",
       "      <th>Case Recovered Rate</th>\n",
       "      <th>Growth Factor of New Cases</th>\n",
       "      <th>Growth Factor of New Deaths</th>\n",
       "    </tr>\n",
       "  </thead>\n",
       "  <tbody>\n",
       "    <tr>\n",
       "      <th>0</th>\n",
       "      <td>1/8/2020</td>\n",
       "      <td>ID-JI</td>\n",
       "      <td>Jawa Timur</td>\n",
       "      <td>9</td>\n",
       "      <td>3</td>\n",
       "      <td>1</td>\n",
       "      <td>5</td>\n",
       "      <td>9</td>\n",
       "      <td>5</td>\n",
       "      <td>10</td>\n",
       "      <td>-6</td>\n",
       "      <td>Province</td>\n",
       "      <td>Jawa Timur</td>\n",
       "      <td>Indonesia</td>\n",
       "      <td>Asia</td>\n",
       "      <td>Jawa</td>\n",
       "      <td>UTC+07:00</td>\n",
       "      <td>NaN</td>\n",
       "      <td>29</td>\n",
       "      <td>9.0</td>\n",
       "      <td>666</td>\n",
       "      <td>777.0</td>\n",
       "      <td>7724.0</td>\n",
       "      <td>47803</td>\n",
       "      <td>40479023</td>\n",
       "      <td>846.78</td>\n",
       "      <td>112.732941</td>\n",
       "      <td>-7.723346</td>\n",
       "      <td>0.22</td>\n",
       "      <td>0.22</td>\n",
       "      <td>0.07</td>\n",
       "      <td>0.12</td>\n",
       "      <td>55.56%</td>\n",
       "      <td>111.11%</td>\n",
       "      <td>NaN</td>\n",
       "      <td>NaN</td>\n",
       "    </tr>\n",
       "    <tr>\n",
       "      <th>1</th>\n",
       "      <td>1/9/2020</td>\n",
       "      <td>ID-JI</td>\n",
       "      <td>Jawa Timur</td>\n",
       "      <td>0</td>\n",
       "      <td>1</td>\n",
       "      <td>23</td>\n",
       "      <td>-24</td>\n",
       "      <td>9</td>\n",
       "      <td>6</td>\n",
       "      <td>33</td>\n",
       "      <td>-30</td>\n",
       "      <td>Province</td>\n",
       "      <td>Jawa Timur</td>\n",
       "      <td>Indonesia</td>\n",
       "      <td>Asia</td>\n",
       "      <td>Jawa</td>\n",
       "      <td>UTC+07:00</td>\n",
       "      <td>NaN</td>\n",
       "      <td>29</td>\n",
       "      <td>9.0</td>\n",
       "      <td>666</td>\n",
       "      <td>777.0</td>\n",
       "      <td>7724.0</td>\n",
       "      <td>47803</td>\n",
       "      <td>40479023</td>\n",
       "      <td>846.78</td>\n",
       "      <td>112.732941</td>\n",
       "      <td>-7.723346</td>\n",
       "      <td>0.00</td>\n",
       "      <td>0.22</td>\n",
       "      <td>0.02</td>\n",
       "      <td>0.15</td>\n",
       "      <td>66.67%</td>\n",
       "      <td>366.67%</td>\n",
       "      <td>0.0</td>\n",
       "      <td>0.33</td>\n",
       "    </tr>\n",
       "    <tr>\n",
       "      <th>2</th>\n",
       "      <td>1/10/2020</td>\n",
       "      <td>ID-JI</td>\n",
       "      <td>Jawa Timur</td>\n",
       "      <td>0</td>\n",
       "      <td>1</td>\n",
       "      <td>14</td>\n",
       "      <td>-15</td>\n",
       "      <td>9</td>\n",
       "      <td>7</td>\n",
       "      <td>47</td>\n",
       "      <td>-45</td>\n",
       "      <td>Province</td>\n",
       "      <td>Jawa Timur</td>\n",
       "      <td>Indonesia</td>\n",
       "      <td>Asia</td>\n",
       "      <td>Jawa</td>\n",
       "      <td>UTC+07:00</td>\n",
       "      <td>NaN</td>\n",
       "      <td>29</td>\n",
       "      <td>9.0</td>\n",
       "      <td>666</td>\n",
       "      <td>777.0</td>\n",
       "      <td>7724.0</td>\n",
       "      <td>47803</td>\n",
       "      <td>40479023</td>\n",
       "      <td>846.78</td>\n",
       "      <td>112.732941</td>\n",
       "      <td>-7.723346</td>\n",
       "      <td>0.00</td>\n",
       "      <td>0.22</td>\n",
       "      <td>0.02</td>\n",
       "      <td>0.17</td>\n",
       "      <td>77.78%</td>\n",
       "      <td>522.22%</td>\n",
       "      <td>1.0</td>\n",
       "      <td>1.00</td>\n",
       "    </tr>\n",
       "    <tr>\n",
       "      <th>3</th>\n",
       "      <td>1/11/2020</td>\n",
       "      <td>ID-JI</td>\n",
       "      <td>Jawa Timur</td>\n",
       "      <td>0</td>\n",
       "      <td>3</td>\n",
       "      <td>8</td>\n",
       "      <td>-11</td>\n",
       "      <td>9</td>\n",
       "      <td>10</td>\n",
       "      <td>55</td>\n",
       "      <td>-56</td>\n",
       "      <td>Province</td>\n",
       "      <td>Jawa Timur</td>\n",
       "      <td>Indonesia</td>\n",
       "      <td>Asia</td>\n",
       "      <td>Jawa</td>\n",
       "      <td>UTC+07:00</td>\n",
       "      <td>NaN</td>\n",
       "      <td>29</td>\n",
       "      <td>9.0</td>\n",
       "      <td>666</td>\n",
       "      <td>777.0</td>\n",
       "      <td>7724.0</td>\n",
       "      <td>47803</td>\n",
       "      <td>40479023</td>\n",
       "      <td>846.78</td>\n",
       "      <td>112.732941</td>\n",
       "      <td>-7.723346</td>\n",
       "      <td>0.00</td>\n",
       "      <td>0.22</td>\n",
       "      <td>0.07</td>\n",
       "      <td>0.25</td>\n",
       "      <td>111.11%</td>\n",
       "      <td>611.11%</td>\n",
       "      <td>1.0</td>\n",
       "      <td>3.00</td>\n",
       "    </tr>\n",
       "    <tr>\n",
       "      <th>4</th>\n",
       "      <td>1/12/2020</td>\n",
       "      <td>ID-JI</td>\n",
       "      <td>Jawa Timur</td>\n",
       "      <td>0</td>\n",
       "      <td>3</td>\n",
       "      <td>1</td>\n",
       "      <td>-4</td>\n",
       "      <td>9</td>\n",
       "      <td>13</td>\n",
       "      <td>56</td>\n",
       "      <td>-60</td>\n",
       "      <td>Province</td>\n",
       "      <td>Jawa Timur</td>\n",
       "      <td>Indonesia</td>\n",
       "      <td>Asia</td>\n",
       "      <td>Jawa</td>\n",
       "      <td>UTC+07:00</td>\n",
       "      <td>NaN</td>\n",
       "      <td>29</td>\n",
       "      <td>9.0</td>\n",
       "      <td>666</td>\n",
       "      <td>777.0</td>\n",
       "      <td>7724.0</td>\n",
       "      <td>47803</td>\n",
       "      <td>40479023</td>\n",
       "      <td>846.78</td>\n",
       "      <td>112.732941</td>\n",
       "      <td>-7.723346</td>\n",
       "      <td>0.00</td>\n",
       "      <td>0.22</td>\n",
       "      <td>0.07</td>\n",
       "      <td>0.32</td>\n",
       "      <td>144.44%</td>\n",
       "      <td>622.22%</td>\n",
       "      <td>1.0</td>\n",
       "      <td>1.00</td>\n",
       "    </tr>\n",
       "  </tbody>\n",
       "</table>\n",
       "</div>"
      ],
      "text/plain": [
       "        Date Location ISO Code    Location  New Cases  New Deaths  \\\n",
       "0   1/8/2020             ID-JI  Jawa Timur          9           3   \n",
       "1   1/9/2020             ID-JI  Jawa Timur          0           1   \n",
       "2  1/10/2020             ID-JI  Jawa Timur          0           1   \n",
       "3  1/11/2020             ID-JI  Jawa Timur          0           3   \n",
       "4  1/12/2020             ID-JI  Jawa Timur          0           3   \n",
       "\n",
       "   New Recovered  New Active Cases  Total Cases  Total Deaths  \\\n",
       "0              1                 5            9             5   \n",
       "1             23               -24            9             6   \n",
       "2             14               -15            9             7   \n",
       "3              8               -11            9            10   \n",
       "4              1                -4            9            13   \n",
       "\n",
       "   Total Recovered  Total Active Cases Location Level    Province    Country  \\\n",
       "0               10                  -6       Province  Jawa Timur  Indonesia   \n",
       "1               33                 -30       Province  Jawa Timur  Indonesia   \n",
       "2               47                 -45       Province  Jawa Timur  Indonesia   \n",
       "3               55                 -56       Province  Jawa Timur  Indonesia   \n",
       "4               56                 -60       Province  Jawa Timur  Indonesia   \n",
       "\n",
       "  Continent Island  Time Zone Special Status  Total Regencies  Total Cities  \\\n",
       "0      Asia   Jawa  UTC+07:00            NaN               29           9.0   \n",
       "1      Asia   Jawa  UTC+07:00            NaN               29           9.0   \n",
       "2      Asia   Jawa  UTC+07:00            NaN               29           9.0   \n",
       "3      Asia   Jawa  UTC+07:00            NaN               29           9.0   \n",
       "4      Asia   Jawa  UTC+07:00            NaN               29           9.0   \n",
       "\n",
       "   Total Districts  Total Urban Villages  Total Rural Villages  Area (km2)  \\\n",
       "0              666                 777.0                7724.0       47803   \n",
       "1              666                 777.0                7724.0       47803   \n",
       "2              666                 777.0                7724.0       47803   \n",
       "3              666                 777.0                7724.0       47803   \n",
       "4              666                 777.0                7724.0       47803   \n",
       "\n",
       "   Population  Population Density   Longitude  Latitude  \\\n",
       "0    40479023              846.78  112.732941 -7.723346   \n",
       "1    40479023              846.78  112.732941 -7.723346   \n",
       "2    40479023              846.78  112.732941 -7.723346   \n",
       "3    40479023              846.78  112.732941 -7.723346   \n",
       "4    40479023              846.78  112.732941 -7.723346   \n",
       "\n",
       "   New Cases per Million  Total Cases per Million  New Deaths per Million  \\\n",
       "0                   0.22                     0.22                    0.07   \n",
       "1                   0.00                     0.22                    0.02   \n",
       "2                   0.00                     0.22                    0.02   \n",
       "3                   0.00                     0.22                    0.07   \n",
       "4                   0.00                     0.22                    0.07   \n",
       "\n",
       "   Total Deaths per Million Case Fatality Rate Case Recovered Rate  \\\n",
       "0                      0.12             55.56%             111.11%   \n",
       "1                      0.15             66.67%             366.67%   \n",
       "2                      0.17             77.78%             522.22%   \n",
       "3                      0.25            111.11%             611.11%   \n",
       "4                      0.32            144.44%             622.22%   \n",
       "\n",
       "   Growth Factor of New Cases  Growth Factor of New Deaths  \n",
       "0                         NaN                          NaN  \n",
       "1                         0.0                         0.33  \n",
       "2                         1.0                         1.00  \n",
       "3                         1.0                         3.00  \n",
       "4                         1.0                         1.00  "
      ]
     },
     "execution_count": 11,
     "metadata": {},
     "output_type": "execute_result"
    }
   ],
   "source": [
    "data.head()"
   ]
  },
  {
   "cell_type": "code",
   "execution_count": 12,
   "metadata": {
    "ExecuteTime": {
     "end_time": "2021-07-22T06:41:33.106870Z",
     "start_time": "2021-07-22T06:41:32.962998Z"
    }
   },
   "outputs": [],
   "source": [
    "data[\"Date\"] = pd.to_datetime(data[\"Date\"])"
   ]
  },
  {
   "cell_type": "code",
   "execution_count": 13,
   "metadata": {
    "ExecuteTime": {
     "end_time": "2021-07-22T06:41:33.150874Z",
     "start_time": "2021-07-22T06:41:33.133888Z"
    }
   },
   "outputs": [
    {
     "data": {
      "text/plain": [
       "Jawa Timur     549\n",
       "DKI Jakarta    496\n",
       "Riau           495\n",
       "Jawa Barat     495\n",
       "Indonesia      495\n",
       "Name: Location, dtype: int64"
      ]
     },
     "execution_count": 13,
     "metadata": {},
     "output_type": "execute_result"
    }
   ],
   "source": [
    "data[\"Location\"].value_counts().head()"
   ]
  },
  {
   "cell_type": "code",
   "execution_count": 14,
   "metadata": {
    "ExecuteTime": {
     "end_time": "2021-07-22T06:41:33.168827Z",
     "start_time": "2021-07-22T06:41:33.153866Z"
    }
   },
   "outputs": [
    {
     "data": {
      "text/plain": [
       "Timestamp('2021-07-09 00:00:00')"
      ]
     },
     "execution_count": 14,
     "metadata": {},
     "output_type": "execute_result"
    }
   ],
   "source": [
    "data[data[\"Location\"] == \"DKI Jakarta\"][\"Date\"].max()"
   ]
  },
  {
   "cell_type": "code",
   "execution_count": 15,
   "metadata": {
    "ExecuteTime": {
     "end_time": "2021-07-22T06:41:33.195829Z",
     "start_time": "2021-07-22T06:41:33.170869Z"
    }
   },
   "outputs": [
    {
     "data": {
      "text/plain": [
       "(62, 3)"
      ]
     },
     "execution_count": 15,
     "metadata": {},
     "output_type": "execute_result"
    }
   ],
   "source": [
    "before_holiday = data[(data[\"Location\"] == \"DKI Jakarta\") & (data[\"Date\"].isin(pd.date_range(start=\"2020-10-28\",end=\"2020-12-28\")))][[\"Date\", \"New Cases\", \"Location\"]]\n",
    "before_holiday.shape"
   ]
  },
  {
   "cell_type": "code",
   "execution_count": 16,
   "metadata": {
    "ExecuteTime": {
     "end_time": "2021-07-22T06:41:33.218820Z",
     "start_time": "2021-07-22T06:41:33.198828Z"
    }
   },
   "outputs": [
    {
     "data": {
      "text/html": [
       "<div>\n",
       "<style scoped>\n",
       "    .dataframe tbody tr th:only-of-type {\n",
       "        vertical-align: middle;\n",
       "    }\n",
       "\n",
       "    .dataframe tbody tr th {\n",
       "        vertical-align: top;\n",
       "    }\n",
       "\n",
       "    .dataframe thead th {\n",
       "        text-align: right;\n",
       "    }\n",
       "</style>\n",
       "<table border=\"1\" class=\"dataframe\">\n",
       "  <thead>\n",
       "    <tr style=\"text-align: right;\">\n",
       "      <th></th>\n",
       "      <th>Date</th>\n",
       "      <th>New Cases</th>\n",
       "      <th>Location</th>\n",
       "    </tr>\n",
       "  </thead>\n",
       "  <tbody>\n",
       "    <tr>\n",
       "      <th>7617</th>\n",
       "      <td>2020-10-28</td>\n",
       "      <td>844</td>\n",
       "      <td>DKI Jakarta</td>\n",
       "    </tr>\n",
       "    <tr>\n",
       "      <th>7651</th>\n",
       "      <td>2020-10-29</td>\n",
       "      <td>713</td>\n",
       "      <td>DKI Jakarta</td>\n",
       "    </tr>\n",
       "    <tr>\n",
       "      <th>7685</th>\n",
       "      <td>2020-10-30</td>\n",
       "      <td>612</td>\n",
       "      <td>DKI Jakarta</td>\n",
       "    </tr>\n",
       "    <tr>\n",
       "      <th>7719</th>\n",
       "      <td>2020-10-31</td>\n",
       "      <td>750</td>\n",
       "      <td>DKI Jakarta</td>\n",
       "    </tr>\n",
       "    <tr>\n",
       "      <th>7753</th>\n",
       "      <td>2020-11-01</td>\n",
       "      <td>608</td>\n",
       "      <td>DKI Jakarta</td>\n",
       "    </tr>\n",
       "    <tr>\n",
       "      <th>...</th>\n",
       "      <td>...</td>\n",
       "      <td>...</td>\n",
       "      <td>...</td>\n",
       "    </tr>\n",
       "    <tr>\n",
       "      <th>9555</th>\n",
       "      <td>2020-12-24</td>\n",
       "      <td>1933</td>\n",
       "      <td>DKI Jakarta</td>\n",
       "    </tr>\n",
       "    <tr>\n",
       "      <th>9589</th>\n",
       "      <td>2020-12-25</td>\n",
       "      <td>2096</td>\n",
       "      <td>DKI Jakarta</td>\n",
       "    </tr>\n",
       "    <tr>\n",
       "      <th>9623</th>\n",
       "      <td>2020-12-26</td>\n",
       "      <td>2058</td>\n",
       "      <td>DKI Jakarta</td>\n",
       "    </tr>\n",
       "    <tr>\n",
       "      <th>9657</th>\n",
       "      <td>2020-12-27</td>\n",
       "      <td>1997</td>\n",
       "      <td>DKI Jakarta</td>\n",
       "    </tr>\n",
       "    <tr>\n",
       "      <th>9691</th>\n",
       "      <td>2020-12-28</td>\n",
       "      <td>1678</td>\n",
       "      <td>DKI Jakarta</td>\n",
       "    </tr>\n",
       "  </tbody>\n",
       "</table>\n",
       "<p>62 rows × 3 columns</p>\n",
       "</div>"
      ],
      "text/plain": [
       "           Date  New Cases     Location\n",
       "7617 2020-10-28        844  DKI Jakarta\n",
       "7651 2020-10-29        713  DKI Jakarta\n",
       "7685 2020-10-30        612  DKI Jakarta\n",
       "7719 2020-10-31        750  DKI Jakarta\n",
       "7753 2020-11-01        608  DKI Jakarta\n",
       "...         ...        ...          ...\n",
       "9555 2020-12-24       1933  DKI Jakarta\n",
       "9589 2020-12-25       2096  DKI Jakarta\n",
       "9623 2020-12-26       2058  DKI Jakarta\n",
       "9657 2020-12-27       1997  DKI Jakarta\n",
       "9691 2020-12-28       1678  DKI Jakarta\n",
       "\n",
       "[62 rows x 3 columns]"
      ]
     },
     "execution_count": 16,
     "metadata": {},
     "output_type": "execute_result"
    }
   ],
   "source": [
    "before_holiday"
   ]
  },
  {
   "cell_type": "code",
   "execution_count": 17,
   "metadata": {
    "ExecuteTime": {
     "end_time": "2021-07-22T06:41:33.250353Z",
     "start_time": "2021-07-22T06:41:33.221829Z"
    }
   },
   "outputs": [
    {
     "data": {
      "text/plain": [
       "(62, 3)"
      ]
     },
     "execution_count": 17,
     "metadata": {},
     "output_type": "execute_result"
    }
   ],
   "source": [
    "after_holiday = data[(data[\"Location\"] == \"DKI Jakarta\") & (data[\"Date\"].isin(pd.date_range(start=\"2020-12-29\",end=\"2021-02-28\")))][[\"Date\", \"New Cases\", \"Location\"]]\n",
    "after_holiday.shape"
   ]
  },
  {
   "cell_type": "code",
   "execution_count": 18,
   "metadata": {
    "ExecuteTime": {
     "end_time": "2021-07-22T06:41:33.274823Z",
     "start_time": "2021-07-22T06:41:33.252857Z"
    }
   },
   "outputs": [
    {
     "data": {
      "text/html": [
       "<div>\n",
       "<style scoped>\n",
       "    .dataframe tbody tr th:only-of-type {\n",
       "        vertical-align: middle;\n",
       "    }\n",
       "\n",
       "    .dataframe tbody tr th {\n",
       "        vertical-align: top;\n",
       "    }\n",
       "\n",
       "    .dataframe thead th {\n",
       "        text-align: right;\n",
       "    }\n",
       "</style>\n",
       "<table border=\"1\" class=\"dataframe\">\n",
       "  <thead>\n",
       "    <tr style=\"text-align: right;\">\n",
       "      <th></th>\n",
       "      <th>Date</th>\n",
       "      <th>New Cases</th>\n",
       "      <th>Location</th>\n",
       "    </tr>\n",
       "  </thead>\n",
       "  <tbody>\n",
       "    <tr>\n",
       "      <th>9725</th>\n",
       "      <td>2020-12-29</td>\n",
       "      <td>2056</td>\n",
       "      <td>DKI Jakarta</td>\n",
       "    </tr>\n",
       "    <tr>\n",
       "      <th>9759</th>\n",
       "      <td>2020-12-30</td>\n",
       "      <td>2053</td>\n",
       "      <td>DKI Jakarta</td>\n",
       "    </tr>\n",
       "    <tr>\n",
       "      <th>9793</th>\n",
       "      <td>2020-12-31</td>\n",
       "      <td>2022</td>\n",
       "      <td>DKI Jakarta</td>\n",
       "    </tr>\n",
       "    <tr>\n",
       "      <th>9827</th>\n",
       "      <td>2021-01-01</td>\n",
       "      <td>1956</td>\n",
       "      <td>DKI Jakarta</td>\n",
       "    </tr>\n",
       "    <tr>\n",
       "      <th>9861</th>\n",
       "      <td>2021-01-02</td>\n",
       "      <td>1894</td>\n",
       "      <td>DKI Jakarta</td>\n",
       "    </tr>\n",
       "    <tr>\n",
       "      <th>...</th>\n",
       "      <td>...</td>\n",
       "      <td>...</td>\n",
       "      <td>...</td>\n",
       "    </tr>\n",
       "    <tr>\n",
       "      <th>11663</th>\n",
       "      <td>2021-02-24</td>\n",
       "      <td>782</td>\n",
       "      <td>DKI Jakarta</td>\n",
       "    </tr>\n",
       "    <tr>\n",
       "      <th>11697</th>\n",
       "      <td>2021-02-25</td>\n",
       "      <td>1581</td>\n",
       "      <td>DKI Jakarta</td>\n",
       "    </tr>\n",
       "    <tr>\n",
       "      <th>11731</th>\n",
       "      <td>2021-02-26</td>\n",
       "      <td>1662</td>\n",
       "      <td>DKI Jakarta</td>\n",
       "    </tr>\n",
       "    <tr>\n",
       "      <th>11765</th>\n",
       "      <td>2021-02-27</td>\n",
       "      <td>1736</td>\n",
       "      <td>DKI Jakarta</td>\n",
       "    </tr>\n",
       "    <tr>\n",
       "      <th>11799</th>\n",
       "      <td>2021-02-28</td>\n",
       "      <td>2098</td>\n",
       "      <td>DKI Jakarta</td>\n",
       "    </tr>\n",
       "  </tbody>\n",
       "</table>\n",
       "<p>62 rows × 3 columns</p>\n",
       "</div>"
      ],
      "text/plain": [
       "            Date  New Cases     Location\n",
       "9725  2020-12-29       2056  DKI Jakarta\n",
       "9759  2020-12-30       2053  DKI Jakarta\n",
       "9793  2020-12-31       2022  DKI Jakarta\n",
       "9827  2021-01-01       1956  DKI Jakarta\n",
       "9861  2021-01-02       1894  DKI Jakarta\n",
       "...          ...        ...          ...\n",
       "11663 2021-02-24        782  DKI Jakarta\n",
       "11697 2021-02-25       1581  DKI Jakarta\n",
       "11731 2021-02-26       1662  DKI Jakarta\n",
       "11765 2021-02-27       1736  DKI Jakarta\n",
       "11799 2021-02-28       2098  DKI Jakarta\n",
       "\n",
       "[62 rows x 3 columns]"
      ]
     },
     "execution_count": 18,
     "metadata": {},
     "output_type": "execute_result"
    }
   ],
   "source": [
    "after_holiday"
   ]
  },
  {
   "cell_type": "code",
   "execution_count": 19,
   "metadata": {
    "ExecuteTime": {
     "end_time": "2021-07-22T06:41:34.228908Z",
     "start_time": "2021-07-22T06:41:33.277815Z"
    }
   },
   "outputs": [
    {
     "data": {
      "image/png": "[encoded data removed]",
      "text/plain": [
       "<Figure size 1080x360 with 1 Axes>"
      ]
     },
     "metadata": {
      "needs_background": "light"
     },
     "output_type": "display_data"
    }
   ],
   "source": [
    "plt.figure(figsize = (15, 5))\n",
    "plt.plot(\"Date\", \"New Cases\", data = pd.concat([before_holiday, after_holiday]));"
   ]
  },
  {
   "cell_type": "code",
   "execution_count": 20,
   "metadata": {
    "ExecuteTime": {
     "end_time": "2021-07-22T06:41:34.979695Z",
     "start_time": "2021-07-22T06:41:34.231925Z"
    }
   },
   "outputs": [
    {
     "data": {
      "image/png": "[encoded data removed]",
      "text/plain": [
       "<Figure size 1080x360 with 1 Axes>"
      ]
     },
     "metadata": {
      "needs_background": "light"
     },
     "output_type": "display_data"
    }
   ],
   "source": [
    "plt.figure(figsize = (15, 5))\n",
    "plt.plot(\"Date\", \"New Cases\", data = before_holiday);"
   ]
  },
  {
   "cell_type": "code",
   "execution_count": 21,
   "metadata": {
    "ExecuteTime": {
     "end_time": "2021-07-22T06:41:35.699671Z",
     "start_time": "2021-07-22T06:41:34.982712Z"
    }
   },
   "outputs": [
    {
     "data": {
      "image/png": "[encoded data removed]",
      "text/plain": [
       "<Figure size 1080x360 with 1 Axes>"
      ]
     },
     "metadata": {
      "needs_background": "light"
     },
     "output_type": "display_data"
    }
   ],
   "source": [
    "plt.figure(figsize = (15, 5))\n",
    "plt.plot(\"Date\", \"New Cases\", data = after_holiday);"
   ]
  },
  {
   "cell_type": "markdown",
   "metadata": {
    "ExecuteTime": {
     "end_time": "2021-07-21T16:22:28.329824Z",
     "start_time": "2021-07-21T16:22:28.326829Z"
    }
   },
   "source": [
    "## Hypotesis Testing"
   ]
  },
  {
   "cell_type": "markdown",
   "metadata": {
    "ExecuteTime": {
     "end_time": "2021-07-22T06:20:44.489091Z",
     "start_time": "2021-07-22T06:20:44.485103Z"
    }
   },
   "source": [
    "### Paired Tests - One tailed"
   ]
  },
  {
   "cell_type": "markdown",
   "metadata": {},
   "source": [
    "- H0: μ2 ≤ μ1 $\\rightarrow$ The population mean of new cases in DKI Jakarta after year-end holiday (Starts from 28th December) is not greater than before year-end holiday.\n",
    "- H1: μ2 > μ1 $\\rightarrow$ The population mean of new cases in DKI Jakarta after year-end holiday (Starts from 28th December) is greater than before year-end holiday."
   ]
  },
  {
   "cell_type": "code",
   "execution_count": 22,
   "metadata": {
    "ExecuteTime": {
     "end_time": "2021-07-22T06:41:35.715629Z",
     "start_time": "2021-07-22T06:41:35.705654Z"
    }
   },
   "outputs": [
    {
     "name": "stdout",
     "output_type": "stream",
     "text": [
      "t-statistic: 11.22124505832743\n",
      "t-statistic-pvalue: 9.042454167046478e-17\n"
     ]
    }
   ],
   "source": [
    "t, p = stats.ttest_rel(after_holiday[\"New Cases\"], before_holiday[\"New Cases\"])\n",
    "p1 = p/2\n",
    "print(f\"t-statistic: {t}\")\n",
    "print(f\"t-statistic-pvalue: {p1}\")"
   ]
  },
  {
   "cell_type": "code",
   "execution_count": 23,
   "metadata": {
    "ExecuteTime": {
     "end_time": "2021-07-22T06:41:35.769060Z",
     "start_time": "2021-07-22T06:41:35.750088Z"
    }
   },
   "outputs": [],
   "source": [
    "pop = np.random.normal(before_holiday[\"New Cases\"].mean(), before_holiday[\"New Cases\"].std(), 100000)\n",
    "\n",
    "ci = stats.norm.interval(0.90, before_holiday[\"New Cases\"].mean(), before_holiday[\"New Cases\"].std())"
   ]
  },
  {
   "cell_type": "code",
   "execution_count": 24,
   "metadata": {
    "ExecuteTime": {
     "end_time": "2021-07-22T06:41:36.663602Z",
     "start_time": "2021-07-22T06:41:35.773049Z"
    }
   },
   "outputs": [
    {
     "data": {
      "image/png": "[encoded data removed]",
      "text/plain": [
       "<Figure size 432x288 with 1 Axes>"
      ]
     },
     "metadata": {
      "needs_background": "light"
     },
     "output_type": "display_data"
    }
   ],
   "source": [
    "plt.hist(pop, bins = 100)\n",
    "plt.axvline(pop.mean(), color = \"y\", linestyle = \"--\", linewidth = 2)\n",
    "plt.axvline(ci[1], color = \"r\", linestyle = \"--\", linewidth = 2)\n",
    "plt.axvline(pop.mean() + t*pop.std(), color = \"m\", linestyle = \"--\", linewidth = 2)\n",
    "plt.show()"
   ]
  },
  {
   "cell_type": "code",
   "execution_count": 25,
   "metadata": {
    "ExecuteTime": {
     "end_time": "2021-07-22T06:41:36.672605Z",
     "start_time": "2021-07-22T06:41:36.666594Z"
    }
   },
   "outputs": [
    {
     "name": "stdout",
     "output_type": "stream",
     "text": [
      "Safe to reject H0, we can accept H1 because of the sufficient evidence.\n"
     ]
    }
   ],
   "source": [
    "if p1 <= 0.05:\n",
    "    print(\"Safe to reject H0, we can accept H1 because of the sufficient evidence.\")\n",
    "elif p1 > 0.05:\n",
    "    print(\"Can't reject H0, we can't accept H1 because of the insufficient evidence.\")"
   ]
  },
  {
   "cell_type": "markdown",
   "metadata": {
    "ExecuteTime": {
     "end_time": "2021-07-21T16:23:00.855913Z",
     "start_time": "2021-07-21T16:23:00.851924Z"
    }
   },
   "source": [
    "## Conclusions"
   ]
  },
  {
   "cell_type": "markdown",
   "metadata": {
    "ExecuteTime": {
     "end_time": "2021-07-22T06:34:35.778196Z",
     "start_time": "2021-07-22T06:34:35.774174Z"
    }
   },
   "source": [
    "Based on one tailed - paired t-test,  we can reject H0 and accept H1 because of the sufficient evidence."
   ]
  },
  {
   "cell_type": "markdown",
   "metadata": {
    "ExecuteTime": {
     "end_time": "2021-07-22T06:34:59.329007Z",
     "start_time": "2021-07-22T06:34:59.324019Z"
    }
   },
   "source": [
    "**Final Conclusion:** H1 $\\rightarrow$ The population mean of new cases in DKI Jakarta after year-end holiday (Starts from 28th December) is greater than before year-end holiday."
   ]
  },
  {
   "cell_type": "code",
   "execution_count": 26,
   "metadata": {
    "ExecuteTime": {
     "end_time": "2021-07-22T06:41:36.687588Z",
     "start_time": "2021-07-22T06:41:36.676597Z"
    }
   },
   "outputs": [
    {
     "name": "stdout",
     "output_type": "stream",
     "text": [
      "Before Holiday New Cases mean: 1208.468\n",
      "After Holiday New Cases mean: 2614.855\n"
     ]
    }
   ],
   "source": [
    "print(\"Before Holiday New Cases mean: {}\".format(round(before_holiday[\"New Cases\"].mean(), 3)))\n",
    "print(\"After Holiday New Cases mean: {}\".format(round(after_holiday[\"New Cases\"].mean(), 3)))"
   ]
  },
  {
   "cell_type": "markdown",
   "metadata": {
    "ExecuteTime": {
     "end_time": "2021-07-22T06:40:53.196968Z",
     "start_time": "2021-07-22T06:40:53.192979Z"
    }
   },
   "source": [
    "### The Trend"
   ]
  },
  {
   "cell_type": "markdown",
   "metadata": {
    "ExecuteTime": {
     "end_time": "2021-07-22T06:41:56.573104Z",
     "start_time": "2021-07-22T06:41:56.568118Z"
    }
   },
   "source": [
    "Checking the trend for sanity check."
   ]
  },
  {
   "cell_type": "code",
   "execution_count": 27,
   "metadata": {
    "ExecuteTime": {
     "end_time": "2021-07-22T06:41:37.281975Z",
     "start_time": "2021-07-22T06:41:36.691608Z"
    }
   },
   "outputs": [
    {
     "data": {
      "image/png": "[encoded data removed]",
      "text/plain": [
       "<Figure size 1080x360 with 1 Axes>"
      ]
     },
     "metadata": {
      "needs_background": "light"
     },
     "output_type": "display_data"
    }
   ],
   "source": [
    "plt.figure(figsize = (15, 5))\n",
    "plt.plot(\"Date\", \"New Cases\", data = pd.concat([before_holiday, after_holiday]));"
   ]
  }
 ],
 "metadata": {
  "kernelspec": {
   "display_name": "Python 3",
   "language": "python",
   "name": "python3"
  },
  "language_info": {
   "codemirror_mode": {
    "name": "ipython",
    "version": 3
   },
   "file_extension": ".py",
   "mimetype": "text/x-python",
   "name": "python",
   "nbconvert_exporter": "python",
   "pygments_lexer": "ipython3",
   "version": "3.8.5"
  },
  "nbTranslate": {
   "displayLangs": [
    "en"
   ],
   "hotkey": "alt-t",
   "langInMainMenu": true,
   "sourceLang": "en",
   "targetLang": "fr",
   "useGoogleTranslate": true
  },
  "toc": {
   "base_numbering": 1,
   "nav_menu": {},
   "number_sections": true,
   "sideBar": true,
   "skip_h1_title": false,
   "title_cell": "Table of Contents",
   "title_sidebar": "Contents",
   "toc_cell": true,
   "toc_position": {},
   "toc_section_display": true,
   "toc_window_display": true
  }
 },
 "nbformat": 4,
 "nbformat_minor": 4
}
