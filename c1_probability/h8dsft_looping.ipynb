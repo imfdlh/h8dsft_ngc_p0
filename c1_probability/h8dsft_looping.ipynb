{
 "cells": [
  {
   "cell_type": "markdown",
   "metadata": {
    "toc": true
   },
   "source": [
    "<h1>Table of Contents<span class=\"tocSkip\"></span></h1>\n",
    "<div class=\"toc\"><ul class=\"toc-item\"><li><span><a href=\"#For\" data-toc-modified-id=\"For-1\"><span class=\"toc-item-num\">1&nbsp;&nbsp;</span>For</a></span></li><li><span><a href=\"#While\" data-toc-modified-id=\"While-2\"><span class=\"toc-item-num\">2&nbsp;&nbsp;</span>While</a></span></li></ul></div>"
   ]
  },
  {
   "cell_type": "markdown",
   "metadata": {},
   "source": [
    "- Loop dan print semua angka genap dari list angka diatas dengan urutan yang sama. Jangan mencetak angka apa pun yang muncul setelah angka 918.\n",
    "- Tampilkan pesan 'Done'setelah looping berakhir."
   ]
  },
  {
   "cell_type": "code",
   "execution_count": 1,
   "metadata": {
    "ExecuteTime": {
     "end_time": "2021-06-30T08:16:49.353562Z",
     "start_time": "2021-06-30T08:16:49.345584Z"
    }
   },
   "outputs": [],
   "source": [
    "numbers = [\n",
    "    951, 402, 984, 651, 360, 69, 408, 319, 601, 485, 980, 507, 725, \n",
    "    547, 544, 615, 83, 165, 141, 501, 263, 617, 865, 575, 219, 390, \n",
    "    984, 592, 236, 105, 942, 941, 386, 462, 47, 418, 907, 344, 236, \n",
    "    375, 823, 566, 597, 978, 328, 615, 953, 345, 399, 162, 758, 219, \n",
    "    918, 237, 412, 566, 826, 248, 866, 950, 626, 949\n",
    "]"
   ]
  },
  {
   "cell_type": "markdown",
   "metadata": {},
   "source": [
    "# For"
   ]
  },
  {
   "cell_type": "code",
   "execution_count": 2,
   "metadata": {
    "ExecuteTime": {
     "end_time": "2021-06-30T08:16:49.388471Z",
     "start_time": "2021-06-30T08:16:49.374506Z"
    }
   },
   "outputs": [
    {
     "name": "stdout",
     "output_type": "stream",
     "text": [
      "402, 984, 360, 408, 980, 544, 390, 984, 592, 236, 942, 386, 462, 418, 344, 236, 566, 978, 328, 162, 758, 918, Done\n"
     ]
    }
   ],
   "source": [
    "for i in numbers:\n",
    "    if i % 2 == 0:\n",
    "        print(i, end = \", \")\n",
    "    if i == 918:\n",
    "        break\n",
    "print('Done')"
   ]
  },
  {
   "cell_type": "code",
   "execution_count": 3,
   "metadata": {
    "ExecuteTime": {
     "end_time": "2021-06-30T08:16:49.504785Z",
     "start_time": "2021-06-30T08:16:49.494825Z"
    }
   },
   "outputs": [
    {
     "name": "stdout",
     "output_type": "stream",
     "text": [
      "402\n",
      "984\n",
      "360\n",
      "408\n",
      "980\n",
      "544\n",
      "390\n",
      "984\n",
      "592\n",
      "236\n",
      "942\n",
      "386\n",
      "462\n",
      "418\n",
      "344\n",
      "236\n",
      "566\n",
      "978\n",
      "328\n",
      "162\n",
      "758\n",
      "918\n",
      "Done\n"
     ]
    }
   ],
   "source": [
    "for i in numbers:\n",
    "    if i % 2 == 0:\n",
    "        print(i)\n",
    "    if i == 918:\n",
    "        break\n",
    "print('Done')"
   ]
  },
  {
   "cell_type": "markdown",
   "metadata": {},
   "source": [
    "# While"
   ]
  },
  {
   "cell_type": "code",
   "execution_count": 4,
   "metadata": {
    "ExecuteTime": {
     "end_time": "2021-06-30T08:16:49.525729Z",
     "start_time": "2021-06-30T08:16:49.507777Z"
    }
   },
   "outputs": [
    {
     "name": "stdout",
     "output_type": "stream",
     "text": [
      "402, 984, 360, 408, 980, 544, 390, 984, 592, 236, 942, 386, 462, 418, 344, 236, 566, 978, 328, 162, 758, 918, Done\n"
     ]
    }
   ],
   "source": [
    "i = 0\n",
    "\n",
    "while i < len(numbers):\n",
    "    if numbers[i] % 2 == 0:\n",
    "        print(numbers[i], end = \", \")\n",
    "    if numbers[i] == 918:\n",
    "        break\n",
    "    i += 1\n",
    "print('Done')"
   ]
  },
  {
   "cell_type": "code",
   "execution_count": 5,
   "metadata": {
    "ExecuteTime": {
     "end_time": "2021-06-30T08:16:49.540688Z",
     "start_time": "2021-06-30T08:16:49.529719Z"
    }
   },
   "outputs": [
    {
     "name": "stdout",
     "output_type": "stream",
     "text": [
      "402\n",
      "984\n",
      "360\n",
      "408\n",
      "980\n",
      "544\n",
      "390\n",
      "984\n",
      "592\n",
      "236\n",
      "942\n",
      "386\n",
      "462\n",
      "418\n",
      "344\n",
      "236\n",
      "566\n",
      "978\n",
      "328\n",
      "162\n",
      "758\n",
      "918\n",
      "Done\n"
     ]
    }
   ],
   "source": [
    "i = 0\n",
    "\n",
    "while i < len(numbers):\n",
    "    if numbers[i] % 2 == 0:\n",
    "        print(numbers[i])\n",
    "    if numbers[i] == 918:\n",
    "        break\n",
    "    i += 1\n",
    "print('Done')"
   ]
  }
 ],
 "metadata": {
  "kernelspec": {
   "display_name": "Python 3",
   "language": "python",
   "name": "python3"
  },
  "language_info": {
   "codemirror_mode": {
    "name": "ipython",
    "version": 3
   },
   "file_extension": ".py",
   "mimetype": "text/x-python",
   "name": "python",
   "nbconvert_exporter": "python",
   "pygments_lexer": "ipython3",
   "version": "3.8.5"
  },
  "nbTranslate": {
   "displayLangs": [
    "en"
   ],
   "hotkey": "alt-t",
   "langInMainMenu": true,
   "sourceLang": "en",
   "targetLang": "fr",
   "useGoogleTranslate": true
  },
  "toc": {
   "base_numbering": 1,
   "nav_menu": {},
   "number_sections": true,
   "sideBar": true,
   "skip_h1_title": false,
   "title_cell": "Table of Contents",
   "title_sidebar": "Contents",
   "toc_cell": true,
   "toc_position": {},
   "toc_section_display": true,
   "toc_window_display": false
  }
 },
 "nbformat": 4,
 "nbformat_minor": 4
}
