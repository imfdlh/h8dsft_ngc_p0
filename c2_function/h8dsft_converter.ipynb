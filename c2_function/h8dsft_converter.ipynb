{
 "cells": [
  {
   "cell_type": "markdown",
   "metadata": {
    "toc": true
   },
   "source": [
    "<h1>Table of Contents<span class=\"tocSkip\"></span></h1>\n",
    "<div class=\"toc\"><ul class=\"toc-item\"></ul></div>"
   ]
  },
  {
   "cell_type": "markdown",
   "metadata": {},
   "source": [
    "# Celsius & Kelvin Converter"
   ]
  },
  {
   "cell_type": "code",
   "execution_count": 1,
   "metadata": {},
   "outputs": [],
   "source": [
    "def temp_c_k(temp, scale):\n",
    "    '''\n",
    "    convert temperature from celsius to kelvin or otherwise\n",
    "    input parameter should be celsius or kelvin\n",
    "    '''\n",
    "    lower_scale = scale.lower()\n",
    "    if lower_scale == 'c' or lower_scale == 'celsius':\n",
    "        # convert from celsius to kelvin\n",
    "        new_temp = round(temp + 273.15, 2)\n",
    "        new_scale = 'K'\n",
    "    elif lower_scale == 'k' or lower_scale == 'kelvin':\n",
    "        # convert from kelvin to celsius\n",
    "        new_temp = round(temp - 273.15, 2)\n",
    "        new_scale = 'C'\n",
    "    else:\n",
    "        # send an error message if input is not in celsius or kelvin\n",
    "        return 'scale is not in celsius or kelvin'\n",
    "    return new_temp, new_scale"
   ]
  },
  {
   "cell_type": "code",
   "execution_count": 2,
   "metadata": {},
   "outputs": [
    {
     "data": {
      "text/plain": [
       "'\\n    convert temperature from celsius to kelvin or otherwise\\n    input parameter should be celsius or kelvin\\n    '"
      ]
     },
     "execution_count": 2,
     "metadata": {},
     "output_type": "execute_result"
    }
   ],
   "source": [
    "temp_c_k.__doc__"
   ]
  },
  {
   "cell_type": "code",
   "execution_count": 3,
   "metadata": {},
   "outputs": [
    {
     "name": "stdout",
     "output_type": "stream",
     "text": [
      "100 C -> 373.15 K\n",
      "300 K -> 26.85 C\n",
      "80 F -> scale is not in celsius or kelvin\n"
     ]
    }
   ],
   "source": [
    "print('100 C ->', temp_c_k(100, 'C')[0], temp_c_k(100, 'C')[1])\n",
    "print('300 K ->', temp_c_k(300, 'kelvin')[0], temp_c_k(300, 'kelvin')[1])\n",
    "print('80 F ->', temp_c_k(80, 'f'))"
   ]
  },
  {
   "cell_type": "markdown",
   "metadata": {},
   "source": [
    "# Fahrenheit Converter"
   ]
  },
  {
   "cell_type": "markdown",
   "metadata": {},
   "source": [
    "## To Fahrenheit"
   ]
  },
  {
   "cell_type": "code",
   "execution_count": 4,
   "metadata": {},
   "outputs": [],
   "source": [
    "def temp_to_f(temp, scale):\n",
    "    '''\n",
    "    convert temperature to fahrenheit\n",
    "    input parameter should be celsius or kelvin\n",
    "    '''\n",
    "    lower_scale = scale.lower()\n",
    "    if lower_scale == 'c' or lower_scale == 'celsius':\n",
    "        # convert from celsius to fahrenheit\n",
    "        new_temp = round(((9/5) * temp) + 32, 2)\n",
    "    elif lower_scale == 'k' or lower_scale == 'kelvin':\n",
    "        # convert from kelvin to fahrenheit\n",
    "        new_temp = round((9/5) * (temp - 273.15) + 32, 2)\n",
    "    else:\n",
    "        # send an error message if input is not in celsius or kelvin\n",
    "        return 'scale is not in celsius or kelvin'\n",
    "    return new_temp"
   ]
  },
  {
   "cell_type": "code",
   "execution_count": 5,
   "metadata": {},
   "outputs": [
    {
     "data": {
      "text/plain": [
       "'\\n    convert temperature to fahrenheit\\n    input parameter should be celsius or kelvin\\n    '"
      ]
     },
     "execution_count": 5,
     "metadata": {},
     "output_type": "execute_result"
    }
   ],
   "source": [
    "temp_to_f.__doc__"
   ]
  },
  {
   "cell_type": "code",
   "execution_count": 6,
   "metadata": {},
   "outputs": [
    {
     "name": "stdout",
     "output_type": "stream",
     "text": [
      "100 C -> 212.0 F\n",
      "300 K -> 80.33 F\n",
      "80 R -> scale is not in celsius or kelvin\n"
     ]
    }
   ],
   "source": [
    "print('100 C ->', temp_to_f(100, 'C'), 'F')\n",
    "print('300 K ->', temp_to_f(300, 'kELVIN'), 'F')\n",
    "print('80 R ->', temp_to_f(80, 'r'))"
   ]
  },
  {
   "cell_type": "markdown",
   "metadata": {},
   "source": [
    "## From Fahrenheit"
   ]
  },
  {
   "cell_type": "code",
   "execution_count": 7,
   "metadata": {},
   "outputs": [],
   "source": [
    "def temp_from_f(temp, to_scale):\n",
    "    '''\n",
    "    convert temperature from fahrenheit\n",
    "    output parameter should be celsius or kelvin\n",
    "    '''\n",
    "    lower_to_scale = to_scale.lower()\n",
    "    if lower_to_scale == 'c' or lower_to_scale == 'celsius':\n",
    "        # convert from fahrenheit to celcius\n",
    "        new_temp = round((5/9) * (temp - 32), 2)\n",
    "    elif lower_to_scale == 'k' or lower_to_scale == 'kelvin':\n",
    "        # convert from fahrenheit to kelvin\n",
    "        new_temp = round((5/9) * (temp - 32) + 273.15, 2)\n",
    "    else:\n",
    "        # send an error message if expected output is not in celsius or kelvin\n",
    "        return 'expected scale is not in celsius or kelvin'\n",
    "    return new_temp, to_scale.capitalize()"
   ]
  },
  {
   "cell_type": "code",
   "execution_count": 8,
   "metadata": {},
   "outputs": [
    {
     "data": {
      "text/plain": [
       "'\\n    convert temperature from fahrenheit\\n    output parameter should be celsius or kelvin\\n    '"
      ]
     },
     "execution_count": 8,
     "metadata": {},
     "output_type": "execute_result"
    }
   ],
   "source": [
    "temp_from_f.__doc__"
   ]
  },
  {
   "cell_type": "code",
   "execution_count": 9,
   "metadata": {},
   "outputs": [
    {
     "name": "stdout",
     "output_type": "stream",
     "text": [
      "100 F to celsius -> 37.78 Celsius\n",
      "200 F to kelvin -> 366.48 K\n",
      "80 F to reamur ->  expected scale is not in celsius or kelvin\n"
     ]
    }
   ],
   "source": [
    "print('100 F to celsius ->', temp_from_f(100, 'Celsius')[0], temp_from_f(100, 'Celsius')[1])\n",
    "print('200 F to kelvin ->', temp_from_f(200, 'k')[0], temp_from_f(200, 'k')[1])\n",
    "print('80 F to reamur -> ', temp_from_f(80, 'r'))"
   ]
  }
 ],
 "metadata": {
  "kernelspec": {
   "display_name": "Python 3",
   "language": "python",
   "name": "python3"
  },
  "language_info": {
   "codemirror_mode": {
    "name": "ipython",
    "version": 3
   },
   "file_extension": ".py",
   "mimetype": "text/x-python",
   "name": "python",
   "nbconvert_exporter": "python",
   "pygments_lexer": "ipython3",
   "version": "3.8.5"
  },
  "nbTranslate": {
   "displayLangs": [
    "en"
   ],
   "hotkey": "alt-t",
   "langInMainMenu": true,
   "sourceLang": "en",
   "targetLang": "fr",
   "useGoogleTranslate": true
  },
  "toc": {
   "base_numbering": 1,
   "nav_menu": {},
   "number_sections": true,
   "sideBar": true,
   "skip_h1_title": false,
   "title_cell": "Table of Contents",
   "title_sidebar": "Contents",
   "toc_cell": true,
   "toc_position": {},
   "toc_section_display": true,
   "toc_window_display": false
  }
 },
 "nbformat": 4,
 "nbformat_minor": 4
}
