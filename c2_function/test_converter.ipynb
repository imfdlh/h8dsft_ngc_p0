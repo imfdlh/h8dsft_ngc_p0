{
 "cells": [
  {
   "cell_type": "markdown",
   "metadata": {
    "toc": true
   },
   "source": [
    "<h1>Table of Contents<span class=\"tocSkip\"></span></h1>\n",
    "<div class=\"toc\"><ul class=\"toc-item\"></ul></div>"
   ]
  },
  {
   "cell_type": "code",
   "execution_count": 1,
   "metadata": {
    "ExecuteTime": {
     "end_time": "2021-06-30T11:17:50.870708Z",
     "start_time": "2021-06-30T11:17:50.825477Z"
    }
   },
   "outputs": [],
   "source": [
    "from converter import temp_c_k, temp_to_f, temp_from_f"
   ]
  },
  {
   "cell_type": "code",
   "execution_count": 2,
   "metadata": {
    "ExecuteTime": {
     "end_time": "2021-06-30T11:17:50.886163Z",
     "start_time": "2021-06-30T11:17:50.872093Z"
    }
   },
   "outputs": [
    {
     "name": "stdout",
     "output_type": "stream",
     "text": [
      "100 C -> 373.15 K\n",
      "300 K -> 26.85 C\n",
      "80 F -> scale is not in celsius or kelvin\n"
     ]
    }
   ],
   "source": [
    "# from celsius to kelvin or otherwise\n",
    "print('100 C ->', temp_c_k(100, 'C')[0], temp_c_k(100, 'C')[1])\n",
    "print('300 K ->', temp_c_k(300, 'kelvin')[0], temp_c_k(300, 'kelvin')[1])\n",
    "print('80 F ->', temp_c_k(80, 'f'))"
   ]
  },
  {
   "cell_type": "code",
   "execution_count": 3,
   "metadata": {
    "ExecuteTime": {
     "end_time": "2021-06-30T11:17:50.900679Z",
     "start_time": "2021-06-30T11:17:50.891077Z"
    }
   },
   "outputs": [
    {
     "name": "stdout",
     "output_type": "stream",
     "text": [
      "100 C -> 212.0 F\n",
      "300 K -> 80.33 F\n",
      "80 R -> scale is not in celsius or kelvin\n"
     ]
    }
   ],
   "source": [
    "# from celsius or kelvin to fahrenheit\n",
    "print('100 C ->', temp_to_f(100, 'C'), 'F')\n",
    "print('300 K ->', temp_to_f(300, 'kELVIN'), 'F')\n",
    "print('80 R ->', temp_to_f(80, 'r'))"
   ]
  },
  {
   "cell_type": "code",
   "execution_count": 4,
   "metadata": {
    "ExecuteTime": {
     "end_time": "2021-06-30T11:17:50.911372Z",
     "start_time": "2021-06-30T11:17:50.902662Z"
    }
   },
   "outputs": [
    {
     "name": "stdout",
     "output_type": "stream",
     "text": [
      "100 F to celsius -> 37.78 Celsius\n",
      "200 F to kelvin -> 366.48 K\n",
      "80 F to reamur ->  expected scale is not in celsius or kelvin\n"
     ]
    }
   ],
   "source": [
    "# from fahrenheit to celsius or kelvin\n",
    "print('100 F to celsius ->', temp_from_f(100, 'Celsius')[0], temp_from_f(100, 'Celsius')[1])\n",
    "print('200 F to kelvin ->', temp_from_f(200, 'k')[0], temp_from_f(200, 'k')[1])\n",
    "print('80 F to reamur -> ', temp_from_f(80, 'r'))"
   ]
  }
 ],
 "metadata": {
  "kernelspec": {
   "display_name": "Python 3",
   "language": "python",
   "name": "python3"
  },
  "language_info": {
   "codemirror_mode": {
    "name": "ipython",
    "version": 3
   },
   "file_extension": ".py",
   "mimetype": "text/x-python",
   "name": "python",
   "nbconvert_exporter": "python",
   "pygments_lexer": "ipython3",
   "version": "3.8.5"
  },
  "nbTranslate": {
   "displayLangs": [
    "en"
   ],
   "hotkey": "alt-t",
   "langInMainMenu": true,
   "sourceLang": "en",
   "targetLang": "fr",
   "useGoogleTranslate": true
  },
  "toc": {
   "base_numbering": 1,
   "nav_menu": {},
   "number_sections": true,
   "sideBar": true,
   "skip_h1_title": false,
   "title_cell": "Table of Contents",
   "title_sidebar": "Contents",
   "toc_cell": true,
   "toc_position": {},
   "toc_section_display": true,
   "toc_window_display": false
  }
 },
 "nbformat": 4,
 "nbformat_minor": 4
}
