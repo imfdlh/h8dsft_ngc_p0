{
 "cells": [
  {
   "cell_type": "markdown",
   "metadata": {
    "toc": true
   },
   "source": [
    "<h1>Table of Contents<span class=\"tocSkip\"></span></h1>\n",
    "<div class=\"toc\"><ul class=\"toc-item\"><li><span><a href=\"#Create-SQLite-Function\" data-toc-modified-id=\"Create-SQLite-Function-1\"><span class=\"toc-item-num\">1&nbsp;&nbsp;</span>Create SQLite Function</a></span><ul class=\"toc-item\"><li><span><a href=\"#Connection-Function\" data-toc-modified-id=\"Connection-Function-1.1\"><span class=\"toc-item-num\">1.1&nbsp;&nbsp;</span>Connection Function</a></span></li><li><span><a href=\"#Command-Function\" data-toc-modified-id=\"Command-Function-1.2\"><span class=\"toc-item-num\">1.2&nbsp;&nbsp;</span>Command Function</a></span></li></ul></li><li><span><a href=\"#Loading-Data\" data-toc-modified-id=\"Loading-Data-2\"><span class=\"toc-item-num\">2&nbsp;&nbsp;</span>Loading Data</a></span></li></ul></div>"
   ]
  },
  {
   "cell_type": "code",
   "execution_count": 1,
   "metadata": {
    "ExecuteTime": {
     "end_time": "2021-07-06T15:11:33.259719Z",
     "start_time": "2021-07-06T15:11:32.937491Z"
    }
   },
   "outputs": [],
   "source": [
    "import pandas as pd\n",
    "import numpy as np\n",
    "\n",
    "import sqlite3 as sqlite\n",
    "from sqlite3 import Error"
   ]
  },
  {
   "cell_type": "markdown",
   "metadata": {},
   "source": [
    "# Create SQLite Function"
   ]
  },
  {
   "cell_type": "markdown",
   "metadata": {},
   "source": [
    "## Connection Function"
   ]
  },
  {
   "cell_type": "code",
   "execution_count": 2,
   "metadata": {
    "ExecuteTime": {
     "end_time": "2021-07-06T15:11:34.405475Z",
     "start_time": "2021-07-06T15:11:34.401486Z"
    }
   },
   "outputs": [],
   "source": [
    "def create_connection(path):\n",
    "    connection = None\n",
    "    try:\n",
    "        connection = sqlite.connect(path)\n",
    "        print(\"Connection to SQLite DB successful.\")\n",
    "    except Error as e:\n",
    "        print(f\"The error '{e}' occured.\")\n",
    "    return connection"
   ]
  },
  {
   "cell_type": "markdown",
   "metadata": {
    "ExecuteTime": {
     "end_time": "2021-07-05T16:12:51.541774Z",
     "start_time": "2021-07-05T16:12:51.537784Z"
    }
   },
   "source": [
    "## Command Function"
   ]
  },
  {
   "cell_type": "code",
   "execution_count": 3,
   "metadata": {
    "ExecuteTime": {
     "end_time": "2021-07-06T15:11:34.994804Z",
     "start_time": "2021-07-06T15:11:34.988820Z"
    }
   },
   "outputs": [],
   "source": [
    "def execute_command(connection, query):\n",
    "    cursor = connection.cursor()\n",
    "    try:\n",
    "        cursor.execute(query)\n",
    "        connection.commit()\n",
    "#         print(\"Command query executed successfully.\")\n",
    "    except Error as e:\n",
    "        print(f\"The error '{e}' occured.\")"
   ]
  },
  {
   "cell_type": "markdown",
   "metadata": {},
   "source": [
    "<!-- ## Query Function -->"
   ]
  },
  {
   "cell_type": "markdown",
   "metadata": {},
   "source": [
    "# Loading Data"
   ]
  },
  {
   "cell_type": "markdown",
   "metadata": {},
   "source": [
    "Source: https://www.kaggle.com/anlgrbz/student-demographics-online-education-dataoulad"
   ]
  },
  {
   "cell_type": "code",
   "execution_count": 4,
   "metadata": {
    "ExecuteTime": {
     "end_time": "2021-07-06T15:11:36.627763Z",
     "start_time": "2021-07-06T15:11:36.457099Z"
    }
   },
   "outputs": [],
   "source": [
    "assessments = pd.read_csv('data/assessments.csv')\n",
    "courses = pd.read_csv('data/courses.csv')\n",
    "student_assessment = pd.read_csv('data/studentAssessment.csv')\n",
    "student_info = pd.read_csv('data/studentInfo.csv')\n",
    "student_registration = pd.read_csv('data/studentRegistration.csv')\n",
    "vle = pd.read_csv('data/vle.csv')"
   ]
  },
  {
   "cell_type": "code",
   "execution_count": 5,
   "metadata": {
    "ExecuteTime": {
     "end_time": "2021-07-06T15:11:55.739053Z",
     "start_time": "2021-07-06T15:11:55.733071Z"
    }
   },
   "outputs": [
    {
     "name": "stdout",
     "output_type": "stream",
     "text": [
      "Connection to SQLite DB successful.\n"
     ]
    }
   ],
   "source": [
    "oulad_students_conn = create_connection(r\"D:\\STUDY\\AAMIIN\\HACKTIV8\\CLASS\\F0_W2_D1\\NGC\\test.sqlite\")"
   ]
  },
  {
   "cell_type": "code",
   "execution_count": 16,
   "metadata": {
    "ExecuteTime": {
     "end_time": "2021-07-06T15:20:02.905390Z",
     "start_time": "2021-07-06T15:20:02.765409Z"
    }
   },
   "outputs": [],
   "source": [
    "create_assessments_tab = \"\"\"\n",
    "CREATE TABLE IF NOT EXISTS b (\n",
    "    code_module TEXT,\n",
    "    code_presentation TEXT,\n",
    "    id_assessment INT,\n",
    "    assessment_type TEXT,\n",
    "    date FLOAT,\n",
    "    weight FLOAT\n",
    ")\n",
    "\"\"\"\n",
    "execute_command(oulad_students_conn, create_assessments_tab)"
   ]
  },
  {
   "cell_type": "code",
   "execution_count": 17,
   "metadata": {
    "ExecuteTime": {
     "end_time": "2021-07-06T15:20:48.424684Z",
     "start_time": "2021-07-06T15:20:07.162353Z"
    }
   },
   "outputs": [],
   "source": [
    "for i in range(len(assessments)):\n",
    "    insert_table = f\"\"\"\n",
    "    INSERT INTO b (\n",
    "        {\", \".join(assessments.columns.to_list())}\n",
    "    )\n",
    "    VALUES (\n",
    "        '{assessments['code_module'][i]}', '{assessments['code_presentation'][i]}',\n",
    "        {assessments['id_assessment'][i]}, '{assessments['assessment_type'][i]}',\n",
    "        {'NULL' if np.isnan(assessments['date'][i]) else assessments['date'][i]}, {assessments['weight'][i]}\n",
    "    )\n",
    "    \"\"\"\n",
    "    execute_command(oulad_students_conn, insert_table)"
   ]
  },
  {
   "cell_type": "code",
   "execution_count": 18,
   "metadata": {
    "ExecuteTime": {
     "end_time": "2021-07-06T15:21:17.264498Z",
     "start_time": "2021-07-06T15:21:17.103032Z"
    }
   },
   "outputs": [],
   "source": [
    "create_assessments_tab = \"\"\"\n",
    "CREATE TABLE IF NOT EXISTS c (\n",
    "    code_module TEXT,\n",
    "    code_presentation TEXT,\n",
    "    id_assessment INT,\n",
    "    assessment_type TEXT,\n",
    "    date FLOAT,\n",
    "    weight FLOAT\n",
    ")\n",
    "\"\"\"\n",
    "execute_command(oulad_students_conn, create_assessments_tab)"
   ]
  },
  {
   "cell_type": "code",
   "execution_count": 19,
   "metadata": {
    "ExecuteTime": {
     "end_time": "2021-07-06T15:22:04.615929Z",
     "start_time": "2021-07-06T15:21:23.542421Z"
    }
   },
   "outputs": [],
   "source": [
    "for idx, row in assessments.iterrows():\n",
    "    insert_t = f\"\"\"\n",
    "    INSERT INTO c (\n",
    "        {\", \".join(assessments.columns.to_list())}\n",
    "    )\n",
    "    VALUES (\n",
    "        '{row['code_module']}', '{row['code_presentation']}',\n",
    "        {row['id_assessment']}, '{row['assessment_type']}',\n",
    "        {'NULL' if np.isnan(row['date']) else row['date']}, {row['weight']}\n",
    "    )\n",
    "    \"\"\"\n",
    "    execute_command(oulad_students_conn, insert_t)"
   ]
  },
  {
   "cell_type": "code",
   "execution_count": 20,
   "metadata": {
    "ExecuteTime": {
     "end_time": "2021-07-06T15:22:04.651834Z",
     "start_time": "2021-07-06T15:22:04.618921Z"
    }
   },
   "outputs": [
    {
     "data": {
      "text/html": [
       "<div>\n",
       "<style scoped>\n",
       "    .dataframe tbody tr th:only-of-type {\n",
       "        vertical-align: middle;\n",
       "    }\n",
       "\n",
       "    .dataframe tbody tr th {\n",
       "        vertical-align: top;\n",
       "    }\n",
       "\n",
       "    .dataframe thead th {\n",
       "        text-align: right;\n",
       "    }\n",
       "</style>\n",
       "<table border=\"1\" class=\"dataframe\">\n",
       "  <thead>\n",
       "    <tr style=\"text-align: right;\">\n",
       "      <th></th>\n",
       "      <th>code_module</th>\n",
       "      <th>code_presentation</th>\n",
       "      <th>id_assessment</th>\n",
       "      <th>assessment_type</th>\n",
       "      <th>date</th>\n",
       "      <th>weight</th>\n",
       "    </tr>\n",
       "  </thead>\n",
       "  <tbody>\n",
       "    <tr>\n",
       "      <th>0</th>\n",
       "      <td>AAA</td>\n",
       "      <td>2013J</td>\n",
       "      <td>1752</td>\n",
       "      <td>TMA</td>\n",
       "      <td>19.0</td>\n",
       "      <td>10.0</td>\n",
       "    </tr>\n",
       "    <tr>\n",
       "      <th>1</th>\n",
       "      <td>AAA</td>\n",
       "      <td>2013J</td>\n",
       "      <td>1753</td>\n",
       "      <td>TMA</td>\n",
       "      <td>54.0</td>\n",
       "      <td>20.0</td>\n",
       "    </tr>\n",
       "    <tr>\n",
       "      <th>2</th>\n",
       "      <td>AAA</td>\n",
       "      <td>2013J</td>\n",
       "      <td>1754</td>\n",
       "      <td>TMA</td>\n",
       "      <td>117.0</td>\n",
       "      <td>20.0</td>\n",
       "    </tr>\n",
       "    <tr>\n",
       "      <th>3</th>\n",
       "      <td>AAA</td>\n",
       "      <td>2013J</td>\n",
       "      <td>1755</td>\n",
       "      <td>TMA</td>\n",
       "      <td>166.0</td>\n",
       "      <td>20.0</td>\n",
       "    </tr>\n",
       "    <tr>\n",
       "      <th>4</th>\n",
       "      <td>AAA</td>\n",
       "      <td>2013J</td>\n",
       "      <td>1756</td>\n",
       "      <td>TMA</td>\n",
       "      <td>215.0</td>\n",
       "      <td>30.0</td>\n",
       "    </tr>\n",
       "    <tr>\n",
       "      <th>...</th>\n",
       "      <td>...</td>\n",
       "      <td>...</td>\n",
       "      <td>...</td>\n",
       "      <td>...</td>\n",
       "      <td>...</td>\n",
       "      <td>...</td>\n",
       "    </tr>\n",
       "    <tr>\n",
       "      <th>201</th>\n",
       "      <td>GGG</td>\n",
       "      <td>2014J</td>\n",
       "      <td>37443</td>\n",
       "      <td>CMA</td>\n",
       "      <td>229.0</td>\n",
       "      <td>0.0</td>\n",
       "    </tr>\n",
       "    <tr>\n",
       "      <th>202</th>\n",
       "      <td>GGG</td>\n",
       "      <td>2014J</td>\n",
       "      <td>37435</td>\n",
       "      <td>TMA</td>\n",
       "      <td>61.0</td>\n",
       "      <td>0.0</td>\n",
       "    </tr>\n",
       "    <tr>\n",
       "      <th>203</th>\n",
       "      <td>GGG</td>\n",
       "      <td>2014J</td>\n",
       "      <td>37436</td>\n",
       "      <td>TMA</td>\n",
       "      <td>124.0</td>\n",
       "      <td>0.0</td>\n",
       "    </tr>\n",
       "    <tr>\n",
       "      <th>204</th>\n",
       "      <td>GGG</td>\n",
       "      <td>2014J</td>\n",
       "      <td>37437</td>\n",
       "      <td>TMA</td>\n",
       "      <td>173.0</td>\n",
       "      <td>0.0</td>\n",
       "    </tr>\n",
       "    <tr>\n",
       "      <th>205</th>\n",
       "      <td>GGG</td>\n",
       "      <td>2014J</td>\n",
       "      <td>37444</td>\n",
       "      <td>Exam</td>\n",
       "      <td>229.0</td>\n",
       "      <td>100.0</td>\n",
       "    </tr>\n",
       "  </tbody>\n",
       "</table>\n",
       "<p>206 rows × 6 columns</p>\n",
       "</div>"
      ],
      "text/plain": [
       "    code_module code_presentation  id_assessment assessment_type   date  \\\n",
       "0           AAA             2013J           1752             TMA   19.0   \n",
       "1           AAA             2013J           1753             TMA   54.0   \n",
       "2           AAA             2013J           1754             TMA  117.0   \n",
       "3           AAA             2013J           1755             TMA  166.0   \n",
       "4           AAA             2013J           1756             TMA  215.0   \n",
       "..          ...               ...            ...             ...    ...   \n",
       "201         GGG             2014J          37443             CMA  229.0   \n",
       "202         GGG             2014J          37435             TMA   61.0   \n",
       "203         GGG             2014J          37436             TMA  124.0   \n",
       "204         GGG             2014J          37437             TMA  173.0   \n",
       "205         GGG             2014J          37444            Exam  229.0   \n",
       "\n",
       "     weight  \n",
       "0      10.0  \n",
       "1      20.0  \n",
       "2      20.0  \n",
       "3      20.0  \n",
       "4      30.0  \n",
       "..      ...  \n",
       "201     0.0  \n",
       "202     0.0  \n",
       "203     0.0  \n",
       "204     0.0  \n",
       "205   100.0  \n",
       "\n",
       "[206 rows x 6 columns]"
      ]
     },
     "execution_count": 20,
     "metadata": {},
     "output_type": "execute_result"
    }
   ],
   "source": [
    "pd.read_sql_query(\"SELECT * FROM b\", oulad_students_conn)"
   ]
  },
  {
   "cell_type": "code",
   "execution_count": 21,
   "metadata": {
    "ExecuteTime": {
     "end_time": "2021-07-06T15:22:04.688735Z",
     "start_time": "2021-07-06T15:22:04.657818Z"
    },
    "scrolled": false
   },
   "outputs": [
    {
     "data": {
      "text/html": [
       "<div>\n",
       "<style scoped>\n",
       "    .dataframe tbody tr th:only-of-type {\n",
       "        vertical-align: middle;\n",
       "    }\n",
       "\n",
       "    .dataframe tbody tr th {\n",
       "        vertical-align: top;\n",
       "    }\n",
       "\n",
       "    .dataframe thead th {\n",
       "        text-align: right;\n",
       "    }\n",
       "</style>\n",
       "<table border=\"1\" class=\"dataframe\">\n",
       "  <thead>\n",
       "    <tr style=\"text-align: right;\">\n",
       "      <th></th>\n",
       "      <th>code_module</th>\n",
       "      <th>code_presentation</th>\n",
       "      <th>id_assessment</th>\n",
       "      <th>assessment_type</th>\n",
       "      <th>date</th>\n",
       "      <th>weight</th>\n",
       "    </tr>\n",
       "  </thead>\n",
       "  <tbody>\n",
       "    <tr>\n",
       "      <th>0</th>\n",
       "      <td>AAA</td>\n",
       "      <td>2013J</td>\n",
       "      <td>1752</td>\n",
       "      <td>TMA</td>\n",
       "      <td>19.0</td>\n",
       "      <td>10.0</td>\n",
       "    </tr>\n",
       "    <tr>\n",
       "      <th>1</th>\n",
       "      <td>AAA</td>\n",
       "      <td>2013J</td>\n",
       "      <td>1753</td>\n",
       "      <td>TMA</td>\n",
       "      <td>54.0</td>\n",
       "      <td>20.0</td>\n",
       "    </tr>\n",
       "    <tr>\n",
       "      <th>2</th>\n",
       "      <td>AAA</td>\n",
       "      <td>2013J</td>\n",
       "      <td>1754</td>\n",
       "      <td>TMA</td>\n",
       "      <td>117.0</td>\n",
       "      <td>20.0</td>\n",
       "    </tr>\n",
       "    <tr>\n",
       "      <th>3</th>\n",
       "      <td>AAA</td>\n",
       "      <td>2013J</td>\n",
       "      <td>1755</td>\n",
       "      <td>TMA</td>\n",
       "      <td>166.0</td>\n",
       "      <td>20.0</td>\n",
       "    </tr>\n",
       "    <tr>\n",
       "      <th>4</th>\n",
       "      <td>AAA</td>\n",
       "      <td>2013J</td>\n",
       "      <td>1756</td>\n",
       "      <td>TMA</td>\n",
       "      <td>215.0</td>\n",
       "      <td>30.0</td>\n",
       "    </tr>\n",
       "    <tr>\n",
       "      <th>...</th>\n",
       "      <td>...</td>\n",
       "      <td>...</td>\n",
       "      <td>...</td>\n",
       "      <td>...</td>\n",
       "      <td>...</td>\n",
       "      <td>...</td>\n",
       "    </tr>\n",
       "    <tr>\n",
       "      <th>201</th>\n",
       "      <td>GGG</td>\n",
       "      <td>2014J</td>\n",
       "      <td>37443</td>\n",
       "      <td>CMA</td>\n",
       "      <td>229.0</td>\n",
       "      <td>0.0</td>\n",
       "    </tr>\n",
       "    <tr>\n",
       "      <th>202</th>\n",
       "      <td>GGG</td>\n",
       "      <td>2014J</td>\n",
       "      <td>37435</td>\n",
       "      <td>TMA</td>\n",
       "      <td>61.0</td>\n",
       "      <td>0.0</td>\n",
       "    </tr>\n",
       "    <tr>\n",
       "      <th>203</th>\n",
       "      <td>GGG</td>\n",
       "      <td>2014J</td>\n",
       "      <td>37436</td>\n",
       "      <td>TMA</td>\n",
       "      <td>124.0</td>\n",
       "      <td>0.0</td>\n",
       "    </tr>\n",
       "    <tr>\n",
       "      <th>204</th>\n",
       "      <td>GGG</td>\n",
       "      <td>2014J</td>\n",
       "      <td>37437</td>\n",
       "      <td>TMA</td>\n",
       "      <td>173.0</td>\n",
       "      <td>0.0</td>\n",
       "    </tr>\n",
       "    <tr>\n",
       "      <th>205</th>\n",
       "      <td>GGG</td>\n",
       "      <td>2014J</td>\n",
       "      <td>37444</td>\n",
       "      <td>Exam</td>\n",
       "      <td>229.0</td>\n",
       "      <td>100.0</td>\n",
       "    </tr>\n",
       "  </tbody>\n",
       "</table>\n",
       "<p>206 rows × 6 columns</p>\n",
       "</div>"
      ],
      "text/plain": [
       "    code_module code_presentation  id_assessment assessment_type   date  \\\n",
       "0           AAA             2013J           1752             TMA   19.0   \n",
       "1           AAA             2013J           1753             TMA   54.0   \n",
       "2           AAA             2013J           1754             TMA  117.0   \n",
       "3           AAA             2013J           1755             TMA  166.0   \n",
       "4           AAA             2013J           1756             TMA  215.0   \n",
       "..          ...               ...            ...             ...    ...   \n",
       "201         GGG             2014J          37443             CMA  229.0   \n",
       "202         GGG             2014J          37435             TMA   61.0   \n",
       "203         GGG             2014J          37436             TMA  124.0   \n",
       "204         GGG             2014J          37437             TMA  173.0   \n",
       "205         GGG             2014J          37444            Exam  229.0   \n",
       "\n",
       "     weight  \n",
       "0      10.0  \n",
       "1      20.0  \n",
       "2      20.0  \n",
       "3      20.0  \n",
       "4      30.0  \n",
       "..      ...  \n",
       "201     0.0  \n",
       "202     0.0  \n",
       "203     0.0  \n",
       "204     0.0  \n",
       "205   100.0  \n",
       "\n",
       "[206 rows x 6 columns]"
      ]
     },
     "execution_count": 21,
     "metadata": {},
     "output_type": "execute_result"
    }
   ],
   "source": [
    "pd.read_sql_query(\"SELECT * FROM c\", oulad_students_conn)"
   ]
  },
  {
   "cell_type": "code",
   "execution_count": 22,
   "metadata": {
    "ExecuteTime": {
     "end_time": "2021-07-06T15:36:29.050066Z",
     "start_time": "2021-07-06T15:36:28.890720Z"
    }
   },
   "outputs": [],
   "source": [
    "create_assessments_tab = \"\"\"\n",
    "CREATE TABLE IF NOT EXISTS d (\n",
    "    code_module TEXT,\n",
    "    code_presentation TEXT,\n",
    "    id_assessment INT,\n",
    "    assessment_type TEXT,\n",
    "    date FLOAT,\n",
    "    weight FLOAT\n",
    ")\n",
    "\"\"\"\n",
    "execute_command(oulad_students_conn, create_assessments_tab)"
   ]
  },
  {
   "cell_type": "code",
   "execution_count": 24,
   "metadata": {
    "ExecuteTime": {
     "end_time": "2021-07-06T15:40:21.811710Z",
     "start_time": "2021-07-06T15:40:21.804729Z"
    }
   },
   "outputs": [
    {
     "ename": "SyntaxError",
     "evalue": "invalid syntax (<ipython-input-24-7bfc0d0a928e>, line 6)",
     "output_type": "error",
     "traceback": [
      "\u001b[1;36m  File \u001b[1;32m\"<ipython-input-24-7bfc0d0a928e>\"\u001b[1;36m, line \u001b[1;32m6\u001b[0m\n\u001b[1;33m    for i in range(len(assessments)):\u001b[0m\n\u001b[1;37m    ^\u001b[0m\n\u001b[1;31mSyntaxError\u001b[0m\u001b[1;31m:\u001b[0m invalid syntax\n"
     ]
    }
   ],
   "source": [
    "for i in range(len(assessments)):\n",
    "    insert_table = f\"\"\"\n",
    "    INSERT INTO d (\n",
    "        {\", \".join(assessments.columns.to_list())}\n",
    "    )\n",
    "    VALUES (\n",
    "        '{assessments['code_module'][i]}', '{assessments['code_presentation'][i]}',\n",
    "        {assessments['id_assessment'][i]}, '{assessments['assessment_type'][i]}',\n",
    "        {'NULL' if np.isnan(assessments['date'][i]) else assessments['date'][i]}, {assessments['weight'][i]}\n",
    "    )\n",
    "    \"\"\"\n",
    "    execute_command(oulad_students_conn, insert_table)"
   ]
  },
  {
   "cell_type": "code",
   "execution_count": 29,
   "metadata": {
    "ExecuteTime": {
     "end_time": "2021-07-06T15:43:20.017913Z",
     "start_time": "2021-07-06T15:43:20.001956Z"
    }
   },
   "outputs": [
    {
     "name": "stdout",
     "output_type": "stream",
     "text": [
      "AAA\n",
      "AAA\n",
      "AAA\n",
      "AAA\n",
      "AAA\n",
      "AAA\n",
      "AAA\n",
      "AAA\n",
      "AAA\n",
      "AAA\n",
      "AAA\n",
      "AAA\n",
      "BBB\n",
      "BBB\n",
      "BBB\n",
      "BBB\n",
      "BBB\n",
      "BBB\n",
      "BBB\n",
      "BBB\n",
      "BBB\n",
      "BBB\n",
      "BBB\n",
      "BBB\n",
      "BBB\n",
      "BBB\n",
      "BBB\n",
      "BBB\n",
      "BBB\n",
      "BBB\n",
      "BBB\n",
      "BBB\n",
      "BBB\n",
      "BBB\n",
      "BBB\n",
      "BBB\n",
      "BBB\n",
      "BBB\n",
      "BBB\n",
      "BBB\n",
      "BBB\n",
      "BBB\n",
      "BBB\n",
      "BBB\n",
      "BBB\n",
      "BBB\n",
      "BBB\n",
      "BBB\n",
      "BBB\n",
      "BBB\n",
      "BBB\n",
      "BBB\n",
      "BBB\n",
      "BBB\n",
      "CCC\n",
      "CCC\n",
      "CCC\n",
      "CCC\n",
      "CCC\n",
      "CCC\n",
      "CCC\n",
      "CCC\n",
      "CCC\n",
      "CCC\n",
      "CCC\n",
      "CCC\n",
      "CCC\n",
      "CCC\n",
      "CCC\n",
      "CCC\n",
      "CCC\n",
      "CCC\n",
      "CCC\n",
      "CCC\n",
      "DDD\n",
      "DDD\n",
      "DDD\n",
      "DDD\n",
      "DDD\n",
      "DDD\n",
      "DDD\n",
      "DDD\n",
      "DDD\n",
      "DDD\n",
      "DDD\n",
      "DDD\n",
      "DDD\n",
      "DDD\n",
      "DDD\n",
      "DDD\n",
      "DDD\n",
      "DDD\n",
      "DDD\n",
      "DDD\n",
      "DDD\n",
      "DDD\n",
      "DDD\n",
      "DDD\n",
      "DDD\n",
      "DDD\n",
      "DDD\n",
      "DDD\n",
      "DDD\n",
      "DDD\n",
      "DDD\n",
      "DDD\n",
      "DDD\n",
      "DDD\n",
      "DDD\n",
      "EEE\n",
      "EEE\n",
      "EEE\n",
      "EEE\n",
      "EEE\n",
      "EEE\n",
      "EEE\n",
      "EEE\n",
      "EEE\n",
      "EEE\n",
      "EEE\n",
      "EEE\n",
      "EEE\n",
      "EEE\n",
      "EEE\n",
      "FFF\n",
      "FFF\n",
      "FFF\n",
      "FFF\n",
      "FFF\n",
      "FFF\n",
      "FFF\n",
      "FFF\n",
      "FFF\n",
      "FFF\n",
      "FFF\n",
      "FFF\n",
      "FFF\n",
      "FFF\n",
      "FFF\n",
      "FFF\n",
      "FFF\n",
      "FFF\n",
      "FFF\n",
      "FFF\n",
      "FFF\n",
      "FFF\n",
      "FFF\n",
      "FFF\n",
      "FFF\n",
      "FFF\n",
      "FFF\n",
      "FFF\n",
      "FFF\n",
      "FFF\n",
      "FFF\n",
      "FFF\n",
      "FFF\n",
      "FFF\n",
      "FFF\n",
      "FFF\n",
      "FFF\n",
      "FFF\n",
      "FFF\n",
      "FFF\n",
      "FFF\n",
      "FFF\n",
      "FFF\n",
      "FFF\n",
      "FFF\n",
      "FFF\n",
      "FFF\n",
      "FFF\n",
      "FFF\n",
      "FFF\n",
      "FFF\n",
      "FFF\n",
      "GGG\n",
      "GGG\n",
      "GGG\n",
      "GGG\n",
      "GGG\n",
      "GGG\n",
      "GGG\n",
      "GGG\n",
      "GGG\n",
      "GGG\n",
      "GGG\n",
      "GGG\n",
      "GGG\n",
      "GGG\n",
      "GGG\n",
      "GGG\n",
      "GGG\n",
      "GGG\n",
      "GGG\n",
      "GGG\n",
      "GGG\n",
      "GGG\n",
      "GGG\n",
      "GGG\n",
      "GGG\n",
      "GGG\n",
      "GGG\n",
      "GGG\n",
      "GGG\n",
      "GGG\n"
     ]
    }
   ],
   "source": [
    "for i in range(len(assessments)):\n",
    "    print(f\"{assessments['code_module'][i]}\")"
   ]
  },
  {
   "cell_type": "code",
   "execution_count": 30,
   "metadata": {
    "ExecuteTime": {
     "end_time": "2021-07-06T15:47:47.499258Z",
     "start_time": "2021-07-06T15:47:47.491243Z"
    }
   },
   "outputs": [
    {
     "data": {
      "text/plain": [
       "<sqlite3.Cursor at 0x29a946a0500>"
      ]
     },
     "execution_count": 30,
     "metadata": {},
     "output_type": "execute_result"
    }
   ],
   "source": [
    "import sqlite3\n",
    "\n",
    "persons = [\n",
    "    (\"Hugo\", \"Boss\"),\n",
    "    (\"Calvin\", \"Klein\")\n",
    "]\n",
    "\n",
    "con = sqlite3.connect(\":memory:\")\n",
    "\n",
    "# Create the table\n",
    "con.execute(\"create table person(firstname, lastname)\")\n",
    "\n",
    "# Fill the table\n",
    "con.executemany(\"insert into person(firstname, lastname) values (?,?)\", persons)"
   ]
  },
  {
   "cell_type": "code",
   "execution_count": null,
   "metadata": {},
   "outputs": [],
   "source": []
  }
 ],
 "metadata": {
  "kernelspec": {
   "display_name": "Python 3",
   "language": "python",
   "name": "python3"
  },
  "language_info": {
   "codemirror_mode": {
    "name": "ipython",
    "version": 3
   },
   "file_extension": ".py",
   "mimetype": "text/x-python",
   "name": "python",
   "nbconvert_exporter": "python",
   "pygments_lexer": "ipython3",
   "version": "3.8.5"
  },
  "nbTranslate": {
   "displayLangs": [
    "en"
   ],
   "hotkey": "alt-t",
   "langInMainMenu": true,
   "sourceLang": "en",
   "targetLang": "fr",
   "useGoogleTranslate": true
  },
  "toc": {
   "base_numbering": 1,
   "nav_menu": {},
   "number_sections": true,
   "sideBar": true,
   "skip_h1_title": false,
   "title_cell": "Table of Contents",
   "title_sidebar": "Contents",
   "toc_cell": true,
   "toc_position": {},
   "toc_section_display": true,
   "toc_window_display": false
  }
 },
 "nbformat": 4,
 "nbformat_minor": 4
}
