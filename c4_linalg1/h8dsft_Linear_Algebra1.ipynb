{
 "cells": [
  {
   "cell_type": "markdown",
   "metadata": {
    "toc": true
   },
   "source": [
    "<h1>Table of Contents<span class=\"tocSkip\"></span></h1>\n",
    "<div class=\"toc\"><ul class=\"toc-item\"><li><span><a href=\"#Introduction\" data-toc-modified-id=\"Introduction-1\"><span class=\"toc-item-num\">1&nbsp;&nbsp;</span>Introduction</a></span></li><li><span><a href=\"#Import-Libray\" data-toc-modified-id=\"Import-Libray-2\"><span class=\"toc-item-num\">2&nbsp;&nbsp;</span>Import Libray</a></span></li><li><span><a href=\"#Question-1\" data-toc-modified-id=\"Question-1-3\"><span class=\"toc-item-num\">3&nbsp;&nbsp;</span>Question 1</a></span><ul class=\"toc-item\"><li><span><a href=\"#Answer\" data-toc-modified-id=\"Answer-3.1\"><span class=\"toc-item-num\">3.1&nbsp;&nbsp;</span>Answer</a></span></li></ul></li><li><span><a href=\"#Question-2\" data-toc-modified-id=\"Question-2-4\"><span class=\"toc-item-num\">4&nbsp;&nbsp;</span>Question 2</a></span><ul class=\"toc-item\"><li><span><a href=\"#Answer\" data-toc-modified-id=\"Answer-4.1\"><span class=\"toc-item-num\">4.1&nbsp;&nbsp;</span>Answer</a></span></li></ul></li><li><span><a href=\"#Question-3\" data-toc-modified-id=\"Question-3-5\"><span class=\"toc-item-num\">5&nbsp;&nbsp;</span>Question 3</a></span><ul class=\"toc-item\"><li><span><a href=\"#Answer\" data-toc-modified-id=\"Answer-5.1\"><span class=\"toc-item-num\">5.1&nbsp;&nbsp;</span>Answer</a></span></li></ul></li><li><span><a href=\"#Question-4\" data-toc-modified-id=\"Question-4-6\"><span class=\"toc-item-num\">6&nbsp;&nbsp;</span>Question 4</a></span><ul class=\"toc-item\"><li><span><a href=\"#Answer\" data-toc-modified-id=\"Answer-6.1\"><span class=\"toc-item-num\">6.1&nbsp;&nbsp;</span>Answer</a></span></li></ul></li><li><span><a href=\"#Question-5\" data-toc-modified-id=\"Question-5-7\"><span class=\"toc-item-num\">7&nbsp;&nbsp;</span>Question 5</a></span><ul class=\"toc-item\"><li><span><a href=\"#Answer\" data-toc-modified-id=\"Answer-7.1\"><span class=\"toc-item-num\">7.1&nbsp;&nbsp;</span>Answer</a></span></li></ul></li><li><span><a href=\"#Question-6\" data-toc-modified-id=\"Question-6-8\"><span class=\"toc-item-num\">8&nbsp;&nbsp;</span>Question 6</a></span><ul class=\"toc-item\"><li><span><a href=\"#Answer\" data-toc-modified-id=\"Answer-8.1\"><span class=\"toc-item-num\">8.1&nbsp;&nbsp;</span>Answer</a></span><ul class=\"toc-item\"><li><span><a href=\"#Simple-Plot\" data-toc-modified-id=\"Simple-Plot-8.1.1\"><span class=\"toc-item-num\">8.1.1&nbsp;&nbsp;</span>Simple Plot</a></span></li><li><span><a href=\"#Represented-as-Arrow\" data-toc-modified-id=\"Represented-as-Arrow-8.1.2\"><span class=\"toc-item-num\">8.1.2&nbsp;&nbsp;</span>Represented as Arrow</a></span></li></ul></li></ul></li></ul></div>"
   ]
  },
  {
   "cell_type": "markdown",
   "metadata": {},
   "source": [
    "# Introduction\n",
    "\n",
    "**Name:** Fadilah Nur Imani\n",
    "<br>\n",
    "**Class/Batch:** FTDS/001\n",
    "<br>\n",
    "**Nongraded Challenge:** 4"
   ]
  },
  {
   "cell_type": "markdown",
   "metadata": {},
   "source": [
    "# Import Libray"
   ]
  },
  {
   "cell_type": "code",
   "execution_count": 1,
   "metadata": {
    "ExecuteTime": {
     "end_time": "2021-07-10T18:03:47.677094Z",
     "start_time": "2021-07-10T18:03:46.912141Z"
    }
   },
   "outputs": [],
   "source": [
    "import numpy as np\n",
    "\n",
    "%matplotlib inline\n",
    "import matplotlib.pyplot as plt\n",
    "plt.style.use(\"fivethirtyeight\")"
   ]
  },
  {
   "cell_type": "markdown",
   "metadata": {
    "ExecuteTime": {
     "end_time": "2021-07-08T14:32:28.811483Z",
     "start_time": "2021-07-08T14:32:28.807499Z"
    }
   },
   "source": [
    "#  Question 1"
   ]
  },
  {
   "cell_type": "markdown",
   "metadata": {},
   "source": [
    "Create a Vector as follows using Python:"
   ]
  },
  {
   "cell_type": "markdown",
   "metadata": {},
   "source": [
    "$ \\begin{bmatrix}\n",
    "    17\\\\\n",
    "    22\\\\\n",
    "    19\n",
    "\\end{bmatrix} $"
   ]
  },
  {
   "cell_type": "markdown",
   "metadata": {
    "ExecuteTime": {
     "end_time": "2021-07-08T17:53:10.464196Z",
     "start_time": "2021-07-08T17:53:10.453357Z"
    }
   },
   "source": [
    "## Answer"
   ]
  },
  {
   "cell_type": "code",
   "execution_count": 2,
   "metadata": {
    "ExecuteTime": {
     "end_time": "2021-07-10T18:03:47.694048Z",
     "start_time": "2021-07-10T18:03:47.680086Z"
    }
   },
   "outputs": [
    {
     "name": "stdout",
     "output_type": "stream",
     "text": [
      "Shape per axis: (3,) \n",
      "\n",
      "Size of Vector: 3 \n",
      "\n",
      "Dimension: 1 \n",
      "\n",
      "Horizontal Vector:\n",
      "\n",
      "[17 22 19]\n"
     ]
    }
   ],
   "source": [
    "Q1 = np.array([\n",
    "    17, 22, 19\n",
    "])\n",
    "\n",
    "print('Shape per axis:', Q1.shape, '\\n')\n",
    "print('Size of Vector:', Q1.size, '\\n')\n",
    "print('Dimension:', Q1.ndim, '\\n')\n",
    "print('Horizontal Vector:\\n')\n",
    "print(Q1)"
   ]
  },
  {
   "cell_type": "code",
   "execution_count": 3,
   "metadata": {
    "ExecuteTime": {
     "end_time": "2021-07-10T18:03:47.711003Z",
     "start_time": "2021-07-10T18:03:47.698038Z"
    }
   },
   "outputs": [
    {
     "name": "stdout",
     "output_type": "stream",
     "text": [
      "Shape per axis: (3, 1) \n",
      "\n",
      "Size of Vector: 3 \n",
      "\n",
      "Dimension: 2 \n",
      "\n",
      "Vertical Vector:\n",
      "\n",
      "[[17]\n",
      " [22]\n",
      " [19]]\n"
     ]
    }
   ],
   "source": [
    "print('Shape per axis:', np.array([Q1]).T.shape, '\\n')\n",
    "print('Size of Vector:', np.array([Q1]).T.size, '\\n')\n",
    "print('Dimension:', np.array([Q1]).T.ndim, '\\n')\n",
    "print('Vertical Vector:\\n')\n",
    "print(np.array([Q1]).T)"
   ]
  },
  {
   "cell_type": "markdown",
   "metadata": {
    "ExecuteTime": {
     "end_time": "2021-07-08T14:32:28.811483Z",
     "start_time": "2021-07-08T14:32:28.807499Z"
    }
   },
   "source": [
    "#  Question 2"
   ]
  },
  {
   "cell_type": "markdown",
   "metadata": {},
   "source": [
    "Create a Matrix as follows using Python:"
   ]
  },
  {
   "cell_type": "markdown",
   "metadata": {},
   "source": [
    "$ \\begin{bmatrix}\n",
    "    23 & 50 & 19\\\\\n",
    "    7 & 12 & 109\\\\\n",
    "    57 & 67 & 98\n",
    "\\end{bmatrix} $"
   ]
  },
  {
   "cell_type": "markdown",
   "metadata": {
    "ExecuteTime": {
     "end_time": "2021-07-08T17:53:10.464196Z",
     "start_time": "2021-07-08T17:53:10.453357Z"
    }
   },
   "source": [
    "## Answer"
   ]
  },
  {
   "cell_type": "code",
   "execution_count": 4,
   "metadata": {
    "ExecuteTime": {
     "end_time": "2021-07-10T18:03:47.723967Z",
     "start_time": "2021-07-10T18:03:47.713995Z"
    }
   },
   "outputs": [
    {
     "name": "stdout",
     "output_type": "stream",
     "text": [
      "Shape per axis: (3, 3) \n",
      "\n",
      "Size of Matrix: 9 \n",
      "\n",
      "Dimension: 2 \n",
      "\n",
      "Matrix:\n",
      "\n",
      "[[ 23  50  19]\n",
      " [  7  12 109]\n",
      " [ 57  67  98]]\n"
     ]
    }
   ],
   "source": [
    "Q2 = np.array([\n",
    "    [23, 50, 19],\n",
    "    [7, 12, 109],\n",
    "    [57, 67, 98]\n",
    "])\n",
    "\n",
    "print('Shape per axis:', Q2.shape, '\\n')\n",
    "print('Size of Matrix:', Q2.size, '\\n')\n",
    "print('Dimension:', Q2.ndim, '\\n')\n",
    "print('Matrix:\\n')\n",
    "print(Q2)"
   ]
  },
  {
   "cell_type": "markdown",
   "metadata": {
    "ExecuteTime": {
     "end_time": "2021-07-08T14:32:28.811483Z",
     "start_time": "2021-07-08T14:32:28.807499Z"
    }
   },
   "source": [
    "#  Question 3"
   ]
  },
  {
   "cell_type": "markdown",
   "metadata": {},
   "source": [
    "Create a Tensor as follows using Python:"
   ]
  },
  {
   "cell_type": "markdown",
   "metadata": {},
   "source": [
    "$ \\begin{bmatrix}\n",
    "\\begin{bmatrix}\n",
    "    23 & 50\\\\\n",
    "    7 & 12\\\\\n",
    "\\end{bmatrix}\n",
    "\\begin{bmatrix}\n",
    "    57 & 67\\\\\n",
    "    99 & 43\\\\\n",
    "\\end{bmatrix}\\\\\n",
    "\\begin{bmatrix}\n",
    "    75 & 21\\\\\n",
    "    57 & 12\\\\\n",
    "\\end{bmatrix}\n",
    "\\begin{bmatrix}\n",
    "    87 & 26\\\\\n",
    "    18 & 84\\\\\n",
    "\\end{bmatrix}\n",
    "\\end{bmatrix} $"
   ]
  },
  {
   "cell_type": "markdown",
   "metadata": {
    "ExecuteTime": {
     "end_time": "2021-07-08T17:53:10.464196Z",
     "start_time": "2021-07-08T17:53:10.453357Z"
    }
   },
   "source": [
    "## Answer"
   ]
  },
  {
   "cell_type": "code",
   "execution_count": 5,
   "metadata": {
    "ExecuteTime": {
     "end_time": "2021-07-10T18:03:47.741922Z",
     "start_time": "2021-07-10T18:03:47.726962Z"
    }
   },
   "outputs": [
    {
     "name": "stdout",
     "output_type": "stream",
     "text": [
      "Shape per axis: (2, 2, 2, 2) \n",
      "\n",
      "Size of Tensor: 16 \n",
      "\n",
      "Dimension: 4 \n",
      "\n",
      "Tensor:\n",
      "\n",
      "[[[[23 50]\n",
      "   [ 7 12]]\n",
      "\n",
      "  [[57 67]\n",
      "   [99 43]]]\n",
      "\n",
      "\n",
      " [[[75 21]\n",
      "   [57 12]]\n",
      "\n",
      "  [[87 26]\n",
      "   [18 84]]]]\n"
     ]
    }
   ],
   "source": [
    "Q3 = np.array(\n",
    "[\n",
    "    [\n",
    "        [\n",
    "            [23, 50],\n",
    "            [7, 12]\n",
    "        ],\n",
    "        [\n",
    "            [57, 67],\n",
    "            [99, 43]\n",
    "        ]\n",
    "    ],\n",
    "    [\n",
    "        [\n",
    "            [75, 21],\n",
    "            [57, 12]\n",
    "        ],\n",
    "        [\n",
    "            [87, 26],\n",
    "            [18, 84]\n",
    "        ]\n",
    "    ],\n",
    "])\n",
    "\n",
    "print('Shape per axis:', Q3.shape, '\\n')\n",
    "print('Size of Tensor:', Q3.size, '\\n')\n",
    "print('Dimension:', Q3.ndim, '\\n')\n",
    "print('Tensor:\\n')\n",
    "print(Q3)"
   ]
  },
  {
   "cell_type": "markdown",
   "metadata": {
    "ExecuteTime": {
     "end_time": "2021-07-08T14:32:28.811483Z",
     "start_time": "2021-07-08T14:32:28.807499Z"
    }
   },
   "source": [
    "#  Question 4"
   ]
  },
  {
   "cell_type": "markdown",
   "metadata": {},
   "source": [
    "Do Matrix Multiplication for the following Matrices:"
   ]
  },
  {
   "cell_type": "markdown",
   "metadata": {},
   "source": [
    "$ A = \\begin{bmatrix}\n",
    "    23 & 50 & 19\\\\\n",
    "    7 & 12 & 109\\\\\n",
    "    57 & 67 & 98\n",
    "\\end{bmatrix}\n",
    "\\begin{bmatrix}\n",
    "    17\\\\\n",
    "    22\\\\\n",
    "    19\n",
    "\\end{bmatrix}$"
   ]
  },
  {
   "cell_type": "markdown",
   "metadata": {
    "ExecuteTime": {
     "end_time": "2021-07-08T18:08:46.874592Z",
     "start_time": "2021-07-08T18:08:46.855256Z"
    }
   },
   "source": [
    "$A = B.C$\n",
    "\n",
    "What's $A$?"
   ]
  },
  {
   "cell_type": "markdown",
   "metadata": {
    "ExecuteTime": {
     "end_time": "2021-07-08T17:53:10.464196Z",
     "start_time": "2021-07-08T17:53:10.453357Z"
    }
   },
   "source": [
    "## Answer"
   ]
  },
  {
   "cell_type": "code",
   "execution_count": 6,
   "metadata": {
    "ExecuteTime": {
     "end_time": "2021-07-10T18:03:47.755883Z",
     "start_time": "2021-07-10T18:03:47.744911Z"
    }
   },
   "outputs": [
    {
     "name": "stdout",
     "output_type": "stream",
     "text": [
      "Shape per axis: (3, 3) \n",
      "\n",
      "Size of Matrix: 9 \n",
      "\n",
      "Dimension: 2 \n",
      "\n",
      "Matrix B:\n",
      "\n",
      "[[ 23  50  19]\n",
      " [  7  12 109]\n",
      " [ 57  67  98]]\n"
     ]
    }
   ],
   "source": [
    "B = np.array([\n",
    "    [23, 50, 19],\n",
    "    [7, 12, 109],\n",
    "    [57, 67, 98]\n",
    "])\n",
    "\n",
    "print('Shape per axis:', B.shape, '\\n')\n",
    "print('Size of Matrix:', B.size, '\\n')\n",
    "print('Dimension:', B.ndim, '\\n')\n",
    "print('Matrix B:\\n')\n",
    "print(B)"
   ]
  },
  {
   "cell_type": "markdown",
   "metadata": {},
   "source": [
    "C written as vertical vector:"
   ]
  },
  {
   "cell_type": "code",
   "execution_count": 7,
   "metadata": {
    "ExecuteTime": {
     "end_time": "2021-07-10T18:03:47.775292Z",
     "start_time": "2021-07-10T18:03:47.758875Z"
    }
   },
   "outputs": [
    {
     "name": "stdout",
     "output_type": "stream",
     "text": [
      "Shape per axis: (3, 1) \n",
      "\n",
      "Size of Matrix: 3 \n",
      "\n",
      "Dimension: 2 \n",
      "\n",
      "Matrix C:\n",
      "\n",
      "[[17]\n",
      " [22]\n",
      " [19]]\n"
     ]
    }
   ],
   "source": [
    "C_v = np.array([\n",
    "    [17],\n",
    "    [22],\n",
    "    [19]\n",
    "])\n",
    "\n",
    "print('Shape per axis:', C_v.shape, '\\n')\n",
    "print('Size of Matrix:', C_v.size, '\\n')\n",
    "print('Dimension:', C_v.ndim, '\\n')\n",
    "print('Matrix C:\\n')\n",
    "print(C_v)"
   ]
  },
  {
   "cell_type": "markdown",
   "metadata": {
    "ExecuteTime": {
     "end_time": "2021-07-08T18:23:50.823102Z",
     "start_time": "2021-07-08T18:23:50.818114Z"
    }
   },
   "source": [
    "$A$ is:"
   ]
  },
  {
   "cell_type": "code",
   "execution_count": 8,
   "metadata": {
    "ExecuteTime": {
     "end_time": "2021-07-10T18:03:47.786267Z",
     "start_time": "2021-07-10T18:03:47.779281Z"
    }
   },
   "outputs": [
    {
     "name": "stdout",
     "output_type": "stream",
     "text": [
      "[[1852]\n",
      " [2454]\n",
      " [4305]]\n"
     ]
    }
   ],
   "source": [
    "A = B.dot(C_v)\n",
    "print(A)"
   ]
  },
  {
   "cell_type": "markdown",
   "metadata": {},
   "source": [
    "C written as horizontal vector."
   ]
  },
  {
   "cell_type": "code",
   "execution_count": 9,
   "metadata": {
    "ExecuteTime": {
     "end_time": "2021-07-10T18:03:47.808203Z",
     "start_time": "2021-07-10T18:03:47.792248Z"
    }
   },
   "outputs": [
    {
     "name": "stdout",
     "output_type": "stream",
     "text": [
      "Shape per axis: (3,) \n",
      "\n",
      "Size of Matrix: 3 \n",
      "\n",
      "Dimension: 1 \n",
      "\n",
      "Matrix C:\n",
      "\n",
      "[17 22 19]\n"
     ]
    }
   ],
   "source": [
    "C_h = np.array([\n",
    "    17, 22, 19\n",
    "])\n",
    "\n",
    "print('Shape per axis:', C_h.shape, '\\n')\n",
    "print('Size of Matrix:', C_h.size, '\\n')\n",
    "print('Dimension:', C_h.ndim, '\\n')\n",
    "print('Matrix C:\\n')\n",
    "print(C_h)"
   ]
  },
  {
   "cell_type": "markdown",
   "metadata": {
    "ExecuteTime": {
     "end_time": "2021-07-08T18:23:50.823102Z",
     "start_time": "2021-07-08T18:23:50.818114Z"
    }
   },
   "source": [
    "$A$ is:"
   ]
  },
  {
   "cell_type": "code",
   "execution_count": 10,
   "metadata": {
    "ExecuteTime": {
     "end_time": "2021-07-10T18:03:47.816182Z",
     "start_time": "2021-07-10T18:03:47.810198Z"
    }
   },
   "outputs": [
    {
     "name": "stdout",
     "output_type": "stream",
     "text": [
      "[1852 2454 4305]\n"
     ]
    }
   ],
   "source": [
    "A = B.dot(C_h)\n",
    "print(A)"
   ]
  },
  {
   "cell_type": "markdown",
   "metadata": {
    "ExecuteTime": {
     "end_time": "2021-07-08T14:32:28.811483Z",
     "start_time": "2021-07-08T14:32:28.807499Z"
    }
   },
   "source": [
    "#  Question 5"
   ]
  },
  {
   "cell_type": "markdown",
   "metadata": {},
   "source": [
    "Transpose the Matrix below:"
   ]
  },
  {
   "cell_type": "markdown",
   "metadata": {},
   "source": [
    "$\\begin{bmatrix}\n",
    "    23 & 50 & 19\\\\\n",
    "    7 & 12 & 109\\\\\n",
    "    57 & 67 & 98\n",
    "\\end{bmatrix}$"
   ]
  },
  {
   "cell_type": "markdown",
   "metadata": {
    "ExecuteTime": {
     "end_time": "2021-07-08T17:53:10.464196Z",
     "start_time": "2021-07-08T17:53:10.453357Z"
    }
   },
   "source": [
    "## Answer"
   ]
  },
  {
   "cell_type": "code",
   "execution_count": 11,
   "metadata": {
    "ExecuteTime": {
     "end_time": "2021-07-10T18:03:47.868043Z",
     "start_time": "2021-07-10T18:03:47.823166Z"
    }
   },
   "outputs": [
    {
     "name": "stdout",
     "output_type": "stream",
     "text": [
      "Shape per axis: (3, 3) \n",
      "\n",
      "Size of Matrix: 9 \n",
      "\n",
      "Dimension: 2 \n",
      "\n",
      "Matrix D:\n",
      "\n",
      "[[ 23  50  19]\n",
      " [  7  12 109]\n",
      " [ 57  67  98]]\n"
     ]
    }
   ],
   "source": [
    "D = np.array([\n",
    "    [23, 50, 19],\n",
    "    [7, 12, 109],\n",
    "    [57, 67, 98]\n",
    "])\n",
    "\n",
    "print('Shape per axis:', D.shape, '\\n')\n",
    "print('Size of Matrix:', D.size, '\\n')\n",
    "print('Dimension:', D.ndim, '\\n')\n",
    "print('Matrix D:\\n')\n",
    "print(D)"
   ]
  },
  {
   "cell_type": "markdown",
   "metadata": {
    "ExecuteTime": {
     "end_time": "2021-07-08T18:23:50.823102Z",
     "start_time": "2021-07-08T18:23:50.818114Z"
    }
   },
   "source": [
    "$D^{T}$ is:"
   ]
  },
  {
   "cell_type": "code",
   "execution_count": 12,
   "metadata": {
    "ExecuteTime": {
     "end_time": "2021-07-10T18:03:47.884997Z",
     "start_time": "2021-07-10T18:03:47.877020Z"
    }
   },
   "outputs": [
    {
     "name": "stdout",
     "output_type": "stream",
     "text": [
      "[[ 23   7  57]\n",
      " [ 50  12  67]\n",
      " [ 19 109  98]]\n"
     ]
    }
   ],
   "source": [
    "D_t = D.T\n",
    "print(D_t)"
   ]
  },
  {
   "cell_type": "markdown",
   "metadata": {
    "ExecuteTime": {
     "end_time": "2021-07-08T14:32:28.811483Z",
     "start_time": "2021-07-08T14:32:28.807499Z"
    }
   },
   "source": [
    "#  Question 6"
   ]
  },
  {
   "cell_type": "markdown",
   "metadata": {},
   "source": [
    "Plot the following Vectors into a 2D plane:"
   ]
  },
  {
   "cell_type": "markdown",
   "metadata": {},
   "source": [
    "$ U = \\begin{bmatrix}\n",
    "    2\\\\\n",
    "    5\\\\\n",
    "\\end{bmatrix},\n",
    "V = \\begin{bmatrix}\n",
    "    3\\\\\n",
    "    1\\\\\n",
    "\\end{bmatrix}$"
   ]
  },
  {
   "cell_type": "markdown",
   "metadata": {
    "ExecuteTime": {
     "end_time": "2021-07-08T17:53:10.464196Z",
     "start_time": "2021-07-08T17:53:10.453357Z"
    }
   },
   "source": [
    "## Answer"
   ]
  },
  {
   "cell_type": "code",
   "execution_count": 13,
   "metadata": {
    "ExecuteTime": {
     "end_time": "2021-07-10T18:03:47.913928Z",
     "start_time": "2021-07-10T18:03:47.905949Z"
    }
   },
   "outputs": [
    {
     "name": "stdout",
     "output_type": "stream",
     "text": [
      "Vector U:\n",
      "[2 5]\n",
      "\n",
      "Vector V:\n",
      "[3 1]\n"
     ]
    }
   ],
   "source": [
    "U = np.array([2, 5])\n",
    "V = np.array([3, 1])\n",
    "\n",
    "print(\"Vector U:\")\n",
    "print(U)\n",
    "\n",
    "print(\"\\nVector V:\")\n",
    "print(V)"
   ]
  },
  {
   "cell_type": "code",
   "execution_count": 14,
   "metadata": {
    "ExecuteTime": {
     "end_time": "2021-07-10T18:03:47.946833Z",
     "start_time": "2021-07-10T18:03:47.941846Z"
    }
   },
   "outputs": [
    {
     "name": "stdout",
     "output_type": "stream",
     "text": [
      "x coordinate: (2, 3)\n",
      "y coordinate: (5, 1)\n"
     ]
    }
   ],
   "source": [
    "x_coord, y_coord = zip(U, V)\n",
    "print(f\"x coordinate: {x_coord}\\ny coordinate: {y_coord}\")"
   ]
  },
  {
   "cell_type": "markdown",
   "metadata": {},
   "source": [
    "### Simple Plot"
   ]
  },
  {
   "cell_type": "code",
   "execution_count": 15,
   "metadata": {
    "ExecuteTime": {
     "end_time": "2021-07-10T18:03:48.276948Z",
     "start_time": "2021-07-10T18:03:47.980742Z"
    }
   },
   "outputs": [
    {
     "data": {
      "image/png": "[encoded data removed]",
      "text/plain": [
       "<Figure size 432x288 with 1 Axes>"
      ]
     },
     "metadata": {},
     "output_type": "display_data"
    }
   ],
   "source": [
    "plt.scatter(x_coord, y_coord, color = [\"r\", \"g\"])\n",
    "plt.axis([0, 8, 0, 6])\n",
    "plt.show()"
   ]
  },
  {
   "cell_type": "markdown",
   "metadata": {},
   "source": [
    "### Represented as Arrow"
   ]
  },
  {
   "cell_type": "code",
   "execution_count": 16,
   "metadata": {
    "ExecuteTime": {
     "end_time": "2021-07-10T18:03:48.284928Z",
     "start_time": "2021-07-10T18:03:48.279942Z"
    }
   },
   "outputs": [],
   "source": [
    "def plot_vector_2d(vector2d, origin = [0, 0], **options):\n",
    "    return plt.arrow(origin[0], origin[1], vector2d[0], vector2d[1],\n",
    "                     head_width = 0.2, head_length = 0.3,\n",
    "                     length_includes_head = True, **options)"
   ]
  },
  {
   "cell_type": "code",
   "execution_count": 17,
   "metadata": {
    "ExecuteTime": {
     "end_time": "2021-07-10T18:03:48.594443Z",
     "start_time": "2021-07-10T18:03:48.294902Z"
    }
   },
   "outputs": [
    {
     "data": {
      "image/png": "[encoded data removed]",
      "text/plain": [
       "<Figure size 432x288 with 1 Axes>"
      ]
     },
     "metadata": {},
     "output_type": "display_data"
    }
   ],
   "source": [
    "plot_vector_2d(U, color = \"g\")\n",
    "plot_vector_2d(V, color = \"r\")\n",
    "plt.axis([0, 8, 0, 6])\n",
    "plt.show()"
   ]
  }
 ],
 "metadata": {
  "kernelspec": {
   "display_name": "Python 3",
   "language": "python",
   "name": "python3"
  },
  "language_info": {
   "codemirror_mode": {
    "name": "ipython",
    "version": 3
   },
   "file_extension": ".py",
   "mimetype": "text/x-python",
   "name": "python",
   "nbconvert_exporter": "python",
   "pygments_lexer": "ipython3",
   "version": "3.8.5"
  },
  "nbTranslate": {
   "displayLangs": [
    "en"
   ],
   "hotkey": "alt-t",
   "langInMainMenu": true,
   "sourceLang": "en",
   "targetLang": "fr",
   "useGoogleTranslate": true
  },
  "toc": {
   "base_numbering": 1,
   "nav_menu": {},
   "number_sections": true,
   "sideBar": true,
   "skip_h1_title": false,
   "title_cell": "Table of Contents",
   "title_sidebar": "Contents",
   "toc_cell": true,
   "toc_position": {},
   "toc_section_display": true,
   "toc_window_display": false
  }
 },
 "nbformat": 4,
 "nbformat_minor": 4
}
