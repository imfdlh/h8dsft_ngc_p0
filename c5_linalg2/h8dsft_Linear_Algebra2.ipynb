{
 "cells": [
  {
   "cell_type": "markdown",
   "metadata": {
    "toc": true
   },
   "source": [
    "<h1>Table of Contents<span class=\"tocSkip\"></span></h1>\n",
    "<div class=\"toc\"><ul class=\"toc-item\"><li><span><a href=\"#Introduction\" data-toc-modified-id=\"Introduction-1\"><span class=\"toc-item-num\">1&nbsp;&nbsp;</span>Introduction</a></span></li><li><span><a href=\"#Import-Library\" data-toc-modified-id=\"Import-Library-2\"><span class=\"toc-item-num\">2&nbsp;&nbsp;</span>Import Library</a></span></li><li><span><a href=\"#Question-1\" data-toc-modified-id=\"Question-1-3\"><span class=\"toc-item-num\">3&nbsp;&nbsp;</span>Question 1</a></span><ul class=\"toc-item\"><li><span><a href=\"#Answer\" data-toc-modified-id=\"Answer-3.1\"><span class=\"toc-item-num\">3.1&nbsp;&nbsp;</span>Answer</a></span></li></ul></li><li><span><a href=\"#Question-2\" data-toc-modified-id=\"Question-2-4\"><span class=\"toc-item-num\">4&nbsp;&nbsp;</span>Question 2</a></span><ul class=\"toc-item\"><li><span><a href=\"#Answer\" data-toc-modified-id=\"Answer-4.1\"><span class=\"toc-item-num\">4.1&nbsp;&nbsp;</span>Answer</a></span><ul class=\"toc-item\"><li><span><a href=\"#Using-Symbol-(variable)\" data-toc-modified-id=\"Using-Symbol-(variable)-4.1.1\"><span class=\"toc-item-num\">4.1.1&nbsp;&nbsp;</span>Using Symbol (variable)</a></span></li><li><span><a href=\"#Using-Array-of-Integer\" data-toc-modified-id=\"Using-Array-of-Integer-4.1.2\"><span class=\"toc-item-num\">4.1.2&nbsp;&nbsp;</span>Using Array of Integer</a></span></li></ul></li></ul></li></ul></div>"
   ]
  },
  {
   "cell_type": "markdown",
   "metadata": {},
   "source": [
    "# Introduction\n",
    "\n",
    "**Name:** Fadilah Nur Imani\n",
    "<br>\n",
    "**Class/Batch:** FTDS/001\n",
    "<br>\n",
    "**Nongraded Challenge:** 5"
   ]
  },
  {
   "cell_type": "markdown",
   "metadata": {},
   "source": [
    "# Import Library"
   ]
  },
  {
   "cell_type": "code",
   "execution_count": 1,
   "metadata": {
    "ExecuteTime": {
     "end_time": "2021-07-10T18:58:53.393527Z",
     "start_time": "2021-07-10T18:58:52.195373Z"
    }
   },
   "outputs": [],
   "source": [
    "import numpy as np\n",
    "import sympy as sym"
   ]
  },
  {
   "cell_type": "markdown",
   "metadata": {},
   "source": [
    "# Question 1"
   ]
  },
  {
   "cell_type": "markdown",
   "metadata": {},
   "source": [
    "Check if $w$ = (-4, 5, 4) is a linear combination of $v1$ = (2, 1, 0) and $v2$ = (1, 3, 2)."
   ]
  },
  {
   "cell_type": "markdown",
   "metadata": {
    "ExecuteTime": {
     "end_time": "2021-07-09T05:22:54.881157Z",
     "start_time": "2021-07-09T05:22:54.877168Z"
    }
   },
   "source": [
    "## Answer"
   ]
  },
  {
   "cell_type": "markdown",
   "metadata": {},
   "source": [
    "$\n",
    "w = \\begin{bmatrix}\n",
    "    -4\\\\\n",
    "    5\\\\\n",
    "    4\n",
    "\\end{bmatrix}\n",
    ", v1 = \\begin{bmatrix}\n",
    "    2\\\\\n",
    "    1\\\\\n",
    "    0\n",
    "\\end{bmatrix}\n",
    ", v2 = \\begin{bmatrix}\n",
    "    1\\\\\n",
    "    3\\\\\n",
    "    2\n",
    "\\end{bmatrix}\n",
    "$"
   ]
  },
  {
   "cell_type": "markdown",
   "metadata": {
    "ExecuteTime": {
     "end_time": "2021-07-10T15:34:56.359702Z",
     "start_time": "2021-07-10T15:34:56.013632Z"
    }
   },
   "source": [
    "if $w$ is a linear combination of $v1$ and $v2$, then:"
   ]
  },
  {
   "cell_type": "markdown",
   "metadata": {},
   "source": [
    "$w = c1(v1) + c2(v2)$\n",
    "\n",
    "$\\begin{bmatrix}\n",
    "    -4\\\\\n",
    "    5\\\\\n",
    "    4\n",
    "\\end{bmatrix}\n",
    "=\n",
    "c1 \\begin{bmatrix}\n",
    "    2\\\\\n",
    "    1\\\\\n",
    "    0\n",
    "\\end{bmatrix}\n",
    "+ c2 \\begin{bmatrix}\n",
    "    1\\\\\n",
    "    3\\\\\n",
    "    2\n",
    "\\end{bmatrix}\n",
    "$"
   ]
  },
  {
   "cell_type": "markdown",
   "metadata": {},
   "source": [
    "$\\begin{bmatrix}\n",
    "    -4\\\\\n",
    "    5\\\\\n",
    "    4\n",
    "\\end{bmatrix}\n",
    "=\n",
    "\\begin{bmatrix}\n",
    "    2 & 1\\\\\n",
    "    1 & 3\\\\\n",
    "    0 & 2\n",
    "\\end{bmatrix}\n",
    "\\begin{bmatrix}\n",
    "    c1\\\\\n",
    "    c2\n",
    "\\end{bmatrix}\n",
    "$"
   ]
  },
  {
   "cell_type": "markdown",
   "metadata": {},
   "source": [
    "$\\begin{bmatrix}\n",
    "    c1\\\\\n",
    "    c2\n",
    "\\end{bmatrix}\n",
    "=\n",
    "OBE \\left(\n",
    "\\begin{bmatrix}\n",
    "    2 & 1 & -4\\\\\n",
    "    1 & 3 & 5\\\\\n",
    "    0 & 2 & 4\n",
    "\\end{bmatrix}\n",
    "\\right)\n",
    "$"
   ]
  },
  {
   "cell_type": "code",
   "execution_count": 2,
   "metadata": {
    "ExecuteTime": {
     "end_time": "2021-07-10T18:58:53.416977Z",
     "start_time": "2021-07-10T18:58:53.396519Z"
    }
   },
   "outputs": [
    {
     "name": "stdout",
     "output_type": "stream",
     "text": [
      "w = [[-4]\n",
      " [ 5]\n",
      " [ 4]]\n",
      "v1 = [[2]\n",
      " [1]\n",
      " [0]]\n",
      "v2 = [[1]\n",
      " [3]\n",
      " [2]]\n"
     ]
    }
   ],
   "source": [
    "w = np.array([[-4], [5], [4]])\n",
    "v1 = np.array([[2], [1], [0]])\n",
    "v2 = np.array([[1], [3], [2]])\n",
    "print(f\"w = {w}\\nv1 = {v1}\\nv2 = {v2}\")"
   ]
  },
  {
   "cell_type": "code",
   "execution_count": 3,
   "metadata": {
    "ExecuteTime": {
     "end_time": "2021-07-10T18:58:53.448302Z",
     "start_time": "2021-07-10T18:58:53.416977Z"
    }
   },
   "outputs": [
    {
     "data": {
      "text/plain": [
       "array([[ 2,  1, -4],\n",
       "       [ 1,  3,  5],\n",
       "       [ 0,  2,  4]])"
      ]
     },
     "execution_count": 3,
     "metadata": {},
     "output_type": "execute_result"
    }
   ],
   "source": [
    "matrix_obe = np.concatenate((v1, v2, w), axis = 1)\n",
    "matrix_obe"
   ]
  },
  {
   "cell_type": "code",
   "execution_count": 4,
   "metadata": {
    "ExecuteTime": {
     "end_time": "2021-07-10T18:58:53.474746Z",
     "start_time": "2021-07-10T18:58:53.451296Z"
    }
   },
   "outputs": [
    {
     "data": {
      "text/plain": [
       "(Matrix([\n",
       " [1, 0, 0],\n",
       " [0, 1, 0],\n",
       " [0, 0, 1]]),\n",
       " (0, 1, 2))"
      ]
     },
     "execution_count": 4,
     "metadata": {},
     "output_type": "execute_result"
    }
   ],
   "source": [
    "# OBE = Operasi Baris Elementer / Elementary Row Operations\n",
    "OBE = sym.Matrix(matrix_obe)\n",
    "OBE.rref() # reduced row echelon"
   ]
  },
  {
   "cell_type": "markdown",
   "metadata": {
    "ExecuteTime": {
     "end_time": "2021-07-10T16:10:58.460091Z",
     "start_time": "2021-07-10T16:10:58.455106Z"
    }
   },
   "source": [
    "The value for each constant (c1, c2) can be seen in the third column (0, 0, 1) correspondingly.\n",
    "\n",
    "According to the equation, we know that the third element does not exist, yet the OBE calculation shows a result for it, which is inconsistent.\n",
    "\n",
    "So, based on the calculation above, we can conclude that vector $w$ is not a linear combination of vector $v1$ and vector $v2$."
   ]
  },
  {
   "cell_type": "markdown",
   "metadata": {},
   "source": [
    "# Question 2"
   ]
  },
  {
   "cell_type": "markdown",
   "metadata": {},
   "source": [
    "Suppose that $ V $ and $ W $ are vector spaces. If $ T : V \\rightarrow W $ is a linear transformation and $ u \\in V $, prove whether $ T(-u) = -T(u) $."
   ]
  },
  {
   "cell_type": "markdown",
   "metadata": {
    "ExecuteTime": {
     "end_time": "2021-07-09T05:22:54.881157Z",
     "start_time": "2021-07-09T05:22:54.877168Z"
    }
   },
   "source": [
    "## Answer"
   ]
  },
  {
   "cell_type": "markdown",
   "metadata": {
    "ExecuteTime": {
     "end_time": "2021-07-10T18:28:53.379942Z",
     "start_time": "2021-07-10T18:28:53.375950Z"
    }
   },
   "source": [
    "### Using Symbol (variable)"
   ]
  },
  {
   "cell_type": "code",
   "execution_count": 5,
   "metadata": {
    "ExecuteTime": {
     "end_time": "2021-07-10T18:58:53.585449Z",
     "start_time": "2021-07-10T18:58:53.476739Z"
    }
   },
   "outputs": [
    {
     "name": "stdout",
     "output_type": "stream",
     "text": [
      "If T is:\n"
     ]
    },
    {
     "data": {
      "text/latex": [
       "$\\displaystyle \\left[\\begin{matrix}a & b\\\\c & d\\end{matrix}\\right]$"
      ],
      "text/plain": [
       "Matrix([\n",
       "[a, b],\n",
       "[c, d]])"
      ]
     },
     "metadata": {},
     "output_type": "display_data"
    }
   ],
   "source": [
    "T = sym.Matrix(np.array([[\"a\", \"b\"], [\"c\", \"d\"]]))\n",
    "print(\"If T is:\")\n",
    "display(T)"
   ]
  },
  {
   "cell_type": "code",
   "execution_count": 6,
   "metadata": {
    "ExecuteTime": {
     "end_time": "2021-07-10T18:58:53.602403Z",
     "start_time": "2021-07-10T18:58:53.588440Z"
    }
   },
   "outputs": [
    {
     "name": "stdout",
     "output_type": "stream",
     "text": [
      "If u is:\n"
     ]
    },
    {
     "data": {
      "text/latex": [
       "$\\displaystyle \\left[\\begin{matrix}u_{1}\\\\u_{2}\\end{matrix}\\right]$"
      ],
      "text/plain": [
       "Matrix([\n",
       "[u1],\n",
       "[u2]])"
      ]
     },
     "metadata": {},
     "output_type": "display_data"
    }
   ],
   "source": [
    "u = sym.Matrix(np.array([[\"u1\"], [\"u2\"]]))\n",
    "print(\"If u is:\")\n",
    "display(u)"
   ]
  },
  {
   "cell_type": "code",
   "execution_count": 7,
   "metadata": {
    "ExecuteTime": {
     "end_time": "2021-07-10T18:58:53.611379Z",
     "start_time": "2021-07-10T18:58:53.604398Z"
    }
   },
   "outputs": [
    {
     "name": "stdout",
     "output_type": "stream",
     "text": [
      "If k is: -1\n"
     ]
    }
   ],
   "source": [
    "k = -1\n",
    "print(f\"If k is: {k}\")"
   ]
  },
  {
   "cell_type": "markdown",
   "metadata": {},
   "source": [
    "$ -T(u) = $ "
   ]
  },
  {
   "cell_type": "code",
   "execution_count": 8,
   "metadata": {
    "ExecuteTime": {
     "end_time": "2021-07-10T18:58:54.164625Z",
     "start_time": "2021-07-10T18:58:53.617996Z"
    }
   },
   "outputs": [
    {
     "data": {
      "text/latex": [
       "$\\displaystyle \\left[\\begin{matrix}- a u_{1} - b u_{2}\\\\- c u_{1} - d u_{2}\\end{matrix}\\right]$"
      ],
      "text/plain": [
       "Matrix([\n",
       "[-a*u1 - b*u2],\n",
       "[-c*u1 - d*u2]])"
      ]
     },
     "execution_count": 8,
     "metadata": {},
     "output_type": "execute_result"
    }
   ],
   "source": [
    "k_T_u = k * T * (u)\n",
    "k_T_u"
   ]
  },
  {
   "cell_type": "markdown",
   "metadata": {
    "ExecuteTime": {
     "end_time": "2021-07-10T17:21:06.704498Z",
     "start_time": "2021-07-10T17:21:06.697517Z"
    }
   },
   "source": [
    "$ T(-u) =$ "
   ]
  },
  {
   "cell_type": "code",
   "execution_count": 9,
   "metadata": {
    "ExecuteTime": {
     "end_time": "2021-07-10T18:58:54.174833Z",
     "start_time": "2021-07-10T18:58:54.166620Z"
    }
   },
   "outputs": [
    {
     "data": {
      "text/latex": [
       "$\\displaystyle \\left[\\begin{matrix}- a u_{1} - b u_{2}\\\\- c u_{1} - d u_{2}\\end{matrix}\\right]$"
      ],
      "text/plain": [
       "Matrix([\n",
       "[-a*u1 - b*u2],\n",
       "[-c*u1 - d*u2]])"
      ]
     },
     "execution_count": 9,
     "metadata": {},
     "output_type": "execute_result"
    }
   ],
   "source": [
    "T_R = T * (k * u)\n",
    "T_R"
   ]
  },
  {
   "cell_type": "code",
   "execution_count": 10,
   "metadata": {
    "ExecuteTime": {
     "end_time": "2021-07-10T18:58:54.187273Z",
     "start_time": "2021-07-10T18:58:54.177826Z"
    },
    "lang": "en"
   },
   "outputs": [
    {
     "data": {
      "text/latex": [
       "$\\displaystyle T(-u) = -T(u)$"
      ],
      "text/plain": [
       "<IPython.core.display.Math object>"
      ]
     },
     "metadata": {},
     "output_type": "display_data"
    },
    {
     "name": "stdout",
     "output_type": "stream",
     "text": [
      "Explanation:\n",
      "T(-u) is EQUAL to -T(u).\n"
     ]
    }
   ],
   "source": [
    "from IPython.display import display, Math\n",
    "\n",
    "if k_T_u == T_R:\n",
    "    display(Math(\"T(-u) = -T(u)\"))\n",
    "    print(\"Explanation:\\nT(-u) is EQUAL to -T(u).\")\n",
    "else:\n",
    "    display(Math(r\"T(-u) \\neq -T(u)\"))\n",
    "    print(\"Explanation:\\nT(-u) is NOT EQUAL to -T(u).\")"
   ]
  },
  {
   "cell_type": "markdown",
   "metadata": {
    "ExecuteTime": {
     "end_time": "2021-07-10T18:29:25.153747Z",
     "start_time": "2021-07-10T18:29:25.149761Z"
    }
   },
   "source": [
    "### Using Array of Integer"
   ]
  },
  {
   "cell_type": "code",
   "execution_count": 11,
   "metadata": {
    "ExecuteTime": {
     "end_time": "2021-07-10T18:58:54.197924Z",
     "start_time": "2021-07-10T18:58:54.189267Z"
    }
   },
   "outputs": [
    {
     "data": {
      "text/plain": [
       "array([[3, 4],\n",
       "       [1, 2]])"
      ]
     },
     "metadata": {},
     "output_type": "display_data"
    },
    {
     "data": {
      "text/plain": [
       "array([[2],\n",
       "       [2]])"
      ]
     },
     "metadata": {},
     "output_type": "display_data"
    },
    {
     "data": {
      "text/plain": [
       "-1"
      ]
     },
     "metadata": {},
     "output_type": "display_data"
    }
   ],
   "source": [
    "T = np.array([[3, 4], [1, 2]])\n",
    "u = np.array([[2], [2]])\n",
    "k = -1\n",
    "display(T, u, k)"
   ]
  },
  {
   "cell_type": "code",
   "execution_count": 12,
   "metadata": {
    "ExecuteTime": {
     "end_time": "2021-07-10T18:58:54.205902Z",
     "start_time": "2021-07-10T18:58:54.199919Z"
    }
   },
   "outputs": [
    {
     "data": {
      "text/plain": [
       "array([[-6, -8],\n",
       "       [-2, -4]])"
      ]
     },
     "execution_count": 12,
     "metadata": {},
     "output_type": "execute_result"
    }
   ],
   "source": [
    "right = k*T*(u)\n",
    "right"
   ]
  },
  {
   "cell_type": "code",
   "execution_count": 13,
   "metadata": {
    "ExecuteTime": {
     "end_time": "2021-07-10T18:58:54.213880Z",
     "start_time": "2021-07-10T18:58:54.207896Z"
    }
   },
   "outputs": [
    {
     "data": {
      "text/plain": [
       "array([[-6, -8],\n",
       "       [-2, -4]])"
      ]
     },
     "execution_count": 13,
     "metadata": {},
     "output_type": "execute_result"
    }
   ],
   "source": [
    "left = T*(k*u)\n",
    "left"
   ]
  },
  {
   "cell_type": "code",
   "execution_count": 14,
   "metadata": {
    "ExecuteTime": {
     "end_time": "2021-07-10T18:58:54.222855Z",
     "start_time": "2021-07-10T18:58:54.215875Z"
    }
   },
   "outputs": [
    {
     "data": {
      "text/latex": [
       "$\\displaystyle T(-u) = -T(u)$"
      ],
      "text/plain": [
       "<IPython.core.display.Math object>"
      ]
     },
     "metadata": {},
     "output_type": "display_data"
    },
    {
     "name": "stdout",
     "output_type": "stream",
     "text": [
      "Explanation:\n",
      "T(-u) is EQUAL to -T(u).\n"
     ]
    }
   ],
   "source": [
    "from IPython.display import display, Math\n",
    "\n",
    "if right.all() == left.all():\n",
    "    display(Math(\"T(-u) = -T(u)\"))\n",
    "    print(\"Explanation:\\nT(-u) is EQUAL to -T(u).\")\n",
    "else:\n",
    "    display(Math(r\"T(-u) \\neq -T(u)\"))\n",
    "    print(\"Explanation:\\nT(-u) is NOT EQUAL to -T(u).\")"
   ]
  }
 ],
 "metadata": {
  "kernelspec": {
   "display_name": "Python 3",
   "language": "python",
   "name": "python3"
  },
  "language_info": {
   "codemirror_mode": {
    "name": "ipython",
    "version": 3
   },
   "file_extension": ".py",
   "mimetype": "text/x-python",
   "name": "python",
   "nbconvert_exporter": "python",
   "pygments_lexer": "ipython3",
   "version": "3.8.5"
  },
  "nbTranslate": {
   "displayLangs": [
    "en"
   ],
   "hotkey": "alt-t",
   "langInMainMenu": true,
   "sourceLang": "en",
   "targetLang": "fr",
   "useGoogleTranslate": true
  },
  "toc": {
   "base_numbering": 1,
   "nav_menu": {},
   "number_sections": true,
   "sideBar": true,
   "skip_h1_title": false,
   "title_cell": "Table of Contents",
   "title_sidebar": "Contents",
   "toc_cell": true,
   "toc_position": {},
   "toc_section_display": true,
   "toc_window_display": false
  }
 },
 "nbformat": 4,
 "nbformat_minor": 4
}
