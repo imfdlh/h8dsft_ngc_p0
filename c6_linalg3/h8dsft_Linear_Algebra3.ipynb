{
 "cells": [
  {
   "cell_type": "markdown",
   "metadata": {
    "toc": true
   },
   "source": [
    "<h1>Table of Contents<span class=\"tocSkip\"></span></h1>\n",
    "<div class=\"toc\"><ul class=\"toc-item\"><li><span><a href=\"#Introduction\" data-toc-modified-id=\"Introduction-1\"><span class=\"toc-item-num\">1&nbsp;&nbsp;</span>Introduction</a></span></li><li><span><a href=\"#Import-Libray\" data-toc-modified-id=\"Import-Libray-2\"><span class=\"toc-item-num\">2&nbsp;&nbsp;</span>Import Libray</a></span></li><li><span><a href=\"#Question\" data-toc-modified-id=\"Question-3\"><span class=\"toc-item-num\">3&nbsp;&nbsp;</span>Question</a></span></li><li><span><a href=\"#Answer\" data-toc-modified-id=\"Answer-4\"><span class=\"toc-item-num\">4&nbsp;&nbsp;</span>Answer</a></span><ul class=\"toc-item\"><li><span><a href=\"#Manual-Calculation\" data-toc-modified-id=\"Manual-Calculation-4.1\"><span class=\"toc-item-num\">4.1&nbsp;&nbsp;</span>Manual Calculation</a></span></li></ul></li></ul></div>"
   ]
  },
  {
   "cell_type": "markdown",
   "metadata": {},
   "source": [
    "# Introduction\n",
    "\n",
    "**Name:** Fadilah Nur Imani\n",
    "<br>\n",
    "**Class/Batch:** FTDS/001\n",
    "<br>\n",
    "**Nongraded Challenge:** 6"
   ]
  },
  {
   "cell_type": "markdown",
   "metadata": {},
   "source": [
    "# Import Libray"
   ]
  },
  {
   "cell_type": "code",
   "execution_count": 1,
   "metadata": {
    "ExecuteTime": {
     "end_time": "2021-07-11T17:46:23.258012Z",
     "start_time": "2021-07-11T17:46:23.080491Z"
    }
   },
   "outputs": [],
   "source": [
    "import numpy as np"
   ]
  },
  {
   "cell_type": "markdown",
   "metadata": {
    "ExecuteTime": {
     "end_time": "2021-07-08T14:32:28.811483Z",
     "start_time": "2021-07-08T14:32:28.807499Z"
    }
   },
   "source": [
    "#  Question"
   ]
  },
  {
   "cell_type": "markdown",
   "metadata": {},
   "source": [
    "Is \n",
    "$ \\begin{bmatrix}\n",
    "    1\\\\\n",
    "    3\n",
    "\\end{bmatrix} $\n",
    " eigenvector of \n",
    "$ \\begin{bmatrix}\n",
    "    1 & -1\\\\\n",
    "    6 & -4\n",
    "\\end{bmatrix} $  ? If the answer is yes, what's the eigenvalue?"
   ]
  },
  {
   "cell_type": "markdown",
   "metadata": {},
   "source": [
    "# Answer"
   ]
  },
  {
   "cell_type": "code",
   "execution_count": 2,
   "metadata": {
    "ExecuteTime": {
     "end_time": "2021-07-11T17:46:23.266996Z",
     "start_time": "2021-07-11T17:46:23.262005Z"
    }
   },
   "outputs": [],
   "source": [
    "x = np.array([1, 3])\n",
    "A = np.array([[1, -1], [6, -4]])"
   ]
  },
  {
   "cell_type": "code",
   "execution_count": 3,
   "metadata": {
    "ExecuteTime": {
     "end_time": "2021-07-11T17:46:23.306882Z",
     "start_time": "2021-07-11T17:46:23.269981Z"
    }
   },
   "outputs": [],
   "source": [
    "eigVal, eigVec = np.linalg.eig(A)"
   ]
  },
  {
   "cell_type": "code",
   "execution_count": 4,
   "metadata": {
    "ExecuteTime": {
     "end_time": "2021-07-11T17:46:23.327930Z",
     "start_time": "2021-07-11T17:46:23.309875Z"
    }
   },
   "outputs": [
    {
     "data": {
      "text/plain": [
       "array([-1., -2.])"
      ]
     },
     "execution_count": 4,
     "metadata": {},
     "output_type": "execute_result"
    }
   ],
   "source": [
    "eigVal"
   ]
  },
  {
   "cell_type": "code",
   "execution_count": 5,
   "metadata": {
    "ExecuteTime": {
     "end_time": "2021-07-11T17:46:23.341066Z",
     "start_time": "2021-07-11T17:46:23.330921Z"
    }
   },
   "outputs": [
    {
     "data": {
      "text/plain": [
       "array([[0.4472136 , 0.31622777],\n",
       "       [0.89442719, 0.9486833 ]])"
      ]
     },
     "execution_count": 5,
     "metadata": {},
     "output_type": "execute_result"
    }
   ],
   "source": [
    "eigVec"
   ]
  },
  {
   "cell_type": "markdown",
   "metadata": {},
   "source": [
    "If $A$ = The Matrix, $x$ = Eigenvector, $λ$ = Eigenvalue, then:"
   ]
  },
  {
   "cell_type": "markdown",
   "metadata": {
    "ExecuteTime": {
     "end_time": "2021-07-11T17:02:02.995955Z",
     "start_time": "2021-07-11T17:02:02.985956Z"
    }
   },
   "source": [
    "$Ax = λx$"
   ]
  },
  {
   "cell_type": "code",
   "execution_count": 6,
   "metadata": {
    "ExecuteTime": {
     "end_time": "2021-07-11T17:46:23.360016Z",
     "start_time": "2021-07-11T17:46:23.344059Z"
    }
   },
   "outputs": [
    {
     "name": "stdout",
     "output_type": "stream",
     "text": [
      "x is the eigenvector for matrix A, where:\n",
      "\n",
      "λ = -2.0 is the eigenvalue for eigenvector x.\n",
      "\n",
      "Ax = [-2 -6] is the same with λx = [-2. -6.]\n"
     ]
    }
   ],
   "source": [
    "if (A.dot(x)==eigVal[0]*x).all():\n",
    "    print(\"x is the eigenvector for matrix A, where:\\n\")\n",
    "    print(f\"λ = {eigVal[0]} is the eigenvalue for eigenvector x.\\n\")\n",
    "    print(\"Ax =\", A.dot(x), \"is the same with λx =\", eigVal[0]*x)\n",
    "elif (A.dot(x)==eigVal[1]*x).all():\n",
    "    print(\"x is the eigenvector for matrix A, where:\\n\")\n",
    "    print(f\"λ = {eigVal[1]} is the eigenvalue for eigenvector x.\\n\")\n",
    "    print(\"Ax =\", A.dot(x), \"is the same with λx =\", eigVal[1]*x)\n",
    "else:\n",
    "    print(\"x is not the eigenvector for matrix A.\")"
   ]
  },
  {
   "cell_type": "markdown",
   "metadata": {},
   "source": [
    "$v = \\begin{bmatrix}\n",
    "    1\\\\\n",
    "    3\n",
    "\\end{bmatrix} $\n",
    " is the eigenvector of \n",
    "$ A = \\begin{bmatrix}\n",
    "    1 & -1\\\\\n",
    "    6 & -4\n",
    "\\end{bmatrix} $\n",
    "with eigenvalue or $λ = -2$."
   ]
  },
  {
   "cell_type": "markdown",
   "metadata": {
    "ExecuteTime": {
     "end_time": "2021-07-11T17:42:29.184899Z",
     "start_time": "2021-07-11T17:42:29.180906Z"
    }
   },
   "source": [
    "## Manual Calculation"
   ]
  },
  {
   "cell_type": "code",
   "execution_count": 7,
   "metadata": {
    "ExecuteTime": {
     "end_time": "2021-07-11T17:46:23.368993Z",
     "start_time": "2021-07-11T17:46:23.363008Z"
    }
   },
   "outputs": [
    {
     "data": {
      "text/plain": [
       "array([-1., -2.])"
      ]
     },
     "execution_count": 7,
     "metadata": {},
     "output_type": "execute_result"
    }
   ],
   "source": [
    "eigVal"
   ]
  },
  {
   "cell_type": "markdown",
   "metadata": {},
   "source": [
    "if $λ = -1$:"
   ]
  },
  {
   "cell_type": "markdown",
   "metadata": {
    "ExecuteTime": {
     "end_time": "2021-07-11T17:23:24.543396Z",
     "start_time": "2021-07-11T17:23:24.533398Z"
    }
   },
   "source": [
    "$ \\begin{bmatrix}\n",
    "    1 & -1\\\\\n",
    "    6 & -4\n",
    "\\end{bmatrix} $\n",
    "$ \\begin{bmatrix}\n",
    "    1\\\\\n",
    "    3\n",
    "\\end{bmatrix} $\n",
    "$ = -1$\n",
    "$ \\begin{bmatrix}\n",
    "    1\\\\\n",
    "    3\n",
    "\\end{bmatrix} $"
   ]
  },
  {
   "cell_type": "markdown",
   "metadata": {},
   "source": [
    "$ \\begin{bmatrix}\n",
    "    1*1 + (-1)*3\\\\\n",
    "    6*1 + (-4)*3\n",
    "\\end{bmatrix} $\n",
    "$ = $\n",
    "$ \\begin{bmatrix}\n",
    "    -1\\\\\n",
    "    -3\n",
    "\\end{bmatrix} $"
   ]
  },
  {
   "cell_type": "markdown",
   "metadata": {},
   "source": [
    "$ \\begin{bmatrix}\n",
    "    1-3\\\\\n",
    "    6-12\n",
    "\\end{bmatrix} $\n",
    "$ = $\n",
    "$ \\begin{bmatrix}\n",
    "    -1\\\\\n",
    "    -3\n",
    "\\end{bmatrix} $"
   ]
  },
  {
   "cell_type": "markdown",
   "metadata": {},
   "source": [
    "$ \\begin{bmatrix}\n",
    "    -2\\\\\n",
    "    -6\n",
    "\\end{bmatrix} $\n",
    "$ = $\n",
    "$ \\begin{bmatrix}\n",
    "    -1\\\\\n",
    "    -3\n",
    "\\end{bmatrix} $\n",
    "\n",
    "-1 Is not the eigenvalue for eigenvector x."
   ]
  },
  {
   "cell_type": "markdown",
   "metadata": {},
   "source": [
    "if $λ = -2$:"
   ]
  },
  {
   "cell_type": "markdown",
   "metadata": {
    "ExecuteTime": {
     "end_time": "2021-07-11T17:23:24.543396Z",
     "start_time": "2021-07-11T17:23:24.533398Z"
    }
   },
   "source": [
    "$ \\begin{bmatrix}\n",
    "    1 & -1\\\\\n",
    "    6 & -4\n",
    "\\end{bmatrix} $\n",
    "$ \\begin{bmatrix}\n",
    "    1\\\\\n",
    "    3\n",
    "\\end{bmatrix} $\n",
    "$ = -2$\n",
    "$ \\begin{bmatrix}\n",
    "    1\\\\\n",
    "    3\n",
    "\\end{bmatrix} $"
   ]
  },
  {
   "cell_type": "markdown",
   "metadata": {},
   "source": [
    "$ \\begin{bmatrix}\n",
    "    1*1 + (-1)*3\\\\\n",
    "    6*1 + (-4)*3\n",
    "\\end{bmatrix} $\n",
    "$ = $\n",
    "$ \\begin{bmatrix}\n",
    "    -2\\\\\n",
    "    -6\n",
    "\\end{bmatrix} $"
   ]
  },
  {
   "cell_type": "markdown",
   "metadata": {},
   "source": [
    "$ \\begin{bmatrix}\n",
    "    1-3\\\\\n",
    "    6-12\n",
    "\\end{bmatrix} $\n",
    "$ = $\n",
    "$ \\begin{bmatrix}\n",
    "    -2\\\\\n",
    "    -6\n",
    "\\end{bmatrix} $"
   ]
  },
  {
   "cell_type": "markdown",
   "metadata": {},
   "source": [
    "$ \\begin{bmatrix}\n",
    "    -2\\\\\n",
    "    -6\n",
    "\\end{bmatrix} $\n",
    "$ = $\n",
    "$ \\begin{bmatrix}\n",
    "    -2\\\\\n",
    "    -6\n",
    "\\end{bmatrix} $\n",
    "\n",
    "-2 Is the eigenvalue for eigenvector x."
   ]
  }
 ],
 "metadata": {
  "kernelspec": {
   "display_name": "Python 3",
   "language": "python",
   "name": "python3"
  },
  "language_info": {
   "codemirror_mode": {
    "name": "ipython",
    "version": 3
   },
   "file_extension": ".py",
   "mimetype": "text/x-python",
   "name": "python",
   "nbconvert_exporter": "python",
   "pygments_lexer": "ipython3",
   "version": "3.8.5"
  },
  "nbTranslate": {
   "displayLangs": [
    "en"
   ],
   "hotkey": "alt-t",
   "langInMainMenu": true,
   "sourceLang": "en",
   "targetLang": "fr",
   "useGoogleTranslate": true
  },
  "toc": {
   "base_numbering": 1,
   "nav_menu": {},
   "number_sections": true,
   "sideBar": true,
   "skip_h1_title": false,
   "title_cell": "Table of Contents",
   "title_sidebar": "Contents",
   "toc_cell": true,
   "toc_position": {},
   "toc_section_display": true,
   "toc_window_display": false
  }
 },
 "nbformat": 4,
 "nbformat_minor": 4
}
